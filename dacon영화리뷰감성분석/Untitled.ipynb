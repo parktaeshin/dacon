{
 "cells": [
  {
   "cell_type": "code",
   "execution_count": 1,
   "id": "ec4946f1",
   "metadata": {},
   "outputs": [],
   "source": [
    "import matplotlib.pyplot as plt\n",
    "\n",
    "plt.rcParams['xtick.color'] = 'white'\n",
    "plt.rcParams['ytick.color'] = 'white'\n",
    "plt.rcParams['axes.labelcolor'] = 'white'\n",
    "plt.rcParams['axes.titlecolor'] = 'white'\n",
    "plt.rcParams['figure.titlesize'] = 30\n"
   ]
  },
  {
   "cell_type": "code",
   "execution_count": 3,
   "id": "2a294811",
   "metadata": {},
   "outputs": [],
   "source": [
    "import pandas as pd \n",
    "import numpy as np\n",
    "import matplotlib.pyplot as plt\n",
    "%matplotlib inline \n",
    "import sys\n",
    "from konlpy.tag import Okt\n",
    "from collections import Counter\n",
    "from wordcloud import WordCloud"
   ]
  },
  {
   "cell_type": "code",
   "execution_count": 4,
   "id": "808264ef",
   "metadata": {},
   "outputs": [
    {
     "data": {
      "text/html": [
       "<div>\n",
       "<style scoped>\n",
       "    .dataframe tbody tr th:only-of-type {\n",
       "        vertical-align: middle;\n",
       "    }\n",
       "\n",
       "    .dataframe tbody tr th {\n",
       "        vertical-align: top;\n",
       "    }\n",
       "\n",
       "    .dataframe thead th {\n",
       "        text-align: right;\n",
       "    }\n",
       "</style>\n",
       "<table border=\"1\" class=\"dataframe\">\n",
       "  <thead>\n",
       "    <tr style=\"text-align: right;\">\n",
       "      <th></th>\n",
       "      <th>id</th>\n",
       "      <th>document</th>\n",
       "      <th>label</th>\n",
       "    </tr>\n",
       "  </thead>\n",
       "  <tbody>\n",
       "    <tr>\n",
       "      <th>0</th>\n",
       "      <td>1</td>\n",
       "      <td>영상이나 음악이 이쁘다 해도 미화시킨 불륜일뿐</td>\n",
       "      <td>0</td>\n",
       "    </tr>\n",
       "    <tr>\n",
       "      <th>1</th>\n",
       "      <td>2</td>\n",
       "      <td>히치콕이 이 영화를 봤다면 분명 박수를 쳤을듯...</td>\n",
       "      <td>1</td>\n",
       "    </tr>\n",
       "    <tr>\n",
       "      <th>2</th>\n",
       "      <td>3</td>\n",
       "      <td>괜찮은 음악영화가 또 나왔군요!!! 따뜻한 겨울이 될 것 같아요~</td>\n",
       "      <td>1</td>\n",
       "    </tr>\n",
       "    <tr>\n",
       "      <th>3</th>\n",
       "      <td>4</td>\n",
       "      <td>아무래도 20년도지난작품이라 지금보기는너무유치하다</td>\n",
       "      <td>0</td>\n",
       "    </tr>\n",
       "    <tr>\n",
       "      <th>4</th>\n",
       "      <td>5</td>\n",
       "      <td>지금까지의 영화들이 그랬듯. 이 영화역시 일본에 대한 미화는 여전하다.</td>\n",
       "      <td>0</td>\n",
       "    </tr>\n",
       "    <tr>\n",
       "      <th>...</th>\n",
       "      <td>...</td>\n",
       "      <td>...</td>\n",
       "      <td>...</td>\n",
       "    </tr>\n",
       "    <tr>\n",
       "      <th>4995</th>\n",
       "      <td>4996</td>\n",
       "      <td>좋은 배우들로 3류영화를 찍은 안타까운 영화</td>\n",
       "      <td>0</td>\n",
       "    </tr>\n",
       "    <tr>\n",
       "      <th>4996</th>\n",
       "      <td>4997</td>\n",
       "      <td>진짜 드럽게 재미없다 에드워드 호퍼 그림에 배경 빼고는 볼게 아닌영화</td>\n",
       "      <td>0</td>\n",
       "    </tr>\n",
       "    <tr>\n",
       "      <th>4997</th>\n",
       "      <td>4998</td>\n",
       "      <td>가장 실망스러운 영화.. 지금까지 본영화중..</td>\n",
       "      <td>0</td>\n",
       "    </tr>\n",
       "    <tr>\n",
       "      <th>4998</th>\n",
       "      <td>4999</td>\n",
       "      <td>이런 평점 테러, 네이버에서 좀 막아야 하는 것 아닌가?</td>\n",
       "      <td>1</td>\n",
       "    </tr>\n",
       "    <tr>\n",
       "      <th>4999</th>\n",
       "      <td>5000</td>\n",
       "      <td>여주인공이 전작에서는 귀여웠는데, 여기선 완전 망했네, 실망이다</td>\n",
       "      <td>0</td>\n",
       "    </tr>\n",
       "  </tbody>\n",
       "</table>\n",
       "<p>5000 rows × 3 columns</p>\n",
       "</div>"
      ],
      "text/plain": [
       "        id                                 document  label\n",
       "0        1                영상이나 음악이 이쁘다 해도 미화시킨 불륜일뿐      0\n",
       "1        2             히치콕이 이 영화를 봤다면 분명 박수를 쳤을듯...      1\n",
       "2        3     괜찮은 음악영화가 또 나왔군요!!! 따뜻한 겨울이 될 것 같아요~      1\n",
       "3        4              아무래도 20년도지난작품이라 지금보기는너무유치하다      0\n",
       "4        5  지금까지의 영화들이 그랬듯. 이 영화역시 일본에 대한 미화는 여전하다.      0\n",
       "...    ...                                      ...    ...\n",
       "4995  4996                 좋은 배우들로 3류영화를 찍은 안타까운 영화      0\n",
       "4996  4997   진짜 드럽게 재미없다 에드워드 호퍼 그림에 배경 빼고는 볼게 아닌영화      0\n",
       "4997  4998                가장 실망스러운 영화.. 지금까지 본영화중..      0\n",
       "4998  4999          이런 평점 테러, 네이버에서 좀 막아야 하는 것 아닌가?      1\n",
       "4999  5000      여주인공이 전작에서는 귀여웠는데, 여기선 완전 망했네, 실망이다      0\n",
       "\n",
       "[5000 rows x 3 columns]"
      ]
     },
     "execution_count": 4,
     "metadata": {},
     "output_type": "execute_result"
    }
   ],
   "source": [
    "data = pd.read_csv(\"./train.csv\")\n",
    "\n",
    "data"
   ]
  },
  {
   "cell_type": "code",
   "execution_count": 6,
   "id": "076f4420",
   "metadata": {},
   "outputs": [
    {
     "name": "stdout",
     "output_type": "stream",
     "text": [
      "결측치가 있는 컬럼 의 개수는 0 입니다\n",
      "결측치가 존재하지 않습니다\n",
      "[]\n"
     ]
    }
   ],
   "source": [
    "def check_missing_col(dataframe):\n",
    "    \n",
    "    missing_col = []\n",
    "    counted_missing_col = 0\n",
    "    for i, col in enumerate(dataframe.columns):\n",
    "        missing_values = sum(dataframe[col].isna())\n",
    "        is_missing = True if missing_values >= 1 else False\n",
    "        if is_missing:\n",
    "            counted_missing_col += 1\n",
    "            print(f'결측치가 있는 컬럼은: {col}입니다')\n",
    "            print(f'총 {missing_values}개의 결측치가 존재합니다.\\n')\n",
    "            missing_col.append([col, dataframe[col].dtype])\n",
    "    print(f'결측치가 있는 컬럼 의 개수는 {counted_missing_col} 입니다')\n",
    "\n",
    "    if counted_missing_col == 0:\n",
    "        print('결측치가 존재하지 않습니다')\n",
    "\n",
    "    return missing_col\n",
    "\n",
    "missing_col = check_missing_col(data)\n",
    "print(missing_col)\n"
   ]
  },
  {
   "cell_type": "code",
   "execution_count": 7,
   "id": "d0711b7c",
   "metadata": {},
   "outputs": [
    {
     "name": "stdout",
     "output_type": "stream",
     "text": [
      "<class 'pandas.core.frame.DataFrame'>\n",
      "RangeIndex: 5000 entries, 0 to 4999\n",
      "Data columns (total 3 columns):\n",
      " #   Column    Non-Null Count  Dtype \n",
      "---  ------    --------------  ----- \n",
      " 0   id        5000 non-null   int64 \n",
      " 1   document  5000 non-null   object\n",
      " 2   label     5000 non-null   int64 \n",
      "dtypes: int64(2), object(1)\n",
      "memory usage: 117.3+ KB\n"
     ]
    }
   ],
   "source": [
    "data.info()"
   ]
  },
  {
   "cell_type": "code",
   "execution_count": 8,
   "id": "313f667f",
   "metadata": {},
   "outputs": [
    {
     "name": "stdout",
     "output_type": "stream",
     "text": [
      "라벨 0인 리뷰 개수 :  2564\n",
      "라벨 1인 리뷰 개수 :  2436\n"
     ]
    }
   ],
   "source": [
    "val_count = data[\"label\"].value_counts()\n",
    "print(\"라벨 0인 리뷰 개수 : \" , val_count[0])\n",
    "print(\"라벨 1인 리뷰 개수 : \" , val_count[1])"
   ]
  },
  {
   "cell_type": "code",
   "execution_count": 9,
   "id": "2437a418",
   "metadata": {},
   "outputs": [],
   "source": [
    "import matplotlib.pyplot as plt # 그래프 그리기 위한 패키지\n",
    "%matplotlib inline\n",
    "plt.style.use(\"ggplot\")"
   ]
  },
  {
   "cell_type": "code",
   "execution_count": 11,
   "id": "c2df8536",
   "metadata": {},
   "outputs": [
    {
     "data": {
      "image/png": "[encoded data removed]",
      "text/plain": [
       "<Figure size 720x540 with 1 Axes>"
      ]
     },
     "metadata": {},
     "output_type": "display_data"
    }
   ],
   "source": [
    "# 히스토그램 을 사용해서 데이터의 분포를 살펴봅니다.\n",
    "feature = data['label']\n",
    "\n",
    "plt.figure(figsize=(10,7.5)) # 그래프 이미지 크기 설정\n",
    "plt.suptitle(\"Bar Plot\", fontsize=40) # 부제목과 폰트 크기 설정\n",
    "\n",
    "plt.title('label', fontsize=20) # 제목과 폰트 크기 설정\n",
    "temp = feature.value_counts() # feature 변수의 변수별 개수 계산\n",
    "plt.bar(temp.keys(), temp.values, width=0.5, color='b', alpha=0.5) # 막대그래프 생성\n",
    "plt.xticks(temp.keys(), fontsize=12) # x축 값, 폰트 크기 설정\n",
    "plt.tight_layout(rect=[0, 0.03, 1, 0.95]) # 레이아웃 설정\n",
    "plt.show() # 그래프 나타내기"
   ]
  },
  {
   "cell_type": "code",
   "execution_count": 12,
   "id": "c3af628e",
   "metadata": {},
   "outputs": [
    {
     "name": "stdout",
     "output_type": "stream",
     "text": [
      "리뷰의 평균 길이 : 27.1352\n"
     ]
    }
   ],
   "source": [
    "str_len_mean = np.mean(data[\"document\"].str.len())\n",
    "print(\"리뷰의 평균 길이 :\", str_len_mean)"
   ]
  },
  {
   "cell_type": "code",
   "execution_count": 28,
   "id": "6416aa7c",
   "metadata": {},
   "outputs": [
    {
     "data": {
      "text/plain": [
       "0       25\n",
       "1       28\n",
       "2       36\n",
       "3       27\n",
       "4       39\n",
       "        ..\n",
       "4995    24\n",
       "4996    38\n",
       "4997    25\n",
       "4998    31\n",
       "4999    35\n",
       "Name: document, Length: 5000, dtype: int64"
      ]
     },
     "execution_count": 28,
     "metadata": {},
     "output_type": "execute_result"
    }
   ],
   "source": [
    "data[\"document\"].str.len()"
   ]
  },
  {
   "cell_type": "code",
   "execution_count": 29,
   "id": "c3424c62",
   "metadata": {},
   "outputs": [
    {
     "data": {
      "text/plain": [
       "0       False\n",
       "1        True\n",
       "2        True\n",
       "3       False\n",
       "4       False\n",
       "        ...  \n",
       "4995    False\n",
       "4996    False\n",
       "4997    False\n",
       "4998     True\n",
       "4999    False\n",
       "Name: label, Length: 5000, dtype: bool"
      ]
     },
     "execution_count": 29,
     "metadata": {},
     "output_type": "execute_result"
    }
   ],
   "source": [
    "data.label == 1\n"
   ]
  },
  {
   "cell_type": "code",
   "execution_count": 39,
   "id": "cc5c2bb2",
   "metadata": {},
   "outputs": [],
   "source": [
    "mask_pos = (data.label == 1)\n",
    "mask_neg = (data.label == 0)\n",
    "\n",
    "df_train = data.document.copy()\n",
    "df_pos = data.loc[mask_pos,:].document\n",
    "df_neg = data.loc[mask_neg,:].document\n",
    "\n",
    "compare = [df_train,df_pos,df_neg]"
   ]
  },
  {
   "cell_type": "code",
   "execution_count": 36,
   "id": "9e773ba6",
   "metadata": {},
   "outputs": [
    {
     "data": {
      "text/plain": [
       "pandas.core.series.Series"
      ]
     },
     "execution_count": 36,
     "metadata": {},
     "output_type": "execute_result"
    }
   ],
   "source": [
    "plt.figure(figsize=(20,7.5))\n",
    "plt.suptitle(\"Histogram: review length\", fontsize=40)\n",
    "name = ['total dataset', 'positive reviews', 'negative reviews'] # 제목으로 사용할 문자열\n",
    "\n",
    "for i in range(len(compare)):\n",
    "    document = compare[i]\n",
    "    string_len = [len(x) for x in document]"
   ]
  },
  {
   "cell_type": "code",
   "execution_count": 42,
   "id": "4146e751",
   "metadata": {},
   "outputs": [
    {
     "data": {
      "text/plain": [
       "3"
      ]
     },
     "execution_count": 42,
     "metadata": {},
     "output_type": "execute_result"
    }
   ],
   "source": [
    "len(compare)"
   ]
  },
  {
   "cell_type": "code",
   "execution_count": 43,
   "id": "cde5abed",
   "metadata": {},
   "outputs": [
    {
     "data": {
      "image/png": "[encoded data removed]",
      "text/plain": [
       "<Figure size 1440x540 with 3 Axes>"
      ]
     },
     "metadata": {},
     "output_type": "display_data"
    }
   ],
   "source": [
    "# 히스토그램 을 사용해서 데이터의 분포를 살펴봅니다.\n",
    "plt.figure(figsize=(20,7.5))\n",
    "plt.suptitle(\"Histogram: review length\", fontsize=40)\n",
    "name = ['total dataset', 'positive reviews', 'negative reviews'] # 제목으로 사용할 문자열\n",
    "\n",
    "for i in range(len(compare)):\n",
    "    document = compare[i]\n",
    "    string_len = [len(x) for x in document]    \n",
    "    plt.subplot(1,3,i+1) # 행 개수/ 열 개수/ 해당 그래프 표시 순서\n",
    "    plt.title(name[i], fontsize=20)\n",
    "    plt.axis([16, 42, 0, 800])  #x축 시작, 끝 / y축 시작, 끝\n",
    "    plt.hist(string_len, alpha=0.5, color='orange') # 히스토그램 생성, alpha: 그래프의 투명도 조절\n",
    "    \n",
    "plt.tight_layout(rect=[0, 0.03, 1, 0.95])\n",
    "plt.show()"
   ]
  },
  {
   "cell_type": "code",
   "execution_count": 44,
   "id": "dc0d91bd",
   "metadata": {},
   "outputs": [
    {
     "data": {
      "text/plain": [
       "0                     [영상이나, 음악이, 이쁘다, 해도, 미화시킨, 불륜일뿐]\n",
       "1                 [히치콕이, 이, 영화를, 봤다면, 분명, 박수를, 쳤을듯...]\n",
       "2       [괜찮은, 음악영화가, 또, 나왔군요!!!, 따뜻한, 겨울이, 될, 것, 같아요~]\n",
       "3                      [아무래도, 20년도지난작품이라, 지금보기는너무유치하다]\n",
       "4    [지금까지의, 영화들이, 그랬듯., 이, 영화역시, 일본에, 대한, 미화는, 여전하다.]\n",
       "Name: document, dtype: object"
      ]
     },
     "execution_count": 44,
     "metadata": {},
     "output_type": "execute_result"
    }
   ],
   "source": [
    "word_split = data['document'].str.split() # 공백을 기준으로 문자열을 분리해줍니다.\n",
    "word_split[:5] # 상위 5개 값 확인"
   ]
  },
  {
   "cell_type": "code",
   "execution_count": 47,
   "id": "a96a4a3a",
   "metadata": {},
   "outputs": [
    {
     "data": {
      "text/plain": [
       "0                        [영상이나, 음악이, 이쁘다, 해도, 미화시킨, 불륜일뿐]\n",
       "1                    [히치콕이, 이, 영화를, 봤다면, 분명, 박수를, 쳤을듯...]\n",
       "2          [괜찮은, 음악영화가, 또, 나왔군요!!!, 따뜻한, 겨울이, 될, 것, 같아요~]\n",
       "3                         [아무래도, 20년도지난작품이라, 지금보기는너무유치하다]\n",
       "4       [지금까지의, 영화들이, 그랬듯., 이, 영화역시, 일본에, 대한, 미화는, 여전하다.]\n",
       "                              ...                        \n",
       "4995                      [좋은, 배우들로, 3류영화를, 찍은, 안타까운, 영화]\n",
       "4996    [진짜, 드럽게, 재미없다, 에드워드, 호퍼, 그림에, 배경, 빼고는, 볼게, 아닌영화]\n",
       "4997                      [가장, 실망스러운, 영화.., 지금까지, 본영화중..]\n",
       "4998            [이런, 평점, 테러,, 네이버에서, 좀, 막아야, 하는, 것, 아닌가?]\n",
       "4999          [여주인공이, 전작에서는, 귀여웠는데,, 여기선, 완전, 망했네,, 실망이다]\n",
       "Name: document, Length: 5000, dtype: object"
      ]
     },
     "execution_count": 47,
     "metadata": {},
     "output_type": "execute_result"
    }
   ],
   "source": [
    "data[\"document\"].str.split()"
   ]
  },
  {
   "cell_type": "code",
   "execution_count": 48,
   "id": "467d0f0b",
   "metadata": {},
   "outputs": [
    {
     "data": {
      "image/png": "[encoded data removed]",
      "text/plain": [
       "<Figure size 1440x540 with 3 Axes>"
      ]
     },
     "metadata": {},
     "output_type": "display_data"
    }
   ],
   "source": [
    "# 히스토그램 을 사용해서 데이터의 분포를 살펴봅니다.\n",
    "plt.figure(figsize=(20,7.5))\n",
    "plt.suptitle(\"Histogram: word count\", fontsize=40)\n",
    "name = ['total dataset', 'positive reviews', 'negative reviews'] # 제목으로 사용할 문자열\n",
    "\n",
    "for i in range(len(compare)):\n",
    "    document = compare[i]\n",
    "    split = document.str.split()\n",
    "    split_len = [len(x) for x in split] \n",
    "    plt.subplot(1,3,i+1) # 행 개수/ 열 개수/ 해당 그래프 표시 순서\n",
    "    plt.title(name[i], fontsize=20)\n",
    "    plt.axis([1, 15, 0, 1750])  #x축 시작, 끝 / y축 시작, 끝\n",
    "    plt.hist(split_len, alpha=0.5, color='purple')\n",
    "    \n",
    "plt.tight_layout(rect=[0, 0.03, 1, 0.95])\n",
    "plt.show()"
   ]
  },
  {
   "cell_type": "code",
   "execution_count": null,
   "id": "04a99f1e",
   "metadata": {},
   "outputs": [],
   "source": []
  }
 ],
 "metadata": {
  "kernelspec": {
   "display_name": "Python 3",
   "language": "python",
   "name": "python3"
  },
  "language_info": {
   "codemirror_mode": {
    "name": "ipython",
    "version": 3
   },
   "file_extension": ".py",
   "mimetype": "text/x-python",
   "name": "python",
   "nbconvert_exporter": "python",
   "pygments_lexer": "ipython3",
   "version": "3.8.8"
  }
 },
 "nbformat": 4,
 "nbformat_minor": 5
}
