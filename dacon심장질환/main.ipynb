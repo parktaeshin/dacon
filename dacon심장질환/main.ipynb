{
 "cells": [
  {
   "cell_type": "code",
   "execution_count": 4,
   "id": "cec4dd1c",
   "metadata": {},
   "outputs": [],
   "source": [
    "import pandas as pd\n",
    "import numpy as np\n",
    "import os\n",
    "\n",
    "import matplotlib.pyplot as plt\n",
    "import seaborn as sns\n",
    "import warnings\n",
    "warnings.filterwarnings('ignore')"
   ]
  },
  {
   "cell_type": "code",
   "execution_count": 3,
   "id": "16e809e3",
   "metadata": {},
   "outputs": [],
   "source": [
    "plt.rcParams['xtick.color'] = 'white'\n",
    "plt.rcParams['ytick.color'] = 'white'\n",
    "plt.rcParams['axes.labelcolor'] = 'white'\n",
    "plt.rcParams['axes.titlecolor'] = 'white'\n",
    "plt.rcParams['figure.titlesize'] = 30\n"
   ]
  },
  {
   "cell_type": "code",
   "execution_count": 5,
   "id": "f19fcd68",
   "metadata": {},
   "outputs": [],
   "source": [
    "train = pd.read_csv(\"./dataset/train.csv\")\n",
    "test = pd.read_csv('./dataset/test.csv')\n",
    "submission = pd.read_csv(\"./dataset/sample_submission.csv\")"
   ]
  },
  {
   "cell_type": "code",
   "execution_count": 6,
   "id": "f0f264ba",
   "metadata": {},
   "outputs": [
    {
     "data": {
      "text/html": [
       "<div>\n",
       "<style scoped>\n",
       "    .dataframe tbody tr th:only-of-type {\n",
       "        vertical-align: middle;\n",
       "    }\n",
       "\n",
       "    .dataframe tbody tr th {\n",
       "        vertical-align: top;\n",
       "    }\n",
       "\n",
       "    .dataframe thead th {\n",
       "        text-align: right;\n",
       "    }\n",
       "</style>\n",
       "<table border=\"1\" class=\"dataframe\">\n",
       "  <thead>\n",
       "    <tr style=\"text-align: right;\">\n",
       "      <th></th>\n",
       "      <th>id</th>\n",
       "      <th>age</th>\n",
       "      <th>sex</th>\n",
       "      <th>cp</th>\n",
       "      <th>trestbps</th>\n",
       "      <th>chol</th>\n",
       "      <th>fbs</th>\n",
       "      <th>restecg</th>\n",
       "      <th>thalach</th>\n",
       "      <th>exang</th>\n",
       "      <th>oldpeak</th>\n",
       "      <th>slope</th>\n",
       "      <th>ca</th>\n",
       "      <th>thal</th>\n",
       "      <th>target</th>\n",
       "    </tr>\n",
       "  </thead>\n",
       "  <tbody>\n",
       "    <tr>\n",
       "      <th>0</th>\n",
       "      <td>1</td>\n",
       "      <td>53</td>\n",
       "      <td>1</td>\n",
       "      <td>2</td>\n",
       "      <td>130</td>\n",
       "      <td>197</td>\n",
       "      <td>1</td>\n",
       "      <td>0</td>\n",
       "      <td>152</td>\n",
       "      <td>0</td>\n",
       "      <td>1.2</td>\n",
       "      <td>0</td>\n",
       "      <td>0</td>\n",
       "      <td>2</td>\n",
       "      <td>1</td>\n",
       "    </tr>\n",
       "    <tr>\n",
       "      <th>1</th>\n",
       "      <td>2</td>\n",
       "      <td>52</td>\n",
       "      <td>1</td>\n",
       "      <td>3</td>\n",
       "      <td>152</td>\n",
       "      <td>298</td>\n",
       "      <td>1</td>\n",
       "      <td>1</td>\n",
       "      <td>178</td>\n",
       "      <td>0</td>\n",
       "      <td>1.2</td>\n",
       "      <td>1</td>\n",
       "      <td>0</td>\n",
       "      <td>3</td>\n",
       "      <td>1</td>\n",
       "    </tr>\n",
       "    <tr>\n",
       "      <th>2</th>\n",
       "      <td>3</td>\n",
       "      <td>54</td>\n",
       "      <td>1</td>\n",
       "      <td>1</td>\n",
       "      <td>192</td>\n",
       "      <td>283</td>\n",
       "      <td>0</td>\n",
       "      <td>0</td>\n",
       "      <td>195</td>\n",
       "      <td>0</td>\n",
       "      <td>0.0</td>\n",
       "      <td>2</td>\n",
       "      <td>1</td>\n",
       "      <td>3</td>\n",
       "      <td>0</td>\n",
       "    </tr>\n",
       "    <tr>\n",
       "      <th>3</th>\n",
       "      <td>4</td>\n",
       "      <td>45</td>\n",
       "      <td>0</td>\n",
       "      <td>0</td>\n",
       "      <td>138</td>\n",
       "      <td>236</td>\n",
       "      <td>0</td>\n",
       "      <td>0</td>\n",
       "      <td>152</td>\n",
       "      <td>1</td>\n",
       "      <td>0.2</td>\n",
       "      <td>1</td>\n",
       "      <td>0</td>\n",
       "      <td>2</td>\n",
       "      <td>1</td>\n",
       "    </tr>\n",
       "    <tr>\n",
       "      <th>4</th>\n",
       "      <td>5</td>\n",
       "      <td>35</td>\n",
       "      <td>1</td>\n",
       "      <td>1</td>\n",
       "      <td>122</td>\n",
       "      <td>192</td>\n",
       "      <td>0</td>\n",
       "      <td>1</td>\n",
       "      <td>174</td>\n",
       "      <td>0</td>\n",
       "      <td>0.0</td>\n",
       "      <td>2</td>\n",
       "      <td>0</td>\n",
       "      <td>2</td>\n",
       "      <td>1</td>\n",
       "    </tr>\n",
       "  </tbody>\n",
       "</table>\n",
       "</div>"
      ],
      "text/plain": [
       "   id  age  sex  cp  trestbps  chol  fbs  restecg  thalach  exang  oldpeak  \\\n",
       "0   1   53    1   2       130   197    1        0      152      0      1.2   \n",
       "1   2   52    1   3       152   298    1        1      178      0      1.2   \n",
       "2   3   54    1   1       192   283    0        0      195      0      0.0   \n",
       "3   4   45    0   0       138   236    0        0      152      1      0.2   \n",
       "4   5   35    1   1       122   192    0        1      174      0      0.0   \n",
       "\n",
       "   slope  ca  thal  target  \n",
       "0      0   0     2       1  \n",
       "1      1   0     3       1  \n",
       "2      2   1     3       0  \n",
       "3      1   0     2       1  \n",
       "4      2   0     2       1  "
      ]
     },
     "execution_count": 6,
     "metadata": {},
     "output_type": "execute_result"
    }
   ],
   "source": [
    "train.head()"
   ]
  },
  {
   "cell_type": "code",
   "execution_count": 7,
   "id": "7180c125",
   "metadata": {},
   "outputs": [
    {
     "name": "stdout",
     "output_type": "stream",
     "text": [
      "<class 'pandas.core.frame.DataFrame'>\n",
      "RangeIndex: 151 entries, 0 to 150\n",
      "Data columns (total 15 columns):\n",
      " #   Column    Non-Null Count  Dtype  \n",
      "---  ------    --------------  -----  \n",
      " 0   id        151 non-null    int64  \n",
      " 1   age       151 non-null    int64  \n",
      " 2   sex       151 non-null    int64  \n",
      " 3   cp        151 non-null    int64  \n",
      " 4   trestbps  151 non-null    int64  \n",
      " 5   chol      151 non-null    int64  \n",
      " 6   fbs       151 non-null    int64  \n",
      " 7   restecg   151 non-null    int64  \n",
      " 8   thalach   151 non-null    int64  \n",
      " 9   exang     151 non-null    int64  \n",
      " 10  oldpeak   151 non-null    float64\n",
      " 11  slope     151 non-null    int64  \n",
      " 12  ca        151 non-null    int64  \n",
      " 13  thal      151 non-null    int64  \n",
      " 14  target    151 non-null    int64  \n",
      "dtypes: float64(1), int64(14)\n",
      "memory usage: 17.8 KB\n"
     ]
    }
   ],
   "source": [
    "train.info()"
   ]
  },
  {
   "cell_type": "code",
   "execution_count": 10,
   "id": "14d1c110",
   "metadata": {},
   "outputs": [
    {
     "name": "stdout",
     "output_type": "stream",
     "text": [
      "<class 'pandas.core.frame.DataFrame'>\n",
      "RangeIndex: 152 entries, 0 to 151\n",
      "Data columns (total 14 columns):\n",
      " #   Column    Non-Null Count  Dtype  \n",
      "---  ------    --------------  -----  \n",
      " 0   id        152 non-null    int64  \n",
      " 1   age       152 non-null    int64  \n",
      " 2   sex       152 non-null    int64  \n",
      " 3   cp        152 non-null    int64  \n",
      " 4   trestbps  152 non-null    int64  \n",
      " 5   chol      152 non-null    int64  \n",
      " 6   fbs       152 non-null    int64  \n",
      " 7   restecg   152 non-null    int64  \n",
      " 8   thalach   152 non-null    int64  \n",
      " 9   exang     152 non-null    int64  \n",
      " 10  oldpeak   152 non-null    float64\n",
      " 11  slope     152 non-null    int64  \n",
      " 12  ca        152 non-null    int64  \n",
      " 13  thal      152 non-null    int64  \n",
      "dtypes: float64(1), int64(13)\n",
      "memory usage: 16.8 KB\n"
     ]
    }
   ],
   "source": [
    "test.info()"
   ]
  },
  {
   "cell_type": "code",
   "execution_count": 11,
   "id": "619babcf",
   "metadata": {},
   "outputs": [
    {
     "data": {
      "text/html": [
       "<div>\n",
       "<style scoped>\n",
       "    .dataframe tbody tr th:only-of-type {\n",
       "        vertical-align: middle;\n",
       "    }\n",
       "\n",
       "    .dataframe tbody tr th {\n",
       "        vertical-align: top;\n",
       "    }\n",
       "\n",
       "    .dataframe thead th {\n",
       "        text-align: right;\n",
       "    }\n",
       "</style>\n",
       "<table border=\"1\" class=\"dataframe\">\n",
       "  <thead>\n",
       "    <tr style=\"text-align: right;\">\n",
       "      <th></th>\n",
       "      <th>id</th>\n",
       "      <th>age</th>\n",
       "      <th>sex</th>\n",
       "      <th>cp</th>\n",
       "      <th>trestbps</th>\n",
       "      <th>chol</th>\n",
       "      <th>fbs</th>\n",
       "      <th>restecg</th>\n",
       "      <th>thalach</th>\n",
       "      <th>exang</th>\n",
       "      <th>oldpeak</th>\n",
       "      <th>slope</th>\n",
       "      <th>ca</th>\n",
       "      <th>thal</th>\n",
       "      <th>target</th>\n",
       "    </tr>\n",
       "  </thead>\n",
       "  <tbody>\n",
       "    <tr>\n",
       "      <th>count</th>\n",
       "      <td>151.000000</td>\n",
       "      <td>151.000000</td>\n",
       "      <td>151.000000</td>\n",
       "      <td>151.000000</td>\n",
       "      <td>151.000000</td>\n",
       "      <td>151.000000</td>\n",
       "      <td>151.000000</td>\n",
       "      <td>151.000000</td>\n",
       "      <td>151.000000</td>\n",
       "      <td>151.000000</td>\n",
       "      <td>151.000000</td>\n",
       "      <td>151.000000</td>\n",
       "      <td>151.000000</td>\n",
       "      <td>151.000000</td>\n",
       "      <td>151.000000</td>\n",
       "    </tr>\n",
       "    <tr>\n",
       "      <th>mean</th>\n",
       "      <td>76.000000</td>\n",
       "      <td>54.496689</td>\n",
       "      <td>0.682119</td>\n",
       "      <td>1.066225</td>\n",
       "      <td>132.033113</td>\n",
       "      <td>244.529801</td>\n",
       "      <td>0.158940</td>\n",
       "      <td>0.509934</td>\n",
       "      <td>150.629139</td>\n",
       "      <td>0.324503</td>\n",
       "      <td>0.976821</td>\n",
       "      <td>1.377483</td>\n",
       "      <td>0.602649</td>\n",
       "      <td>2.317881</td>\n",
       "      <td>0.549669</td>\n",
       "    </tr>\n",
       "    <tr>\n",
       "      <th>std</th>\n",
       "      <td>43.734045</td>\n",
       "      <td>8.904586</td>\n",
       "      <td>0.467202</td>\n",
       "      <td>1.056213</td>\n",
       "      <td>17.909929</td>\n",
       "      <td>56.332206</td>\n",
       "      <td>0.366837</td>\n",
       "      <td>0.514685</td>\n",
       "      <td>23.466463</td>\n",
       "      <td>0.469747</td>\n",
       "      <td>1.085998</td>\n",
       "      <td>0.640226</td>\n",
       "      <td>0.917093</td>\n",
       "      <td>0.604107</td>\n",
       "      <td>0.499183</td>\n",
       "    </tr>\n",
       "    <tr>\n",
       "      <th>min</th>\n",
       "      <td>1.000000</td>\n",
       "      <td>34.000000</td>\n",
       "      <td>0.000000</td>\n",
       "      <td>0.000000</td>\n",
       "      <td>94.000000</td>\n",
       "      <td>131.000000</td>\n",
       "      <td>0.000000</td>\n",
       "      <td>0.000000</td>\n",
       "      <td>88.000000</td>\n",
       "      <td>0.000000</td>\n",
       "      <td>0.000000</td>\n",
       "      <td>0.000000</td>\n",
       "      <td>0.000000</td>\n",
       "      <td>0.000000</td>\n",
       "      <td>0.000000</td>\n",
       "    </tr>\n",
       "    <tr>\n",
       "      <th>25%</th>\n",
       "      <td>38.500000</td>\n",
       "      <td>48.500000</td>\n",
       "      <td>0.000000</td>\n",
       "      <td>0.000000</td>\n",
       "      <td>120.000000</td>\n",
       "      <td>208.000000</td>\n",
       "      <td>0.000000</td>\n",
       "      <td>0.000000</td>\n",
       "      <td>136.500000</td>\n",
       "      <td>0.000000</td>\n",
       "      <td>0.000000</td>\n",
       "      <td>1.000000</td>\n",
       "      <td>0.000000</td>\n",
       "      <td>2.000000</td>\n",
       "      <td>0.000000</td>\n",
       "    </tr>\n",
       "    <tr>\n",
       "      <th>50%</th>\n",
       "      <td>76.000000</td>\n",
       "      <td>54.000000</td>\n",
       "      <td>1.000000</td>\n",
       "      <td>1.000000</td>\n",
       "      <td>130.000000</td>\n",
       "      <td>239.000000</td>\n",
       "      <td>0.000000</td>\n",
       "      <td>1.000000</td>\n",
       "      <td>155.000000</td>\n",
       "      <td>0.000000</td>\n",
       "      <td>0.800000</td>\n",
       "      <td>1.000000</td>\n",
       "      <td>0.000000</td>\n",
       "      <td>2.000000</td>\n",
       "      <td>1.000000</td>\n",
       "    </tr>\n",
       "    <tr>\n",
       "      <th>75%</th>\n",
       "      <td>113.500000</td>\n",
       "      <td>61.000000</td>\n",
       "      <td>1.000000</td>\n",
       "      <td>2.000000</td>\n",
       "      <td>140.000000</td>\n",
       "      <td>270.000000</td>\n",
       "      <td>0.000000</td>\n",
       "      <td>1.000000</td>\n",
       "      <td>168.000000</td>\n",
       "      <td>1.000000</td>\n",
       "      <td>1.600000</td>\n",
       "      <td>2.000000</td>\n",
       "      <td>1.000000</td>\n",
       "      <td>3.000000</td>\n",
       "      <td>1.000000</td>\n",
       "    </tr>\n",
       "    <tr>\n",
       "      <th>max</th>\n",
       "      <td>151.000000</td>\n",
       "      <td>77.000000</td>\n",
       "      <td>1.000000</td>\n",
       "      <td>3.000000</td>\n",
       "      <td>192.000000</td>\n",
       "      <td>564.000000</td>\n",
       "      <td>1.000000</td>\n",
       "      <td>2.000000</td>\n",
       "      <td>195.000000</td>\n",
       "      <td>1.000000</td>\n",
       "      <td>5.600000</td>\n",
       "      <td>2.000000</td>\n",
       "      <td>3.000000</td>\n",
       "      <td>3.000000</td>\n",
       "      <td>1.000000</td>\n",
       "    </tr>\n",
       "  </tbody>\n",
       "</table>\n",
       "</div>"
      ],
      "text/plain": [
       "               id         age         sex          cp    trestbps        chol  \\\n",
       "count  151.000000  151.000000  151.000000  151.000000  151.000000  151.000000   \n",
       "mean    76.000000   54.496689    0.682119    1.066225  132.033113  244.529801   \n",
       "std     43.734045    8.904586    0.467202    1.056213   17.909929   56.332206   \n",
       "min      1.000000   34.000000    0.000000    0.000000   94.000000  131.000000   \n",
       "25%     38.500000   48.500000    0.000000    0.000000  120.000000  208.000000   \n",
       "50%     76.000000   54.000000    1.000000    1.000000  130.000000  239.000000   \n",
       "75%    113.500000   61.000000    1.000000    2.000000  140.000000  270.000000   \n",
       "max    151.000000   77.000000    1.000000    3.000000  192.000000  564.000000   \n",
       "\n",
       "              fbs     restecg     thalach       exang     oldpeak       slope  \\\n",
       "count  151.000000  151.000000  151.000000  151.000000  151.000000  151.000000   \n",
       "mean     0.158940    0.509934  150.629139    0.324503    0.976821    1.377483   \n",
       "std      0.366837    0.514685   23.466463    0.469747    1.085998    0.640226   \n",
       "min      0.000000    0.000000   88.000000    0.000000    0.000000    0.000000   \n",
       "25%      0.000000    0.000000  136.500000    0.000000    0.000000    1.000000   \n",
       "50%      0.000000    1.000000  155.000000    0.000000    0.800000    1.000000   \n",
       "75%      0.000000    1.000000  168.000000    1.000000    1.600000    2.000000   \n",
       "max      1.000000    2.000000  195.000000    1.000000    5.600000    2.000000   \n",
       "\n",
       "               ca        thal      target  \n",
       "count  151.000000  151.000000  151.000000  \n",
       "mean     0.602649    2.317881    0.549669  \n",
       "std      0.917093    0.604107    0.499183  \n",
       "min      0.000000    0.000000    0.000000  \n",
       "25%      0.000000    2.000000    0.000000  \n",
       "50%      0.000000    2.000000    1.000000  \n",
       "75%      1.000000    3.000000    1.000000  \n",
       "max      3.000000    3.000000    1.000000  "
      ]
     },
     "execution_count": 11,
     "metadata": {},
     "output_type": "execute_result"
    }
   ],
   "source": [
    "train.describe()"
   ]
  },
  {
   "cell_type": "code",
   "execution_count": 36,
   "id": "7da64d9b",
   "metadata": {},
   "outputs": [
    {
     "data": {
      "image/png": "[encoded data removed]",
      "text/plain": [
       "<Figure size 1296x576 with 2 Axes>"
      ]
     },
     "metadata": {
      "needs_background": "dark"
     },
     "output_type": "display_data"
    }
   ],
   "source": [
    "fig,ax = plt.subplots(1,2,figsize = (18,8))\n",
    "train[\"target\"].value_counts().plot.pie(explode = [0,0.1], autopct = \"%1.1f%%\", ax = ax[0], shadow = True)\n",
    "\n",
    "ax[0].set_title(\"Target\")\n",
    "ax[0].set_ylabel(\"\")\n",
    "\n",
    "sns.countplot(\"target\", data = train, ax = ax[1])\n",
    "ax[1].set_title(\"Target\")\n",
    "plt.show()"
   ]
  },
  {
   "cell_type": "code",
   "execution_count": 43,
   "id": "34b8c254",
   "metadata": {},
   "outputs": [
    {
     "data": {
      "image/png": "[encoded data removed]",
      "text/plain": [
       "<Figure size 1296x576 with 2 Axes>"
      ]
     },
     "metadata": {
      "needs_background": "dark"
     },
     "output_type": "display_data"
    }
   ],
   "source": [
    "fig, ax = plt.subplots(1,2, figsize = (18,8))\n",
    "train[\"cp\"].value_counts().plot.pie(shadow = True, autopct = \"%1.1f%%\", ax = ax[0])\n",
    "\n",
    "ax[0].set_title(\"cp\")\n",
    "ax[0].set_ylabel(\"\")\n",
    "\n",
    "sns.countplot(\"cp\", data = train, ax = ax[1])\n",
    "ax[1].set_title(\"cp\")\n",
    "plt.show()"
   ]
  },
  {
   "cell_type": "code",
   "execution_count": 46,
   "id": "ba508e80",
   "metadata": {},
   "outputs": [
    {
     "data": {
      "text/plain": [
       "cp  target\n",
       "0   0         48\n",
       "    1         17\n",
       "1   0          7\n",
       "    1         18\n",
       "2   0          8\n",
       "    1         39\n",
       "3   0          5\n",
       "    1          9\n",
       "Name: target, dtype: int64"
      ]
     },
     "execution_count": 46,
     "metadata": {},
     "output_type": "execute_result"
    }
   ],
   "source": [
    "train.groupby([\"cp\",\"target\"])[\"target\"].count()"
   ]
  },
  {
   "cell_type": "code",
   "execution_count": 47,
   "id": "52e98600",
   "metadata": {},
   "outputs": [
    {
     "data": {
      "text/html": [
       "<div>\n",
       "<style scoped>\n",
       "    .dataframe tbody tr th:only-of-type {\n",
       "        vertical-align: middle;\n",
       "    }\n",
       "\n",
       "    .dataframe tbody tr th {\n",
       "        vertical-align: top;\n",
       "    }\n",
       "\n",
       "    .dataframe thead th {\n",
       "        text-align: right;\n",
       "    }\n",
       "</style>\n",
       "<table border=\"1\" class=\"dataframe\">\n",
       "  <thead>\n",
       "    <tr style=\"text-align: right;\">\n",
       "      <th></th>\n",
       "      <th>target</th>\n",
       "    </tr>\n",
       "    <tr>\n",
       "      <th>cp</th>\n",
       "      <th></th>\n",
       "    </tr>\n",
       "  </thead>\n",
       "  <tbody>\n",
       "    <tr>\n",
       "      <th>0</th>\n",
       "      <td>0.261538</td>\n",
       "    </tr>\n",
       "    <tr>\n",
       "      <th>1</th>\n",
       "      <td>0.720000</td>\n",
       "    </tr>\n",
       "    <tr>\n",
       "      <th>2</th>\n",
       "      <td>0.829787</td>\n",
       "    </tr>\n",
       "    <tr>\n",
       "      <th>3</th>\n",
       "      <td>0.642857</td>\n",
       "    </tr>\n",
       "  </tbody>\n",
       "</table>\n",
       "</div>"
      ],
      "text/plain": [
       "      target\n",
       "cp          \n",
       "0   0.261538\n",
       "1   0.720000\n",
       "2   0.829787\n",
       "3   0.642857"
      ]
     },
     "execution_count": 47,
     "metadata": {},
     "output_type": "execute_result"
    }
   ],
   "source": [
    "train[[\"cp\",\"target\"]].groupby([\"cp\"]).mean()"
   ]
  },
  {
   "cell_type": "code",
   "execution_count": 52,
   "id": "dd03e7fb",
   "metadata": {},
   "outputs": [
    {
     "data": {
      "image/png": "[encoded data removed]",
      "text/plain": [
       "<Figure size 1296x576 with 2 Axes>"
      ]
     },
     "metadata": {
      "needs_background": "dark"
     },
     "output_type": "display_data"
    }
   ],
   "source": [
    "fig, ax = plt.subplots(1,2, figsize = (18,8))\n",
    "train[[\"cp\", \"target\"]].groupby([\"cp\"]).mean().plot.bar(ax=ax[0],rot = 0)\n",
    "ax[0].set_title(\"cp VS target\")\n",
    "\n",
    "sns.countplot(\"cp\", hue = \"target\", data = train, ax = ax[1])\n",
    "ax[1].set_title(\"cp : Disease VS Not Disease\")\n",
    "plt.show()"
   ]
  },
  {
   "cell_type": "code",
   "execution_count": 60,
   "id": "778bea59",
   "metadata": {},
   "outputs": [
    {
     "data": {
      "text/html": [
       "<style  type=\"text/css\" >\n",
       "#T_73270_row0_col0,#T_73270_row0_col1,#T_73270_row0_col2{\n",
       "            background-color:  #ffff66;\n",
       "            color:  #000000;\n",
       "        }#T_73270_row1_col0{\n",
       "            background-color:  #3c9e66;\n",
       "            color:  #000000;\n",
       "        }#T_73270_row1_col1{\n",
       "            background-color:  #badc66;\n",
       "            color:  #000000;\n",
       "        }#T_73270_row1_col2{\n",
       "            background-color:  #77bb66;\n",
       "            color:  #000000;\n",
       "        }#T_73270_row2_col0,#T_73270_row2_col1,#T_73270_row2_col2{\n",
       "            background-color:  #008066;\n",
       "            color:  #f1f1f1;\n",
       "        }</style><table id=\"T_73270_\" ><thead>    <tr>        <th class=\"index_name level0\" >target</th>        <th class=\"col_heading level0 col0\" >0</th>        <th class=\"col_heading level0 col1\" >1</th>        <th class=\"col_heading level0 col2\" >All</th>    </tr>    <tr>        <th class=\"index_name level0\" >sex</th>        <th class=\"blank\" ></th>        <th class=\"blank\" ></th>        <th class=\"blank\" ></th>    </tr></thead><tbody>\n",
       "                <tr>\n",
       "                        <th id=\"T_73270_level0_row0\" class=\"row_heading level0 row0\" >0</th>\n",
       "                        <td id=\"T_73270_row0_col0\" class=\"data row0 col0\" >13</td>\n",
       "                        <td id=\"T_73270_row0_col1\" class=\"data row0 col1\" >35</td>\n",
       "                        <td id=\"T_73270_row0_col2\" class=\"data row0 col2\" >48</td>\n",
       "            </tr>\n",
       "            <tr>\n",
       "                        <th id=\"T_73270_level0_row1\" class=\"row_heading level0 row1\" >1</th>\n",
       "                        <td id=\"T_73270_row1_col0\" class=\"data row1 col0\" >55</td>\n",
       "                        <td id=\"T_73270_row1_col1\" class=\"data row1 col1\" >48</td>\n",
       "                        <td id=\"T_73270_row1_col2\" class=\"data row1 col2\" >103</td>\n",
       "            </tr>\n",
       "            <tr>\n",
       "                        <th id=\"T_73270_level0_row2\" class=\"row_heading level0 row2\" >All</th>\n",
       "                        <td id=\"T_73270_row2_col0\" class=\"data row2 col0\" >68</td>\n",
       "                        <td id=\"T_73270_row2_col1\" class=\"data row2 col1\" >83</td>\n",
       "                        <td id=\"T_73270_row2_col2\" class=\"data row2 col2\" >151</td>\n",
       "            </tr>\n",
       "    </tbody></table>"
      ],
      "text/plain": [
       "<pandas.io.formats.style.Styler at 0x21378a59370>"
      ]
     },
     "execution_count": 60,
     "metadata": {},
     "output_type": "execute_result"
    }
   ],
   "source": [
    "pd.crosstab(train.sex, train.target,margins = True).style.background_gradient(cmap=\"summer_r\")"
   ]
  },
  {
   "cell_type": "code",
   "execution_count": 73,
   "id": "1a59ab54",
   "metadata": {},
   "outputs": [
    {
     "data": {
      "image/png": "[encoded data removed]",
      "text/plain": [
       "<Figure size 1296x576 with 2 Axes>"
      ]
     },
     "metadata": {
      "needs_background": "dark"
     },
     "output_type": "display_data"
    }
   ],
   "source": [
    "fig,ax = plt.subplots(1,2,figsize =(18,8))\n",
    "train.sex.value_counts().plot.bar(color = ['#CD7F32', '#CD2ECD', '#D31232'],ax = ax[0],rot = 0)\n",
    "ax[0].set_title('Number of people by sex')\n",
    "ax[0].set_ylabel('Count')\n",
    "\n",
    "sns.countplot(\"sex\", data = train, hue = \"target\", ax = ax[1])\n",
    "ax[1].set_title(\"sex : Disease VS Not Disease\")\n",
    "plt.show()"
   ]
  },
  {
   "cell_type": "code",
   "execution_count": 80,
   "id": "07909942",
   "metadata": {},
   "outputs": [
    {
     "data": {
      "text/html": [
       "<style  type=\"text/css\" >\n",
       "#T_a9e5b_row0_col0{\n",
       "            background-color:  #f7fb66;\n",
       "            color:  #000000;\n",
       "        }#T_a9e5b_row0_col1,#T_a9e5b_row0_col2,#T_a9e5b_row0_col3,#T_a9e5b_row0_col4,#T_a9e5b_row3_col0{\n",
       "            background-color:  #ffff66;\n",
       "            color:  #000000;\n",
       "        }#T_a9e5b_row1_col0{\n",
       "            background-color:  #fbfd66;\n",
       "            color:  #000000;\n",
       "        }#T_a9e5b_row1_col1,#T_a9e5b_row2_col1,#T_a9e5b_row2_col2{\n",
       "            background-color:  #deee66;\n",
       "            color:  #000000;\n",
       "        }#T_a9e5b_row1_col2{\n",
       "            background-color:  #96cb66;\n",
       "            color:  #000000;\n",
       "        }#T_a9e5b_row1_col3{\n",
       "            background-color:  #edf666;\n",
       "            color:  #000000;\n",
       "        }#T_a9e5b_row1_col4{\n",
       "            background-color:  #d7eb66;\n",
       "            color:  #000000;\n",
       "        }#T_a9e5b_row2_col0{\n",
       "            background-color:  #79bc66;\n",
       "            color:  #000000;\n",
       "        }#T_a9e5b_row2_col3{\n",
       "            background-color:  #a4d266;\n",
       "            color:  #000000;\n",
       "        }#T_a9e5b_row2_col4{\n",
       "            background-color:  #b2d866;\n",
       "            color:  #000000;\n",
       "        }#T_a9e5b_row3_col1{\n",
       "            background-color:  #85c266;\n",
       "            color:  #000000;\n",
       "        }#T_a9e5b_row3_col2{\n",
       "            background-color:  #9bcd66;\n",
       "            color:  #000000;\n",
       "        }#T_a9e5b_row3_col3{\n",
       "            background-color:  #6db666;\n",
       "            color:  #000000;\n",
       "        }#T_a9e5b_row3_col4{\n",
       "            background-color:  #bfdf66;\n",
       "            color:  #000000;\n",
       "        }#T_a9e5b_row4_col0,#T_a9e5b_row4_col1,#T_a9e5b_row4_col2,#T_a9e5b_row4_col3,#T_a9e5b_row4_col4{\n",
       "            background-color:  #008066;\n",
       "            color:  #f1f1f1;\n",
       "        }</style><table id=\"T_a9e5b_\" ><thead>    <tr>        <th class=\"blank\" ></th>        <th class=\"index_name level0\" >cp</th>        <th class=\"col_heading level0 col0\" >0</th>        <th class=\"col_heading level0 col1\" >1</th>        <th class=\"col_heading level0 col2\" >2</th>        <th class=\"col_heading level0 col3\" >3</th>        <th class=\"col_heading level0 col4\" >All</th>    </tr>    <tr>        <th class=\"index_name level0\" >sex</th>        <th class=\"index_name level1\" >target</th>        <th class=\"blank\" ></th>        <th class=\"blank\" ></th>        <th class=\"blank\" ></th>        <th class=\"blank\" ></th>        <th class=\"blank\" ></th>    </tr></thead><tbody>\n",
       "                <tr>\n",
       "                        <th id=\"T_a9e5b_level0_row0\" class=\"row_heading level0 row0\" rowspan=\"2\">0</th>\n",
       "                        <th id=\"T_a9e5b_level1_row0\" class=\"row_heading level1 row0\" >0</th>\n",
       "                        <td id=\"T_a9e5b_row0_col0\" class=\"data row0 col0\" >10</td>\n",
       "                        <td id=\"T_a9e5b_row0_col1\" class=\"data row0 col1\" >2</td>\n",
       "                        <td id=\"T_a9e5b_row0_col2\" class=\"data row0 col2\" >1</td>\n",
       "                        <td id=\"T_a9e5b_row0_col3\" class=\"data row0 col3\" >0</td>\n",
       "                        <td id=\"T_a9e5b_row0_col4\" class=\"data row0 col4\" >13</td>\n",
       "            </tr>\n",
       "            <tr>\n",
       "                                <th id=\"T_a9e5b_level1_row1\" class=\"row_heading level1 row1\" >1</th>\n",
       "                        <td id=\"T_a9e5b_row1_col0\" class=\"data row1 col0\" >9</td>\n",
       "                        <td id=\"T_a9e5b_row1_col1\" class=\"data row1 col1\" >5</td>\n",
       "                        <td id=\"T_a9e5b_row1_col2\" class=\"data row1 col2\" >20</td>\n",
       "                        <td id=\"T_a9e5b_row1_col3\" class=\"data row1 col3\" >1</td>\n",
       "                        <td id=\"T_a9e5b_row1_col4\" class=\"data row1 col4\" >35</td>\n",
       "            </tr>\n",
       "            <tr>\n",
       "                        <th id=\"T_a9e5b_level0_row2\" class=\"row_heading level0 row2\" rowspan=\"2\">1</th>\n",
       "                        <th id=\"T_a9e5b_level1_row2\" class=\"row_heading level1 row2\" >0</th>\n",
       "                        <td id=\"T_a9e5b_row2_col0\" class=\"data row2 col0\" >38</td>\n",
       "                        <td id=\"T_a9e5b_row2_col1\" class=\"data row2 col1\" >5</td>\n",
       "                        <td id=\"T_a9e5b_row2_col2\" class=\"data row2 col2\" >7</td>\n",
       "                        <td id=\"T_a9e5b_row2_col3\" class=\"data row2 col3\" >5</td>\n",
       "                        <td id=\"T_a9e5b_row2_col4\" class=\"data row2 col4\" >55</td>\n",
       "            </tr>\n",
       "            <tr>\n",
       "                                <th id=\"T_a9e5b_level1_row3\" class=\"row_heading level1 row3\" >1</th>\n",
       "                        <td id=\"T_a9e5b_row3_col0\" class=\"data row3 col0\" >8</td>\n",
       "                        <td id=\"T_a9e5b_row3_col1\" class=\"data row3 col1\" >13</td>\n",
       "                        <td id=\"T_a9e5b_row3_col2\" class=\"data row3 col2\" >19</td>\n",
       "                        <td id=\"T_a9e5b_row3_col3\" class=\"data row3 col3\" >8</td>\n",
       "                        <td id=\"T_a9e5b_row3_col4\" class=\"data row3 col4\" >48</td>\n",
       "            </tr>\n",
       "            <tr>\n",
       "                        <th id=\"T_a9e5b_level0_row4\" class=\"row_heading level0 row4\" >All</th>\n",
       "                        <th id=\"T_a9e5b_level1_row4\" class=\"row_heading level1 row4\" ></th>\n",
       "                        <td id=\"T_a9e5b_row4_col0\" class=\"data row4 col0\" >65</td>\n",
       "                        <td id=\"T_a9e5b_row4_col1\" class=\"data row4 col1\" >25</td>\n",
       "                        <td id=\"T_a9e5b_row4_col2\" class=\"data row4 col2\" >47</td>\n",
       "                        <td id=\"T_a9e5b_row4_col3\" class=\"data row4 col3\" >14</td>\n",
       "                        <td id=\"T_a9e5b_row4_col4\" class=\"data row4 col4\" >151</td>\n",
       "            </tr>\n",
       "    </tbody></table>"
      ],
      "text/plain": [
       "<pandas.io.formats.style.Styler at 0x21300213520>"
      ]
     },
     "execution_count": 80,
     "metadata": {},
     "output_type": "execute_result"
    }
   ],
   "source": [
    "pd.crosstab([train.sex, train.target], train.cp, margins=True).style.background_gradient(cmap='summer_r')"
   ]
  },
  {
   "cell_type": "code",
   "execution_count": 81,
   "id": "2ae93690",
   "metadata": {},
   "outputs": [
    {
     "data": {
      "text/plain": [
       "<seaborn.axisgrid.FacetGrid at 0x21300803d00>"
      ]
     },
     "execution_count": 81,
     "metadata": {},
     "output_type": "execute_result"
    },
    {
     "data": {
      "image/png": "[encoded data removed]",
      "text/plain": [
       "<Figure size 402.375x360 with 1 Axes>"
      ]
     },
     "metadata": {
      "needs_background": "dark"
     },
     "output_type": "display_data"
    }
   ],
   "source": [
    "sns.factorplot(\"cp\", \"target\", hue = \"sex\", data = train)"
   ]
  },
  {
   "cell_type": "code",
   "execution_count": 82,
   "id": "4b49ccbf",
   "metadata": {},
   "outputs": [
    {
     "data": {
      "text/plain": [
       "count    151.000000\n",
       "mean      54.496689\n",
       "std        8.904586\n",
       "min       34.000000\n",
       "25%       48.500000\n",
       "50%       54.000000\n",
       "75%       61.000000\n",
       "max       77.000000\n",
       "Name: age, dtype: float64"
      ]
     },
     "execution_count": 82,
     "metadata": {},
     "output_type": "execute_result"
    }
   ],
   "source": [
    "train[\"age\"].describeibe()"
   ]
  },
  {
   "cell_type": "code",
   "execution_count": 85,
   "id": "7665017f",
   "metadata": {},
   "outputs": [
    {
     "data": {
      "text/plain": [
       "Text(0, 0.5, 'count')"
      ]
     },
     "execution_count": 85,
     "metadata": {},
     "output_type": "execute_result"
    },
    {
     "data": {
      "image/png": "[encoded data removed]",
      "text/plain": [
       "<Figure size 432x288 with 1 Axes>"
      ]
     },
     "metadata": {
      "needs_background": "dark"
     },
     "output_type": "display_data"
    }
   ],
   "source": [
    "train[\"age\"].hist(bins = 50)\n",
    "plt.xlabel(\"age\")\n",
    "plt.ylabel(\"count\")"
   ]
  },
  {
   "cell_type": "code",
   "execution_count": 86,
   "id": "25ae591e",
   "metadata": {},
   "outputs": [
    {
     "data": {
      "text/plain": [
       "<matplotlib.axes._subplots.AxesSubplot at 0x21302c71220>"
      ]
     },
     "execution_count": 86,
     "metadata": {},
     "output_type": "execute_result"
    },
    {
     "data": {
      "image/png": "[encoded data removed]",
      "text/plain": [
       "<Figure size 432x288 with 1 Axes>"
      ]
     },
     "metadata": {
      "needs_background": "dark"
     },
     "output_type": "display_data"
    }
   ],
   "source": [
    "sns.kdeplot(train[\"age\"])"
   ]
  },
  {
   "cell_type": "code",
   "execution_count": 89,
   "id": "b8095c9c",
   "metadata": {},
   "outputs": [
    {
     "data": {
      "text/plain": [
       "<matplotlib.axes._subplots.AxesSubplot at 0x21302d02400>"
      ]
     },
     "execution_count": 89,
     "metadata": {},
     "output_type": "execute_result"
    },
    {
     "data": {
      "image/png": "[encoded data removed]",
      "text/plain": [
       "<Figure size 432x288 with 1 Axes>"
      ]
     },
     "metadata": {
      "needs_background": "dark"
     },
     "output_type": "display_data"
    }
   ],
   "source": [
    "sns.kdeplot(train.loc[train[\"target\"] == 1, \"age\"], color = \"orange\")\n",
    "sns.kdeplot(train.loc[train[\"target\"] == 0, \"age\"], color = \"green\")"
   ]
  },
  {
   "cell_type": "code",
   "execution_count": 95,
   "id": "39923320",
   "metadata": {},
   "outputs": [
    {
     "data": {
      "image/png": "[encoded data removed]",
      "text/plain": [
       "<Figure size 1296x576 with 2 Axes>"
      ]
     },
     "metadata": {
      "needs_background": "dark"
     },
     "output_type": "display_data"
    }
   ],
   "source": [
    "fig, ax = plt.subplots(1,2,figsize = (18,8))\n",
    "sns.violinplot(\"cp\", \"age\", hue = \"target\", data = train, split = True, ax = ax[0])\n",
    "ax[0].set_title('cp and age VS target')\n",
    "ax[0].set_yticks(range(0, 110, 10))\n",
    "\n",
    "sns.violinplot('sex', 'age', hue='target', data=train, split=True, ax=ax[1])\n",
    "ax[1].set_title('sex and age VS target')\n",
    "ax[1].set_yticks(range(0, 110, 10))\n",
    "\n",
    "plt.show()"
   ]
  },
  {
   "cell_type": "code",
   "execution_count": 96,
   "id": "852f0ff2",
   "metadata": {},
   "outputs": [],
   "source": [
    "# importing all the required ML packages\n",
    "from sklearn.metrics import f1_score\n",
    "from sklearn.linear_model import LogisticRegression\n",
    "from sklearn import svm\n",
    "from sklearn.ensemble import RandomForestClassifier\n",
    "from sklearn.neighbors import KNeighborsClassifier\n",
    "from sklearn.naive_bayes import GaussianNB\n",
    "from sklearn.tree import DecisionTreeClassifier\n",
    "from sklearn.model_selection import train_test_split\n",
    "from sklearn import metrics\n",
    "from sklearn.metrics import confusion_matrix\n",
    "\n",
    "import warnings\n",
    "warnings.filterwarnings('ignore')"
   ]
  },
  {
   "cell_type": "code",
   "execution_count": 97,
   "id": "9fb692d9",
   "metadata": {},
   "outputs": [
    {
     "data": {
      "text/html": [
       "<div>\n",
       "<style scoped>\n",
       "    .dataframe tbody tr th:only-of-type {\n",
       "        vertical-align: middle;\n",
       "    }\n",
       "\n",
       "    .dataframe tbody tr th {\n",
       "        vertical-align: top;\n",
       "    }\n",
       "\n",
       "    .dataframe thead th {\n",
       "        text-align: right;\n",
       "    }\n",
       "</style>\n",
       "<table border=\"1\" class=\"dataframe\">\n",
       "  <thead>\n",
       "    <tr style=\"text-align: right;\">\n",
       "      <th></th>\n",
       "      <th>id</th>\n",
       "      <th>age</th>\n",
       "      <th>sex</th>\n",
       "      <th>cp</th>\n",
       "      <th>trestbps</th>\n",
       "      <th>chol</th>\n",
       "      <th>fbs</th>\n",
       "      <th>restecg</th>\n",
       "      <th>thalach</th>\n",
       "      <th>exang</th>\n",
       "      <th>oldpeak</th>\n",
       "      <th>slope</th>\n",
       "      <th>ca</th>\n",
       "      <th>thal</th>\n",
       "      <th>target</th>\n",
       "    </tr>\n",
       "  </thead>\n",
       "  <tbody>\n",
       "    <tr>\n",
       "      <th>0</th>\n",
       "      <td>1</td>\n",
       "      <td>53</td>\n",
       "      <td>1</td>\n",
       "      <td>2</td>\n",
       "      <td>130</td>\n",
       "      <td>197</td>\n",
       "      <td>1</td>\n",
       "      <td>0</td>\n",
       "      <td>152</td>\n",
       "      <td>0</td>\n",
       "      <td>1.2</td>\n",
       "      <td>0</td>\n",
       "      <td>0</td>\n",
       "      <td>2</td>\n",
       "      <td>1</td>\n",
       "    </tr>\n",
       "    <tr>\n",
       "      <th>1</th>\n",
       "      <td>2</td>\n",
       "      <td>52</td>\n",
       "      <td>1</td>\n",
       "      <td>3</td>\n",
       "      <td>152</td>\n",
       "      <td>298</td>\n",
       "      <td>1</td>\n",
       "      <td>1</td>\n",
       "      <td>178</td>\n",
       "      <td>0</td>\n",
       "      <td>1.2</td>\n",
       "      <td>1</td>\n",
       "      <td>0</td>\n",
       "      <td>3</td>\n",
       "      <td>1</td>\n",
       "    </tr>\n",
       "    <tr>\n",
       "      <th>2</th>\n",
       "      <td>3</td>\n",
       "      <td>54</td>\n",
       "      <td>1</td>\n",
       "      <td>1</td>\n",
       "      <td>192</td>\n",
       "      <td>283</td>\n",
       "      <td>0</td>\n",
       "      <td>0</td>\n",
       "      <td>195</td>\n",
       "      <td>0</td>\n",
       "      <td>0.0</td>\n",
       "      <td>2</td>\n",
       "      <td>1</td>\n",
       "      <td>3</td>\n",
       "      <td>0</td>\n",
       "    </tr>\n",
       "    <tr>\n",
       "      <th>3</th>\n",
       "      <td>4</td>\n",
       "      <td>45</td>\n",
       "      <td>0</td>\n",
       "      <td>0</td>\n",
       "      <td>138</td>\n",
       "      <td>236</td>\n",
       "      <td>0</td>\n",
       "      <td>0</td>\n",
       "      <td>152</td>\n",
       "      <td>1</td>\n",
       "      <td>0.2</td>\n",
       "      <td>1</td>\n",
       "      <td>0</td>\n",
       "      <td>2</td>\n",
       "      <td>1</td>\n",
       "    </tr>\n",
       "    <tr>\n",
       "      <th>4</th>\n",
       "      <td>5</td>\n",
       "      <td>35</td>\n",
       "      <td>1</td>\n",
       "      <td>1</td>\n",
       "      <td>122</td>\n",
       "      <td>192</td>\n",
       "      <td>0</td>\n",
       "      <td>1</td>\n",
       "      <td>174</td>\n",
       "      <td>0</td>\n",
       "      <td>0.0</td>\n",
       "      <td>2</td>\n",
       "      <td>0</td>\n",
       "      <td>2</td>\n",
       "      <td>1</td>\n",
       "    </tr>\n",
       "  </tbody>\n",
       "</table>\n",
       "</div>"
      ],
      "text/plain": [
       "   id  age  sex  cp  trestbps  chol  fbs  restecg  thalach  exang  oldpeak  \\\n",
       "0   1   53    1   2       130   197    1        0      152      0      1.2   \n",
       "1   2   52    1   3       152   298    1        1      178      0      1.2   \n",
       "2   3   54    1   1       192   283    0        0      195      0      0.0   \n",
       "3   4   45    0   0       138   236    0        0      152      1      0.2   \n",
       "4   5   35    1   1       122   192    0        1      174      0      0.0   \n",
       "\n",
       "   slope  ca  thal  target  \n",
       "0      0   0     2       1  \n",
       "1      1   0     3       1  \n",
       "2      2   1     3       0  \n",
       "3      1   0     2       1  \n",
       "4      2   0     2       1  "
      ]
     },
     "execution_count": 97,
     "metadata": {},
     "output_type": "execute_result"
    }
   ],
   "source": [
    "train.head()"
   ]
  },
  {
   "cell_type": "code",
   "execution_count": 98,
   "id": "5e7c50d9",
   "metadata": {},
   "outputs": [],
   "source": [
    "train_sub, valid = train_test_split(train, test_size=0.2, random_state = 2021, stratify=train[\"target\"])"
   ]
  },
  {
   "cell_type": "code",
   "execution_count": 100,
   "id": "bfc70879",
   "metadata": {},
   "outputs": [
    {
     "data": {
      "text/html": [
       "<div>\n",
       "<style scoped>\n",
       "    .dataframe tbody tr th:only-of-type {\n",
       "        vertical-align: middle;\n",
       "    }\n",
       "\n",
       "    .dataframe tbody tr th {\n",
       "        vertical-align: top;\n",
       "    }\n",
       "\n",
       "    .dataframe thead th {\n",
       "        text-align: right;\n",
       "    }\n",
       "</style>\n",
       "<table border=\"1\" class=\"dataframe\">\n",
       "  <thead>\n",
       "    <tr style=\"text-align: right;\">\n",
       "      <th></th>\n",
       "      <th>id</th>\n",
       "      <th>age</th>\n",
       "      <th>sex</th>\n",
       "      <th>cp</th>\n",
       "      <th>trestbps</th>\n",
       "      <th>chol</th>\n",
       "      <th>fbs</th>\n",
       "      <th>restecg</th>\n",
       "      <th>thalach</th>\n",
       "      <th>exang</th>\n",
       "      <th>oldpeak</th>\n",
       "      <th>slope</th>\n",
       "      <th>ca</th>\n",
       "      <th>thal</th>\n",
       "      <th>target</th>\n",
       "    </tr>\n",
       "  </thead>\n",
       "  <tbody>\n",
       "    <tr>\n",
       "      <th>48</th>\n",
       "      <td>49</td>\n",
       "      <td>45</td>\n",
       "      <td>1</td>\n",
       "      <td>3</td>\n",
       "      <td>110</td>\n",
       "      <td>264</td>\n",
       "      <td>0</td>\n",
       "      <td>1</td>\n",
       "      <td>132</td>\n",
       "      <td>0</td>\n",
       "      <td>1.2</td>\n",
       "      <td>1</td>\n",
       "      <td>0</td>\n",
       "      <td>3</td>\n",
       "      <td>0</td>\n",
       "    </tr>\n",
       "    <tr>\n",
       "      <th>104</th>\n",
       "      <td>105</td>\n",
       "      <td>44</td>\n",
       "      <td>0</td>\n",
       "      <td>2</td>\n",
       "      <td>108</td>\n",
       "      <td>141</td>\n",
       "      <td>0</td>\n",
       "      <td>1</td>\n",
       "      <td>175</td>\n",
       "      <td>0</td>\n",
       "      <td>0.6</td>\n",
       "      <td>1</td>\n",
       "      <td>0</td>\n",
       "      <td>2</td>\n",
       "      <td>1</td>\n",
       "    </tr>\n",
       "    <tr>\n",
       "      <th>145</th>\n",
       "      <td>146</td>\n",
       "      <td>59</td>\n",
       "      <td>1</td>\n",
       "      <td>0</td>\n",
       "      <td>135</td>\n",
       "      <td>234</td>\n",
       "      <td>0</td>\n",
       "      <td>1</td>\n",
       "      <td>161</td>\n",
       "      <td>0</td>\n",
       "      <td>0.5</td>\n",
       "      <td>1</td>\n",
       "      <td>0</td>\n",
       "      <td>3</td>\n",
       "      <td>1</td>\n",
       "    </tr>\n",
       "  </tbody>\n",
       "</table>\n",
       "</div>"
      ],
      "text/plain": [
       "      id  age  sex  cp  trestbps  chol  fbs  restecg  thalach  exang  oldpeak  \\\n",
       "48    49   45    1   3       110   264    0        1      132      0      1.2   \n",
       "104  105   44    0   2       108   141    0        1      175      0      0.6   \n",
       "145  146   59    1   0       135   234    0        1      161      0      0.5   \n",
       "\n",
       "     slope  ca  thal  target  \n",
       "48       1   0     3       0  \n",
       "104      1   0     2       1  \n",
       "145      1   0     3       1  "
      ]
     },
     "execution_count": 100,
     "metadata": {},
     "output_type": "execute_result"
    }
   ],
   "source": [
    "train_sub.head(3)"
   ]
  },
  {
   "cell_type": "code",
   "execution_count": 101,
   "id": "441a91ab",
   "metadata": {},
   "outputs": [
    {
     "data": {
      "text/html": [
       "<div>\n",
       "<style scoped>\n",
       "    .dataframe tbody tr th:only-of-type {\n",
       "        vertical-align: middle;\n",
       "    }\n",
       "\n",
       "    .dataframe tbody tr th {\n",
       "        vertical-align: top;\n",
       "    }\n",
       "\n",
       "    .dataframe thead th {\n",
       "        text-align: right;\n",
       "    }\n",
       "</style>\n",
       "<table border=\"1\" class=\"dataframe\">\n",
       "  <thead>\n",
       "    <tr style=\"text-align: right;\">\n",
       "      <th></th>\n",
       "      <th>id</th>\n",
       "      <th>age</th>\n",
       "      <th>sex</th>\n",
       "      <th>cp</th>\n",
       "      <th>trestbps</th>\n",
       "      <th>chol</th>\n",
       "      <th>fbs</th>\n",
       "      <th>restecg</th>\n",
       "      <th>thalach</th>\n",
       "      <th>exang</th>\n",
       "      <th>oldpeak</th>\n",
       "      <th>slope</th>\n",
       "      <th>ca</th>\n",
       "      <th>thal</th>\n",
       "      <th>target</th>\n",
       "    </tr>\n",
       "  </thead>\n",
       "  <tbody>\n",
       "    <tr>\n",
       "      <th>99</th>\n",
       "      <td>100</td>\n",
       "      <td>51</td>\n",
       "      <td>0</td>\n",
       "      <td>0</td>\n",
       "      <td>130</td>\n",
       "      <td>305</td>\n",
       "      <td>0</td>\n",
       "      <td>1</td>\n",
       "      <td>142</td>\n",
       "      <td>1</td>\n",
       "      <td>1.2</td>\n",
       "      <td>1</td>\n",
       "      <td>0</td>\n",
       "      <td>3</td>\n",
       "      <td>0</td>\n",
       "    </tr>\n",
       "    <tr>\n",
       "      <th>64</th>\n",
       "      <td>65</td>\n",
       "      <td>67</td>\n",
       "      <td>1</td>\n",
       "      <td>2</td>\n",
       "      <td>152</td>\n",
       "      <td>212</td>\n",
       "      <td>0</td>\n",
       "      <td>0</td>\n",
       "      <td>150</td>\n",
       "      <td>0</td>\n",
       "      <td>0.8</td>\n",
       "      <td>1</td>\n",
       "      <td>0</td>\n",
       "      <td>3</td>\n",
       "      <td>0</td>\n",
       "    </tr>\n",
       "    <tr>\n",
       "      <th>18</th>\n",
       "      <td>19</td>\n",
       "      <td>59</td>\n",
       "      <td>1</td>\n",
       "      <td>0</td>\n",
       "      <td>170</td>\n",
       "      <td>326</td>\n",
       "      <td>0</td>\n",
       "      <td>0</td>\n",
       "      <td>140</td>\n",
       "      <td>1</td>\n",
       "      <td>3.4</td>\n",
       "      <td>0</td>\n",
       "      <td>0</td>\n",
       "      <td>3</td>\n",
       "      <td>0</td>\n",
       "    </tr>\n",
       "  </tbody>\n",
       "</table>\n",
       "</div>"
      ],
      "text/plain": [
       "     id  age  sex  cp  trestbps  chol  fbs  restecg  thalach  exang  oldpeak  \\\n",
       "99  100   51    0   0       130   305    0        1      142      1      1.2   \n",
       "64   65   67    1   2       152   212    0        0      150      0      0.8   \n",
       "18   19   59    1   0       170   326    0        0      140      1      3.4   \n",
       "\n",
       "    slope  ca  thal  target  \n",
       "99      1   0     3       0  \n",
       "64      1   0     3       0  \n",
       "18      0   0     3       0  "
      ]
     },
     "execution_count": 101,
     "metadata": {},
     "output_type": "execute_result"
    }
   ],
   "source": [
    "valid.head(3)"
   ]
  },
  {
   "cell_type": "code",
   "execution_count": 114,
   "id": "4d03b1a0",
   "metadata": {},
   "outputs": [],
   "source": [
    "train_X = train_sub[train_sub.columns[1:-1]] \n",
    "train_Y = train_sub[train_sub.columns[-1]]\n",
    "valid_X = valid[valid.columns[1:-1]]\n",
    "valid_Y = valid[valid.columns[-1]]"
   ]
  },
  {
   "cell_type": "code",
   "execution_count": 116,
   "id": "6f5bbb88",
   "metadata": {},
   "outputs": [],
   "source": [
    "X = train[train.columns[1:-1]]\n",
    "Y = train[\"target\"]"
   ]
  },
  {
   "cell_type": "code",
   "execution_count": 118,
   "id": "b0978cb3",
   "metadata": {},
   "outputs": [
    {
     "data": {
      "text/html": [
       "<div>\n",
       "<style scoped>\n",
       "    .dataframe tbody tr th:only-of-type {\n",
       "        vertical-align: middle;\n",
       "    }\n",
       "\n",
       "    .dataframe tbody tr th {\n",
       "        vertical-align: top;\n",
       "    }\n",
       "\n",
       "    .dataframe thead th {\n",
       "        text-align: right;\n",
       "    }\n",
       "</style>\n",
       "<table border=\"1\" class=\"dataframe\">\n",
       "  <thead>\n",
       "    <tr style=\"text-align: right;\">\n",
       "      <th></th>\n",
       "      <th>age</th>\n",
       "      <th>sex</th>\n",
       "      <th>cp</th>\n",
       "      <th>trestbps</th>\n",
       "      <th>chol</th>\n",
       "      <th>fbs</th>\n",
       "      <th>restecg</th>\n",
       "      <th>thalach</th>\n",
       "      <th>exang</th>\n",
       "      <th>oldpeak</th>\n",
       "      <th>slope</th>\n",
       "      <th>ca</th>\n",
       "      <th>thal</th>\n",
       "    </tr>\n",
       "  </thead>\n",
       "  <tbody>\n",
       "    <tr>\n",
       "      <th>0</th>\n",
       "      <td>53</td>\n",
       "      <td>1</td>\n",
       "      <td>2</td>\n",
       "      <td>130</td>\n",
       "      <td>197</td>\n",
       "      <td>1</td>\n",
       "      <td>0</td>\n",
       "      <td>152</td>\n",
       "      <td>0</td>\n",
       "      <td>1.2</td>\n",
       "      <td>0</td>\n",
       "      <td>0</td>\n",
       "      <td>2</td>\n",
       "    </tr>\n",
       "    <tr>\n",
       "      <th>1</th>\n",
       "      <td>52</td>\n",
       "      <td>1</td>\n",
       "      <td>3</td>\n",
       "      <td>152</td>\n",
       "      <td>298</td>\n",
       "      <td>1</td>\n",
       "      <td>1</td>\n",
       "      <td>178</td>\n",
       "      <td>0</td>\n",
       "      <td>1.2</td>\n",
       "      <td>1</td>\n",
       "      <td>0</td>\n",
       "      <td>3</td>\n",
       "    </tr>\n",
       "    <tr>\n",
       "      <th>2</th>\n",
       "      <td>54</td>\n",
       "      <td>1</td>\n",
       "      <td>1</td>\n",
       "      <td>192</td>\n",
       "      <td>283</td>\n",
       "      <td>0</td>\n",
       "      <td>0</td>\n",
       "      <td>195</td>\n",
       "      <td>0</td>\n",
       "      <td>0.0</td>\n",
       "      <td>2</td>\n",
       "      <td>1</td>\n",
       "      <td>3</td>\n",
       "    </tr>\n",
       "  </tbody>\n",
       "</table>\n",
       "</div>"
      ],
      "text/plain": [
       "   age  sex  cp  trestbps  chol  fbs  restecg  thalach  exang  oldpeak  slope  \\\n",
       "0   53    1   2       130   197    1        0      152      0      1.2      0   \n",
       "1   52    1   3       152   298    1        1      178      0      1.2      1   \n",
       "2   54    1   1       192   283    0        0      195      0      0.0      2   \n",
       "\n",
       "   ca  thal  \n",
       "0   0     2  \n",
       "1   0     3  \n",
       "2   1     3  "
      ]
     },
     "execution_count": 118,
     "metadata": {},
     "output_type": "execute_result"
    }
   ],
   "source": [
    "X.head(3)"
   ]
  },
  {
   "cell_type": "code",
   "execution_count": 123,
   "id": "82c9d04e",
   "metadata": {},
   "outputs": [
    {
     "data": {
      "text/plain": [
       "0    1\n",
       "1    1\n",
       "2    0\n",
       "Name: target, dtype: int64"
      ]
     },
     "execution_count": 123,
     "metadata": {},
     "output_type": "execute_result"
    }
   ],
   "source": [
    "Y.head(3)"
   ]
  },
  {
   "cell_type": "code",
   "execution_count": 125,
   "id": "5e60a05c",
   "metadata": {},
   "outputs": [
    {
     "data": {
      "text/plain": [
       "1    0.55\n",
       "0    0.45\n",
       "Name: target, dtype: float64"
      ]
     },
     "execution_count": 125,
     "metadata": {},
     "output_type": "execute_result"
    }
   ],
   "source": [
    "train_sub[\"target\"].value_counts() / train_sub.shape[0]"
   ]
  },
  {
   "cell_type": "code",
   "execution_count": 127,
   "id": "a8df0a5b",
   "metadata": {},
   "outputs": [
    {
     "data": {
      "text/plain": [
       "1    0.548387\n",
       "0    0.451613\n",
       "Name: target, dtype: float64"
      ]
     },
     "execution_count": 127,
     "metadata": {},
     "output_type": "execute_result"
    }
   ],
   "source": [
    "valid[\"target\"].value_counts() / valid.shape[0]"
   ]
  },
  {
   "cell_type": "code",
   "execution_count": 128,
   "id": "fbf33986",
   "metadata": {},
   "outputs": [
    {
     "data": {
      "text/plain": [
       "1    0.549669\n",
       "0    0.450331\n",
       "Name: target, dtype: float64"
      ]
     },
     "execution_count": 128,
     "metadata": {},
     "output_type": "execute_result"
    }
   ],
   "source": [
    "train[\"target\"].value_counts() / train.shape[0]"
   ]
  },
  {
   "cell_type": "code",
   "execution_count": 130,
   "id": "e8deb3a3",
   "metadata": {},
   "outputs": [
    {
     "data": {
      "text/plain": [
       "LogisticRegression()"
      ]
     },
     "execution_count": 130,
     "metadata": {},
     "output_type": "execute_result"
    }
   ],
   "source": [
    "model1 = LogisticRegression()\n",
    "model1.fit(train_X, train_Y)"
   ]
  },
  {
   "cell_type": "code",
   "execution_count": 131,
   "id": "37aaf128",
   "metadata": {},
   "outputs": [
    {
     "name": "stdout",
     "output_type": "stream",
     "text": [
      "0.0 f1_score of LogisticRegression is 70.83%\n",
      "0.01 f1_score of LogisticRegression is 77.27%\n",
      "0.02 f1_score of LogisticRegression is 79.07%\n",
      "0.03 f1_score of LogisticRegression is 80.95%\n",
      "0.04 f1_score of LogisticRegression is 80.95%\n",
      "0.05 f1_score of LogisticRegression is 80.95%\n",
      "0.06 f1_score of LogisticRegression is 80.95%\n",
      "0.07 f1_score of LogisticRegression is 80.95%\n",
      "0.08 f1_score of LogisticRegression is 82.93%\n",
      "0.09 f1_score of LogisticRegression is 82.93%\n",
      "0.1 f1_score of LogisticRegression is 82.93%\n",
      "0.11 f1_score of LogisticRegression is 82.93%\n",
      "0.12 f1_score of LogisticRegression is 82.93%\n",
      "0.13 f1_score of LogisticRegression is 87.18%\n",
      "0.14 f1_score of LogisticRegression is 87.18%\n",
      "0.15 f1_score of LogisticRegression is 87.18%\n",
      "0.16 f1_score of LogisticRegression is 87.18%\n",
      "0.17 f1_score of LogisticRegression is 87.18%\n",
      "0.18 f1_score of LogisticRegression is 87.18%\n",
      "0.19 f1_score of LogisticRegression is 87.18%\n",
      "0.2 f1_score of LogisticRegression is 87.18%\n",
      "0.21 f1_score of LogisticRegression is 87.18%\n",
      "0.22 f1_score of LogisticRegression is 87.18%\n",
      "0.23 f1_score of LogisticRegression is 89.47%\n",
      "0.24 f1_score of LogisticRegression is 89.47%\n",
      "0.25 f1_score of LogisticRegression is 89.47%\n",
      "0.26 f1_score of LogisticRegression is 89.47%\n",
      "0.27 f1_score of LogisticRegression is 89.47%\n",
      "0.28 f1_score of LogisticRegression is 89.47%\n",
      "0.29 f1_score of LogisticRegression is 89.47%\n",
      "0.3 f1_score of LogisticRegression is 89.47%\n",
      "0.31 f1_score of LogisticRegression is 89.47%\n",
      "0.32 f1_score of LogisticRegression is 89.47%\n",
      "0.33 f1_score of LogisticRegression is 89.47%\n",
      "0.34 f1_score of LogisticRegression is 89.47%\n",
      "0.35000000000000003 f1_score of LogisticRegression is 89.47%\n",
      "0.36 f1_score of LogisticRegression is 89.47%\n",
      "0.37 f1_score of LogisticRegression is 89.47%\n",
      "0.38 f1_score of LogisticRegression is 89.47%\n",
      "0.39 f1_score of LogisticRegression is 89.47%\n",
      "0.4 f1_score of LogisticRegression is 86.49%\n",
      "0.41000000000000003 f1_score of LogisticRegression is 86.49%\n",
      "0.42 f1_score of LogisticRegression is 86.49%\n",
      "0.43 f1_score of LogisticRegression is 86.49%\n",
      "0.44 f1_score of LogisticRegression is 86.49%\n",
      "0.45 f1_score of LogisticRegression is 83.33%\n",
      "0.46 f1_score of LogisticRegression is 83.33%\n",
      "0.47000000000000003 f1_score of LogisticRegression is 83.33%\n",
      "0.48 f1_score of LogisticRegression is 83.33%\n",
      "0.49 f1_score of LogisticRegression is 83.33%\n",
      "0.5 f1_score of LogisticRegression is 83.33%\n",
      "0.51 f1_score of LogisticRegression is 85.71%\n",
      "0.52 f1_score of LogisticRegression is 85.71%\n",
      "0.53 f1_score of LogisticRegression is 82.35%\n",
      "0.54 f1_score of LogisticRegression is 82.35%\n",
      "0.55 f1_score of LogisticRegression is 84.85%\n",
      "0.56 f1_score of LogisticRegression is 84.85%\n",
      "0.5700000000000001 f1_score of LogisticRegression is 87.50%\n",
      "0.58 f1_score of LogisticRegression is 87.50%\n",
      "0.59 f1_score of LogisticRegression is 83.87%\n",
      "0.6 f1_score of LogisticRegression is 83.87%\n",
      "0.61 f1_score of LogisticRegression is 83.87%\n",
      "0.62 f1_score of LogisticRegression is 83.87%\n",
      "0.63 f1_score of LogisticRegression is 83.87%\n",
      "0.64 f1_score of LogisticRegression is 83.87%\n",
      "0.65 f1_score of LogisticRegression is 86.67%\n",
      "0.66 f1_score of LogisticRegression is 86.67%\n",
      "0.67 f1_score of LogisticRegression is 86.67%\n",
      "0.68 f1_score of LogisticRegression is 86.67%\n",
      "0.6900000000000001 f1_score of LogisticRegression is 82.76%\n",
      "0.7000000000000001 f1_score of LogisticRegression is 82.76%\n",
      "0.71 f1_score of LogisticRegression is 82.76%\n",
      "0.72 f1_score of LogisticRegression is 78.57%\n",
      "0.73 f1_score of LogisticRegression is 78.57%\n",
      "0.74 f1_score of LogisticRegression is 78.57%\n",
      "0.75 f1_score of LogisticRegression is 74.07%\n",
      "0.76 f1_score of LogisticRegression is 74.07%\n",
      "0.77 f1_score of LogisticRegression is 74.07%\n",
      "0.78 f1_score of LogisticRegression is 74.07%\n",
      "0.79 f1_score of LogisticRegression is 69.23%\n",
      "0.8 f1_score of LogisticRegression is 69.23%\n",
      "0.81 f1_score of LogisticRegression is 69.23%\n",
      "0.8200000000000001 f1_score of LogisticRegression is 69.23%\n",
      "0.8300000000000001 f1_score of LogisticRegression is 69.23%\n",
      "0.84 f1_score of LogisticRegression is 69.23%\n",
      "0.85 f1_score of LogisticRegression is 69.23%\n",
      "0.86 f1_score of LogisticRegression is 69.23%\n",
      "0.87 f1_score of LogisticRegression is 64.00%\n",
      "0.88 f1_score of LogisticRegression is 64.00%\n",
      "0.89 f1_score of LogisticRegression is 58.33%\n",
      "0.9 f1_score of LogisticRegression is 58.33%\n",
      "0.91 f1_score of LogisticRegression is 58.33%\n",
      "0.92 f1_score of LogisticRegression is 52.17%\n",
      "0.93 f1_score of LogisticRegression is 45.45%\n",
      "0.9400000000000001 f1_score of LogisticRegression is 38.10%\n",
      "0.9500000000000001 f1_score of LogisticRegression is 30.00%\n",
      "0.96 f1_score of LogisticRegression is 30.00%\n",
      "0.97 f1_score of LogisticRegression is 21.05%\n",
      "0.98 f1_score of LogisticRegression is 11.11%\n",
      "0.99 f1_score of LogisticRegression is 11.11%\n"
     ]
    }
   ],
   "source": [
    "f1_score_array = []\n",
    "\n",
    "for temp_thres in np.arange(0,1,0.01):\n",
    "    threshold = temp_thres\n",
    "    pred1 = (model1.predict_proba(valid_X)[:,1] > threshold).astype(int)\n",
    "    temp_f1_score = 100*f1_score(valid_Y, pred1)\n",
    "    print(temp_thres, 'f1_score of LogisticRegression is {:.2f}%'.format(temp_f1_score))\n",
    "    f1_score_array.append(temp_f1_score)"
   ]
  },
  {
   "cell_type": "code",
   "execution_count": 136,
   "id": "e5abf0b1",
   "metadata": {},
   "outputs": [
    {
     "data": {
      "text/plain": [
       "[<matplotlib.lines.Line2D at 0x21305ca9700>]"
      ]
     },
     "execution_count": 136,
     "metadata": {},
     "output_type": "execute_result"
    },
    {
     "data": {
      "image/png": "[encoded data removed]",
      "text/plain": [
       "<Figure size 432x288 with 1 Axes>"
      ]
     },
     "metadata": {
      "needs_background": "dark"
     },
     "output_type": "display_data"
    }
   ],
   "source": [
    "plt.plot(np.arange(0,1,0.01), f1_score_array)"
   ]
  },
  {
   "cell_type": "code",
   "execution_count": 137,
   "id": "8b417d2f",
   "metadata": {},
   "outputs": [
    {
     "name": "stdout",
     "output_type": "stream",
     "text": [
      "89.47368421052632\n",
      "23\n"
     ]
    }
   ],
   "source": [
    "print(np.max(f1_score_array))\n",
    "print(np.argmax(f1_score_array))"
   ]
  },
  {
   "cell_type": "code",
   "execution_count": 138,
   "id": "dd5aa6e8",
   "metadata": {},
   "outputs": [
    {
     "name": "stdout",
     "output_type": "stream",
     "text": [
      "0.0 Accuracy of LogisticRegression is 54.84%\n",
      "0.01 Accuracy of LogisticRegression is 67.74%\n",
      "0.02 Accuracy of LogisticRegression is 70.97%\n",
      "0.03 Accuracy of LogisticRegression is 74.19%\n",
      "0.04 Accuracy of LogisticRegression is 74.19%\n",
      "0.05 Accuracy of LogisticRegression is 74.19%\n",
      "0.06 Accuracy of LogisticRegression is 74.19%\n",
      "0.07 Accuracy of LogisticRegression is 74.19%\n",
      "0.08 Accuracy of LogisticRegression is 77.42%\n",
      "0.09 Accuracy of LogisticRegression is 77.42%\n",
      "0.1 Accuracy of LogisticRegression is 77.42%\n",
      "0.11 Accuracy of LogisticRegression is 77.42%\n",
      "0.12 Accuracy of LogisticRegression is 77.42%\n",
      "0.13 Accuracy of LogisticRegression is 83.87%\n",
      "0.14 Accuracy of LogisticRegression is 83.87%\n",
      "0.15 Accuracy of LogisticRegression is 83.87%\n",
      "0.16 Accuracy of LogisticRegression is 83.87%\n",
      "0.17 Accuracy of LogisticRegression is 83.87%\n",
      "0.18 Accuracy of LogisticRegression is 83.87%\n",
      "0.19 Accuracy of LogisticRegression is 83.87%\n",
      "0.2 Accuracy of LogisticRegression is 83.87%\n",
      "0.21 Accuracy of LogisticRegression is 83.87%\n",
      "0.22 Accuracy of LogisticRegression is 83.87%\n",
      "0.23 Accuracy of LogisticRegression is 87.10%\n",
      "0.24 Accuracy of LogisticRegression is 87.10%\n",
      "0.25 Accuracy of LogisticRegression is 87.10%\n",
      "0.26 Accuracy of LogisticRegression is 87.10%\n",
      "0.27 Accuracy of LogisticRegression is 87.10%\n",
      "0.28 Accuracy of LogisticRegression is 87.10%\n",
      "0.29 Accuracy of LogisticRegression is 87.10%\n",
      "0.3 Accuracy of LogisticRegression is 87.10%\n",
      "0.31 Accuracy of LogisticRegression is 87.10%\n",
      "0.32 Accuracy of LogisticRegression is 87.10%\n",
      "0.33 Accuracy of LogisticRegression is 87.10%\n",
      "0.34 Accuracy of LogisticRegression is 87.10%\n",
      "0.35000000000000003 Accuracy of LogisticRegression is 87.10%\n",
      "0.36 Accuracy of LogisticRegression is 87.10%\n",
      "0.37 Accuracy of LogisticRegression is 87.10%\n",
      "0.38 Accuracy of LogisticRegression is 87.10%\n",
      "0.39 Accuracy of LogisticRegression is 87.10%\n",
      "0.4 Accuracy of LogisticRegression is 83.87%\n",
      "0.41000000000000003 Accuracy of LogisticRegression is 83.87%\n",
      "0.42 Accuracy of LogisticRegression is 83.87%\n",
      "0.43 Accuracy of LogisticRegression is 83.87%\n",
      "0.44 Accuracy of LogisticRegression is 83.87%\n",
      "0.45 Accuracy of LogisticRegression is 80.65%\n",
      "0.46 Accuracy of LogisticRegression is 80.65%\n",
      "0.47000000000000003 Accuracy of LogisticRegression is 80.65%\n",
      "0.48 Accuracy of LogisticRegression is 80.65%\n",
      "0.49 Accuracy of LogisticRegression is 80.65%\n",
      "0.5 Accuracy of LogisticRegression is 80.65%\n",
      "0.51 Accuracy of LogisticRegression is 83.87%\n",
      "0.52 Accuracy of LogisticRegression is 83.87%\n",
      "0.53 Accuracy of LogisticRegression is 80.65%\n",
      "0.54 Accuracy of LogisticRegression is 80.65%\n",
      "0.55 Accuracy of LogisticRegression is 83.87%\n",
      "0.56 Accuracy of LogisticRegression is 83.87%\n",
      "0.5700000000000001 Accuracy of LogisticRegression is 87.10%\n",
      "0.58 Accuracy of LogisticRegression is 87.10%\n",
      "0.59 Accuracy of LogisticRegression is 83.87%\n",
      "0.6 Accuracy of LogisticRegression is 83.87%\n",
      "0.61 Accuracy of LogisticRegression is 83.87%\n",
      "0.62 Accuracy of LogisticRegression is 83.87%\n",
      "0.63 Accuracy of LogisticRegression is 83.87%\n",
      "0.64 Accuracy of LogisticRegression is 83.87%\n",
      "0.65 Accuracy of LogisticRegression is 87.10%\n",
      "0.66 Accuracy of LogisticRegression is 87.10%\n",
      "0.67 Accuracy of LogisticRegression is 87.10%\n",
      "0.68 Accuracy of LogisticRegression is 87.10%\n",
      "0.6900000000000001 Accuracy of LogisticRegression is 83.87%\n",
      "0.7000000000000001 Accuracy of LogisticRegression is 83.87%\n",
      "0.71 Accuracy of LogisticRegression is 83.87%\n",
      "0.72 Accuracy of LogisticRegression is 80.65%\n",
      "0.73 Accuracy of LogisticRegression is 80.65%\n",
      "0.74 Accuracy of LogisticRegression is 80.65%\n",
      "0.75 Accuracy of LogisticRegression is 77.42%\n",
      "0.76 Accuracy of LogisticRegression is 77.42%\n",
      "0.77 Accuracy of LogisticRegression is 77.42%\n",
      "0.78 Accuracy of LogisticRegression is 77.42%\n",
      "0.79 Accuracy of LogisticRegression is 74.19%\n",
      "0.8 Accuracy of LogisticRegression is 74.19%\n",
      "0.81 Accuracy of LogisticRegression is 74.19%\n",
      "0.8200000000000001 Accuracy of LogisticRegression is 74.19%\n",
      "0.8300000000000001 Accuracy of LogisticRegression is 74.19%\n",
      "0.84 Accuracy of LogisticRegression is 74.19%\n",
      "0.85 Accuracy of LogisticRegression is 74.19%\n",
      "0.86 Accuracy of LogisticRegression is 74.19%\n",
      "0.87 Accuracy of LogisticRegression is 70.97%\n",
      "0.88 Accuracy of LogisticRegression is 70.97%\n",
      "0.89 Accuracy of LogisticRegression is 67.74%\n",
      "0.9 Accuracy of LogisticRegression is 67.74%\n",
      "0.91 Accuracy of LogisticRegression is 67.74%\n",
      "0.92 Accuracy of LogisticRegression is 64.52%\n",
      "0.93 Accuracy of LogisticRegression is 61.29%\n",
      "0.9400000000000001 Accuracy of LogisticRegression is 58.06%\n",
      "0.9500000000000001 Accuracy of LogisticRegression is 54.84%\n",
      "0.96 Accuracy of LogisticRegression is 54.84%\n",
      "0.97 Accuracy of LogisticRegression is 51.61%\n",
      "0.98 Accuracy of LogisticRegression is 48.39%\n",
      "0.99 Accuracy of LogisticRegression is 48.39%\n"
     ]
    }
   ],
   "source": [
    "acc_score_array = []\n",
    "\n",
    "for temp_thres in np.arange(0,1,0.01):\n",
    "    threshold = temp_thres\n",
    "    pred1 = (model1.predict_proba(valid_X)[:,1] > threshold).astype(int)\n",
    "    temp_acc_score = 100*metrics.accuracy_score(pred1, valid_Y)\n",
    "    print(temp_thres, 'Accuracy of LogisticRegression is {:.2f}%'.format(temp_acc_score))\n",
    "    acc_score_array.append(temp_acc_score)"
   ]
  },
  {
   "cell_type": "code",
   "execution_count": 139,
   "id": "64d713d9",
   "metadata": {},
   "outputs": [
    {
     "data": {
      "text/plain": [
       "Text(0, 0.5, 'accuracy score')"
      ]
     },
     "execution_count": 139,
     "metadata": {},
     "output_type": "execute_result"
    },
    {
     "data": {
      "image/png": "[encoded data removed]",
      "text/plain": [
       "<Figure size 432x288 with 1 Axes>"
      ]
     },
     "metadata": {
      "needs_background": "dark"
     },
     "output_type": "display_data"
    }
   ],
   "source": [
    "plt.plot(np.arange(0,1,0.01), acc_score_array)\n",
    "\n",
    "plt.xlabel('threshold')\n",
    "plt.ylabel('accuracy score')"
   ]
  },
  {
   "cell_type": "code",
   "execution_count": 140,
   "id": "79423dfb",
   "metadata": {},
   "outputs": [
    {
     "name": "stdout",
     "output_type": "stream",
     "text": [
      "87.09677419354838\n",
      "23\n"
     ]
    }
   ],
   "source": [
    "print(np.max(acc_score_array))\n",
    "print(np.argmax(acc_score_array))"
   ]
  },
  {
   "cell_type": "code",
   "execution_count": 141,
   "id": "f6cf23ad",
   "metadata": {},
   "outputs": [
    {
     "data": {
      "text/plain": [
       "LogisticRegression()"
      ]
     },
     "execution_count": 141,
     "metadata": {},
     "output_type": "execute_result"
    }
   ],
   "source": [
    "model1.fit(X, Y)"
   ]
  },
  {
   "cell_type": "code",
   "execution_count": 142,
   "id": "7b4193eb",
   "metadata": {},
   "outputs": [],
   "source": [
    "test.drop('id', axis=1, inplace=True)"
   ]
  },
  {
   "cell_type": "code",
   "execution_count": 143,
   "id": "c91ff38a",
   "metadata": {},
   "outputs": [
    {
     "data": {
      "text/html": [
       "<div>\n",
       "<style scoped>\n",
       "    .dataframe tbody tr th:only-of-type {\n",
       "        vertical-align: middle;\n",
       "    }\n",
       "\n",
       "    .dataframe tbody tr th {\n",
       "        vertical-align: top;\n",
       "    }\n",
       "\n",
       "    .dataframe thead th {\n",
       "        text-align: right;\n",
       "    }\n",
       "</style>\n",
       "<table border=\"1\" class=\"dataframe\">\n",
       "  <thead>\n",
       "    <tr style=\"text-align: right;\">\n",
       "      <th></th>\n",
       "      <th>age</th>\n",
       "      <th>sex</th>\n",
       "      <th>cp</th>\n",
       "      <th>trestbps</th>\n",
       "      <th>chol</th>\n",
       "      <th>fbs</th>\n",
       "      <th>restecg</th>\n",
       "      <th>thalach</th>\n",
       "      <th>exang</th>\n",
       "      <th>oldpeak</th>\n",
       "      <th>slope</th>\n",
       "      <th>ca</th>\n",
       "      <th>thal</th>\n",
       "    </tr>\n",
       "  </thead>\n",
       "  <tbody>\n",
       "    <tr>\n",
       "      <th>0</th>\n",
       "      <td>57</td>\n",
       "      <td>1</td>\n",
       "      <td>0</td>\n",
       "      <td>150</td>\n",
       "      <td>276</td>\n",
       "      <td>0</td>\n",
       "      <td>0</td>\n",
       "      <td>112</td>\n",
       "      <td>1</td>\n",
       "      <td>0.6</td>\n",
       "      <td>1</td>\n",
       "      <td>1</td>\n",
       "      <td>1</td>\n",
       "    </tr>\n",
       "    <tr>\n",
       "      <th>1</th>\n",
       "      <td>59</td>\n",
       "      <td>1</td>\n",
       "      <td>3</td>\n",
       "      <td>170</td>\n",
       "      <td>288</td>\n",
       "      <td>0</td>\n",
       "      <td>0</td>\n",
       "      <td>159</td>\n",
       "      <td>0</td>\n",
       "      <td>0.2</td>\n",
       "      <td>1</td>\n",
       "      <td>0</td>\n",
       "      <td>3</td>\n",
       "    </tr>\n",
       "    <tr>\n",
       "      <th>2</th>\n",
       "      <td>57</td>\n",
       "      <td>1</td>\n",
       "      <td>2</td>\n",
       "      <td>150</td>\n",
       "      <td>126</td>\n",
       "      <td>1</td>\n",
       "      <td>1</td>\n",
       "      <td>173</td>\n",
       "      <td>0</td>\n",
       "      <td>0.2</td>\n",
       "      <td>2</td>\n",
       "      <td>1</td>\n",
       "      <td>3</td>\n",
       "    </tr>\n",
       "    <tr>\n",
       "      <th>3</th>\n",
       "      <td>56</td>\n",
       "      <td>0</td>\n",
       "      <td>0</td>\n",
       "      <td>134</td>\n",
       "      <td>409</td>\n",
       "      <td>0</td>\n",
       "      <td>0</td>\n",
       "      <td>150</td>\n",
       "      <td>1</td>\n",
       "      <td>1.9</td>\n",
       "      <td>1</td>\n",
       "      <td>2</td>\n",
       "      <td>3</td>\n",
       "    </tr>\n",
       "    <tr>\n",
       "      <th>4</th>\n",
       "      <td>71</td>\n",
       "      <td>0</td>\n",
       "      <td>2</td>\n",
       "      <td>110</td>\n",
       "      <td>265</td>\n",
       "      <td>1</td>\n",
       "      <td>0</td>\n",
       "      <td>130</td>\n",
       "      <td>0</td>\n",
       "      <td>0.0</td>\n",
       "      <td>2</td>\n",
       "      <td>1</td>\n",
       "      <td>2</td>\n",
       "    </tr>\n",
       "  </tbody>\n",
       "</table>\n",
       "</div>"
      ],
      "text/plain": [
       "   age  sex  cp  trestbps  chol  fbs  restecg  thalach  exang  oldpeak  slope  \\\n",
       "0   57    1   0       150   276    0        0      112      1      0.6      1   \n",
       "1   59    1   3       170   288    0        0      159      0      0.2      1   \n",
       "2   57    1   2       150   126    1        1      173      0      0.2      2   \n",
       "3   56    0   0       134   409    0        0      150      1      1.9      1   \n",
       "4   71    0   2       110   265    1        0      130      0      0.0      2   \n",
       "\n",
       "   ca  thal  \n",
       "0   1     1  \n",
       "1   0     3  \n",
       "2   1     3  \n",
       "3   2     3  \n",
       "4   1     2  "
      ]
     },
     "execution_count": 143,
     "metadata": {},
     "output_type": "execute_result"
    }
   ],
   "source": [
    "test.head()"
   ]
  },
  {
   "cell_type": "code",
   "execution_count": 156,
   "id": "39cb8779",
   "metadata": {},
   "outputs": [
    {
     "data": {
      "text/plain": [
       "array([2.17445761e-01, 8.72943347e-01, 5.71997980e-01, 1.17541030e-02,\n",
       "       9.23697551e-01, 9.17872860e-01, 6.59860498e-01, 3.66144830e-04,\n",
       "       3.68607970e-03, 5.78907100e-01, 8.42006910e-01, 1.38494468e-01,\n",
       "       9.59416854e-01, 2.36143888e-02, 9.73663230e-01, 9.74394419e-01,\n",
       "       9.66043034e-01, 1.55943340e-02, 2.25569793e-03, 9.41004929e-03,\n",
       "       8.02785558e-01, 2.17982186e-02, 1.78733918e-01, 5.09577199e-01,\n",
       "       8.42392052e-01, 5.33250264e-01, 9.67959962e-01, 8.22604449e-01,\n",
       "       1.05021778e-03, 9.07766639e-01, 2.48219310e-02, 1.85385774e-02,\n",
       "       1.78563168e-03, 1.40695605e-01, 7.44417446e-01, 3.58767590e-02,\n",
       "       8.24787808e-01, 7.48170096e-01, 8.52593884e-01, 8.96524323e-01,\n",
       "       7.51511172e-02, 8.95097013e-01, 8.90156077e-01, 8.05834578e-01,\n",
       "       8.19463204e-01, 4.50608360e-04, 9.42461285e-01, 9.60711182e-01,\n",
       "       4.40114009e-02, 2.43222040e-02, 2.48113227e-02, 2.42030363e-03,\n",
       "       9.21609548e-01, 9.67824231e-01, 7.23577477e-02, 3.54008704e-05,\n",
       "       7.87569491e-03, 9.70085114e-01, 1.84832127e-03, 1.63447780e-03,\n",
       "       3.12683334e-02, 9.44208500e-01, 9.36072376e-02, 4.83408211e-01,\n",
       "       8.24151137e-01, 1.84614227e-02, 6.89797737e-01, 7.98811374e-01,\n",
       "       8.22557262e-01, 9.80233558e-01, 8.69473802e-01, 8.48564955e-01,\n",
       "       5.05207972e-01, 8.80528495e-01, 5.06245581e-02, 9.29449383e-01,\n",
       "       6.68320778e-01, 7.38528482e-01, 3.87428900e-02, 1.92529213e-03,\n",
       "       5.97116229e-02, 7.06571478e-02, 6.07469889e-01, 8.34457390e-01,\n",
       "       5.36088804e-01, 1.06648002e-02, 1.05138458e-04, 6.95950325e-01,\n",
       "       2.55645552e-01, 6.67332563e-01, 8.84902558e-01, 9.91868592e-01,\n",
       "       9.52162530e-01, 9.26208363e-01, 6.65836227e-01, 5.97116229e-02,\n",
       "       6.10388113e-01, 1.09024890e-02, 9.41008210e-01, 4.07498096e-01,\n",
       "       6.73903162e-01, 9.93760973e-01, 7.56409574e-01, 4.38484152e-03,\n",
       "       2.31971985e-01, 9.08060538e-01, 9.34570105e-01, 9.15397191e-01,\n",
       "       3.54103639e-01, 1.87736997e-02, 9.57201300e-01, 9.73420242e-01,\n",
       "       1.10768048e-03, 6.30124275e-01, 4.98156274e-01, 7.56388466e-01,\n",
       "       1.78203944e-01, 9.77385141e-01, 5.36881489e-01, 3.23442121e-02,\n",
       "       2.29596248e-02, 2.73145758e-02, 1.43504895e-02, 8.49461407e-01,\n",
       "       2.20048499e-03, 6.41435201e-03, 5.68792246e-01, 4.58789469e-02,\n",
       "       2.04239886e-01, 3.32139599e-01, 6.23381320e-01, 9.67058508e-01,\n",
       "       3.51025809e-01, 4.80128228e-02, 9.79806731e-01, 9.05542172e-01,\n",
       "       7.19580959e-01, 7.46508481e-01, 5.21427255e-01, 7.32149161e-02,\n",
       "       1.50977928e-03, 2.88471593e-02, 9.36849906e-01, 8.94854278e-01,\n",
       "       9.86834474e-01, 9.91453473e-01, 1.42199631e-03, 3.52499848e-02,\n",
       "       6.58579160e-02, 1.30276016e-03, 9.54045736e-01, 9.70566813e-01])"
      ]
     },
     "execution_count": 156,
     "metadata": {},
     "output_type": "execute_result"
    }
   ],
   "source": [
    "model1.predict_proba(test)[:,1]"
   ]
  },
  {
   "cell_type": "code",
   "execution_count": 179,
   "id": "05df58ef",
   "metadata": {},
   "outputs": [],
   "source": [
    "real_pred1 = (model1.predict_proba(test)[:,1] > 0.23).astype(int)"
   ]
  },
  {
   "cell_type": "code",
   "execution_count": 180,
   "id": "47857e44",
   "metadata": {},
   "outputs": [
    {
     "data": {
      "text/plain": [
       "array([0, 1, 1, 0, 1, 1, 1, 0, 0, 1, 1, 0, 1, 0, 1, 1, 1, 0, 0, 0, 1, 0,\n",
       "       0, 1, 1, 1, 1, 1, 0, 1, 0, 0, 0, 0, 1, 0, 1, 1, 1, 1, 0, 1, 1, 1,\n",
       "       1, 0, 1, 1, 0, 0, 0, 0, 1, 1, 0, 0, 0, 1, 0, 0, 0, 1, 0, 1, 1, 0,\n",
       "       1, 1, 1, 1, 1, 1, 1, 1, 0, 1, 1, 1, 0, 0, 0, 0, 1, 1, 1, 0, 0, 1,\n",
       "       1, 1, 1, 1, 1, 1, 1, 0, 1, 0, 1, 1, 1, 1, 1, 0, 1, 1, 1, 1, 1, 0,\n",
       "       1, 1, 0, 1, 1, 1, 0, 1, 1, 0, 0, 0, 0, 1, 0, 0, 1, 0, 0, 1, 1, 1,\n",
       "       1, 0, 1, 1, 1, 1, 1, 0, 0, 0, 1, 1, 1, 1, 0, 0, 0, 0, 1, 1])"
      ]
     },
     "execution_count": 180,
     "metadata": {},
     "output_type": "execute_result"
    }
   ],
   "source": [
    "real_pred1"
   ]
  },
  {
   "cell_type": "code",
   "execution_count": 182,
   "id": "b7bd491e",
   "metadata": {},
   "outputs": [
    {
     "data": {
      "text/plain": [
       "LogisticRegression(n_jobs=-1, random_state=2021, solver='liblinear')"
      ]
     },
     "execution_count": 182,
     "metadata": {},
     "output_type": "execute_result"
    }
   ],
   "source": [
    "model1_1 = LogisticRegression(solver='liblinear', n_jobs=-1, random_state=2021)\n",
    "model1_1.fit(train_X, train_Y)"
   ]
  },
  {
   "cell_type": "code",
   "execution_count": 183,
   "id": "8a34bee9",
   "metadata": {},
   "outputs": [
    {
     "name": "stdout",
     "output_type": "stream",
     "text": [
      "0.0 f1_score of LogisticRegression2 is 70.83%\n",
      "0.01 f1_score of LogisticRegression2 is 77.27%\n",
      "0.02 f1_score of LogisticRegression2 is 79.07%\n",
      "0.03 f1_score of LogisticRegression2 is 80.95%\n",
      "0.04 f1_score of LogisticRegression2 is 80.95%\n",
      "0.05 f1_score of LogisticRegression2 is 80.95%\n",
      "0.06 f1_score of LogisticRegression2 is 80.95%\n",
      "0.07 f1_score of LogisticRegression2 is 82.93%\n",
      "0.08 f1_score of LogisticRegression2 is 82.93%\n",
      "0.09 f1_score of LogisticRegression2 is 82.93%\n",
      "0.1 f1_score of LogisticRegression2 is 82.93%\n",
      "0.11 f1_score of LogisticRegression2 is 82.93%\n",
      "0.12 f1_score of LogisticRegression2 is 85.00%\n",
      "0.13 f1_score of LogisticRegression2 is 87.18%\n",
      "0.14 f1_score of LogisticRegression2 is 87.18%\n",
      "0.15 f1_score of LogisticRegression2 is 87.18%\n",
      "0.16 f1_score of LogisticRegression2 is 87.18%\n",
      "0.17 f1_score of LogisticRegression2 is 87.18%\n",
      "0.18 f1_score of LogisticRegression2 is 87.18%\n",
      "0.19 f1_score of LogisticRegression2 is 87.18%\n",
      "0.2 f1_score of LogisticRegression2 is 87.18%\n",
      "0.21 f1_score of LogisticRegression2 is 87.18%\n",
      "0.22 f1_score of LogisticRegression2 is 89.47%\n",
      "0.23 f1_score of LogisticRegression2 is 89.47%\n",
      "0.24 f1_score of LogisticRegression2 is 89.47%\n",
      "0.25 f1_score of LogisticRegression2 is 89.47%\n",
      "0.26 f1_score of LogisticRegression2 is 89.47%\n",
      "0.27 f1_score of LogisticRegression2 is 89.47%\n",
      "0.28 f1_score of LogisticRegression2 is 89.47%\n",
      "0.29 f1_score of LogisticRegression2 is 89.47%\n",
      "0.3 f1_score of LogisticRegression2 is 89.47%\n",
      "0.31 f1_score of LogisticRegression2 is 89.47%\n",
      "0.32 f1_score of LogisticRegression2 is 89.47%\n",
      "0.33 f1_score of LogisticRegression2 is 89.47%\n",
      "0.34 f1_score of LogisticRegression2 is 89.47%\n",
      "0.35000000000000003 f1_score of LogisticRegression2 is 89.47%\n",
      "0.36 f1_score of LogisticRegression2 is 89.47%\n",
      "0.37 f1_score of LogisticRegression2 is 89.47%\n",
      "0.38 f1_score of LogisticRegression2 is 89.47%\n",
      "0.39 f1_score of LogisticRegression2 is 89.47%\n",
      "0.4 f1_score of LogisticRegression2 is 86.49%\n",
      "0.41000000000000003 f1_score of LogisticRegression2 is 86.49%\n",
      "0.42 f1_score of LogisticRegression2 is 86.49%\n",
      "0.43 f1_score of LogisticRegression2 is 86.49%\n",
      "0.44 f1_score of LogisticRegression2 is 86.49%\n",
      "0.45 f1_score of LogisticRegression2 is 86.49%\n",
      "0.46 f1_score of LogisticRegression2 is 83.33%\n",
      "0.47000000000000003 f1_score of LogisticRegression2 is 83.33%\n",
      "0.48 f1_score of LogisticRegression2 is 83.33%\n",
      "0.49 f1_score of LogisticRegression2 is 83.33%\n",
      "0.5 f1_score of LogisticRegression2 is 83.33%\n",
      "0.51 f1_score of LogisticRegression2 is 82.35%\n",
      "0.52 f1_score of LogisticRegression2 is 82.35%\n",
      "0.53 f1_score of LogisticRegression2 is 82.35%\n",
      "0.54 f1_score of LogisticRegression2 is 84.85%\n",
      "0.55 f1_score of LogisticRegression2 is 84.85%\n",
      "0.56 f1_score of LogisticRegression2 is 84.85%\n",
      "0.5700000000000001 f1_score of LogisticRegression2 is 87.50%\n",
      "0.58 f1_score of LogisticRegression2 is 87.50%\n",
      "0.59 f1_score of LogisticRegression2 is 87.50%\n",
      "0.6 f1_score of LogisticRegression2 is 87.50%\n",
      "0.61 f1_score of LogisticRegression2 is 87.50%\n",
      "0.62 f1_score of LogisticRegression2 is 83.87%\n",
      "0.63 f1_score of LogisticRegression2 is 83.87%\n",
      "0.64 f1_score of LogisticRegression2 is 83.87%\n",
      "0.65 f1_score of LogisticRegression2 is 83.87%\n",
      "0.66 f1_score of LogisticRegression2 is 86.67%\n",
      "0.67 f1_score of LogisticRegression2 is 86.67%\n",
      "0.68 f1_score of LogisticRegression2 is 86.67%\n",
      "0.6900000000000001 f1_score of LogisticRegression2 is 82.76%\n",
      "0.7000000000000001 f1_score of LogisticRegression2 is 82.76%\n",
      "0.71 f1_score of LogisticRegression2 is 82.76%\n",
      "0.72 f1_score of LogisticRegression2 is 82.76%\n",
      "0.73 f1_score of LogisticRegression2 is 78.57%\n",
      "0.74 f1_score of LogisticRegression2 is 78.57%\n",
      "0.75 f1_score of LogisticRegression2 is 74.07%\n",
      "0.76 f1_score of LogisticRegression2 is 74.07%\n",
      "0.77 f1_score of LogisticRegression2 is 74.07%\n",
      "0.78 f1_score of LogisticRegression2 is 74.07%\n",
      "0.79 f1_score of LogisticRegression2 is 69.23%\n",
      "0.8 f1_score of LogisticRegression2 is 69.23%\n",
      "0.81 f1_score of LogisticRegression2 is 69.23%\n",
      "0.8200000000000001 f1_score of LogisticRegression2 is 69.23%\n",
      "0.8300000000000001 f1_score of LogisticRegression2 is 69.23%\n",
      "0.84 f1_score of LogisticRegression2 is 69.23%\n",
      "0.85 f1_score of LogisticRegression2 is 69.23%\n",
      "0.86 f1_score of LogisticRegression2 is 69.23%\n",
      "0.87 f1_score of LogisticRegression2 is 69.23%\n",
      "0.88 f1_score of LogisticRegression2 is 64.00%\n",
      "0.89 f1_score of LogisticRegression2 is 58.33%\n",
      "0.9 f1_score of LogisticRegression2 is 58.33%\n",
      "0.91 f1_score of LogisticRegression2 is 58.33%\n",
      "0.92 f1_score of LogisticRegression2 is 58.33%\n",
      "0.93 f1_score of LogisticRegression2 is 52.17%\n",
      "0.9400000000000001 f1_score of LogisticRegression2 is 38.10%\n",
      "0.9500000000000001 f1_score of LogisticRegression2 is 30.00%\n",
      "0.96 f1_score of LogisticRegression2 is 30.00%\n",
      "0.97 f1_score of LogisticRegression2 is 21.05%\n",
      "0.98 f1_score of LogisticRegression2 is 11.11%\n",
      "0.99 f1_score of LogisticRegression2 is 11.11%\n"
     ]
    }
   ],
   "source": [
    "f1_score_array = []\n",
    "\n",
    "for temp_thres in np.arange(0,1,0.01):\n",
    "    threshold = temp_thres\n",
    "    pred1_1 = (model1_1.predict_proba(valid_X)[:,1] > threshold).astype(int)\n",
    "    temp_f1_score = 100*f1_score(valid_Y, pred1_1)\n",
    "    print(temp_thres, 'f1_score of LogisticRegression2 is {:.2f}%'.format(temp_f1_score))\n",
    "    f1_score_array.append(temp_f1_score)"
   ]
  },
  {
   "cell_type": "code",
   "execution_count": 184,
   "id": "6d77b285",
   "metadata": {},
   "outputs": [
    {
     "data": {
      "text/plain": [
       "Text(0, 0.5, 'f1 score')"
      ]
     },
     "execution_count": 184,
     "metadata": {},
     "output_type": "execute_result"
    },
    {
     "data": {
      "image/png": "[encoded data removed]",
      "text/plain": [
       "<Figure size 432x288 with 1 Axes>"
      ]
     },
     "metadata": {
      "needs_background": "dark"
     },
     "output_type": "display_data"
    }
   ],
   "source": [
    "plt.plot(np.arange(0,1,0.01), f1_score_array)\n",
    "\n",
    "plt.xlabel('threshold')\n",
    "plt.ylabel('f1 score')"
   ]
  },
  {
   "cell_type": "code",
   "execution_count": 185,
   "id": "f7c89325",
   "metadata": {},
   "outputs": [
    {
     "name": "stdout",
     "output_type": "stream",
     "text": [
      "89.47368421052632\n",
      "22\n"
     ]
    }
   ],
   "source": [
    "print(np.max(f1_score_array))\n",
    "print(np.argmax(f1_score_array))"
   ]
  },
  {
   "cell_type": "code",
   "execution_count": 186,
   "id": "bc4c0882",
   "metadata": {},
   "outputs": [
    {
     "name": "stdout",
     "output_type": "stream",
     "text": [
      "0.0 Accuracy of LogisticRegression2 is 54.84%\n",
      "0.01 Accuracy of LogisticRegression2 is 67.74%\n",
      "0.02 Accuracy of LogisticRegression2 is 70.97%\n",
      "0.03 Accuracy of LogisticRegression2 is 74.19%\n",
      "0.04 Accuracy of LogisticRegression2 is 74.19%\n",
      "0.05 Accuracy of LogisticRegression2 is 74.19%\n",
      "0.06 Accuracy of LogisticRegression2 is 74.19%\n",
      "0.07 Accuracy of LogisticRegression2 is 77.42%\n",
      "0.08 Accuracy of LogisticRegression2 is 77.42%\n",
      "0.09 Accuracy of LogisticRegression2 is 77.42%\n",
      "0.1 Accuracy of LogisticRegression2 is 77.42%\n",
      "0.11 Accuracy of LogisticRegression2 is 77.42%\n",
      "0.12 Accuracy of LogisticRegression2 is 80.65%\n",
      "0.13 Accuracy of LogisticRegression2 is 83.87%\n",
      "0.14 Accuracy of LogisticRegression2 is 83.87%\n",
      "0.15 Accuracy of LogisticRegression2 is 83.87%\n",
      "0.16 Accuracy of LogisticRegression2 is 83.87%\n",
      "0.17 Accuracy of LogisticRegression2 is 83.87%\n",
      "0.18 Accuracy of LogisticRegression2 is 83.87%\n",
      "0.19 Accuracy of LogisticRegression2 is 83.87%\n",
      "0.2 Accuracy of LogisticRegression2 is 83.87%\n",
      "0.21 Accuracy of LogisticRegression2 is 83.87%\n",
      "0.22 Accuracy of LogisticRegression2 is 87.10%\n",
      "0.23 Accuracy of LogisticRegression2 is 87.10%\n",
      "0.24 Accuracy of LogisticRegression2 is 87.10%\n",
      "0.25 Accuracy of LogisticRegression2 is 87.10%\n",
      "0.26 Accuracy of LogisticRegression2 is 87.10%\n",
      "0.27 Accuracy of LogisticRegression2 is 87.10%\n",
      "0.28 Accuracy of LogisticRegression2 is 87.10%\n",
      "0.29 Accuracy of LogisticRegression2 is 87.10%\n",
      "0.3 Accuracy of LogisticRegression2 is 87.10%\n",
      "0.31 Accuracy of LogisticRegression2 is 87.10%\n",
      "0.32 Accuracy of LogisticRegression2 is 87.10%\n",
      "0.33 Accuracy of LogisticRegression2 is 87.10%\n",
      "0.34 Accuracy of LogisticRegression2 is 87.10%\n",
      "0.35000000000000003 Accuracy of LogisticRegression2 is 87.10%\n",
      "0.36 Accuracy of LogisticRegression2 is 87.10%\n",
      "0.37 Accuracy of LogisticRegression2 is 87.10%\n",
      "0.38 Accuracy of LogisticRegression2 is 87.10%\n",
      "0.39 Accuracy of LogisticRegression2 is 87.10%\n",
      "0.4 Accuracy of LogisticRegression2 is 83.87%\n",
      "0.41000000000000003 Accuracy of LogisticRegression2 is 83.87%\n",
      "0.42 Accuracy of LogisticRegression2 is 83.87%\n",
      "0.43 Accuracy of LogisticRegression2 is 83.87%\n",
      "0.44 Accuracy of LogisticRegression2 is 83.87%\n",
      "0.45 Accuracy of LogisticRegression2 is 83.87%\n",
      "0.46 Accuracy of LogisticRegression2 is 80.65%\n",
      "0.47000000000000003 Accuracy of LogisticRegression2 is 80.65%\n",
      "0.48 Accuracy of LogisticRegression2 is 80.65%\n",
      "0.49 Accuracy of LogisticRegression2 is 80.65%\n",
      "0.5 Accuracy of LogisticRegression2 is 80.65%\n",
      "0.51 Accuracy of LogisticRegression2 is 80.65%\n",
      "0.52 Accuracy of LogisticRegression2 is 80.65%\n",
      "0.53 Accuracy of LogisticRegression2 is 80.65%\n",
      "0.54 Accuracy of LogisticRegression2 is 83.87%\n",
      "0.55 Accuracy of LogisticRegression2 is 83.87%\n",
      "0.56 Accuracy of LogisticRegression2 is 83.87%\n",
      "0.5700000000000001 Accuracy of LogisticRegression2 is 87.10%\n",
      "0.58 Accuracy of LogisticRegression2 is 87.10%\n",
      "0.59 Accuracy of LogisticRegression2 is 87.10%\n",
      "0.6 Accuracy of LogisticRegression2 is 87.10%\n",
      "0.61 Accuracy of LogisticRegression2 is 87.10%\n",
      "0.62 Accuracy of LogisticRegression2 is 83.87%\n",
      "0.63 Accuracy of LogisticRegression2 is 83.87%\n",
      "0.64 Accuracy of LogisticRegression2 is 83.87%\n",
      "0.65 Accuracy of LogisticRegression2 is 83.87%\n",
      "0.66 Accuracy of LogisticRegression2 is 87.10%\n",
      "0.67 Accuracy of LogisticRegression2 is 87.10%\n",
      "0.68 Accuracy of LogisticRegression2 is 87.10%\n",
      "0.6900000000000001 Accuracy of LogisticRegression2 is 83.87%\n",
      "0.7000000000000001 Accuracy of LogisticRegression2 is 83.87%\n",
      "0.71 Accuracy of LogisticRegression2 is 83.87%\n",
      "0.72 Accuracy of LogisticRegression2 is 83.87%\n",
      "0.73 Accuracy of LogisticRegression2 is 80.65%\n",
      "0.74 Accuracy of LogisticRegression2 is 80.65%\n",
      "0.75 Accuracy of LogisticRegression2 is 77.42%\n",
      "0.76 Accuracy of LogisticRegression2 is 77.42%\n",
      "0.77 Accuracy of LogisticRegression2 is 77.42%\n",
      "0.78 Accuracy of LogisticRegression2 is 77.42%\n",
      "0.79 Accuracy of LogisticRegression2 is 74.19%\n",
      "0.8 Accuracy of LogisticRegression2 is 74.19%\n",
      "0.81 Accuracy of LogisticRegression2 is 74.19%\n",
      "0.8200000000000001 Accuracy of LogisticRegression2 is 74.19%\n",
      "0.8300000000000001 Accuracy of LogisticRegression2 is 74.19%\n",
      "0.84 Accuracy of LogisticRegression2 is 74.19%\n",
      "0.85 Accuracy of LogisticRegression2 is 74.19%\n",
      "0.86 Accuracy of LogisticRegression2 is 74.19%\n",
      "0.87 Accuracy of LogisticRegression2 is 74.19%\n",
      "0.88 Accuracy of LogisticRegression2 is 70.97%\n",
      "0.89 Accuracy of LogisticRegression2 is 67.74%\n",
      "0.9 Accuracy of LogisticRegression2 is 67.74%\n",
      "0.91 Accuracy of LogisticRegression2 is 67.74%\n",
      "0.92 Accuracy of LogisticRegression2 is 67.74%\n",
      "0.93 Accuracy of LogisticRegression2 is 64.52%\n",
      "0.9400000000000001 Accuracy of LogisticRegression2 is 58.06%\n",
      "0.9500000000000001 Accuracy of LogisticRegression2 is 54.84%\n",
      "0.96 Accuracy of LogisticRegression2 is 54.84%\n",
      "0.97 Accuracy of LogisticRegression2 is 51.61%\n",
      "0.98 Accuracy of LogisticRegression2 is 48.39%\n",
      "0.99 Accuracy of LogisticRegression2 is 48.39%\n"
     ]
    }
   ],
   "source": [
    "acc_score_array = []\n",
    "\n",
    "for temp_thres in np.arange(0,1,0.01):\n",
    "    threshold = temp_thres\n",
    "    pred1_1 = (model1_1.predict_proba(valid_X)[:,1] > threshold).astype(int)\n",
    "    temp_acc_score = 100*metrics.accuracy_score(pred1_1, valid_Y)\n",
    "    print(temp_thres, 'Accuracy of LogisticRegression2 is {:.2f}%'.format(temp_acc_score))\n",
    "    acc_score_array.append(temp_acc_score)"
   ]
  },
  {
   "cell_type": "code",
   "execution_count": 187,
   "id": "3a5f5b28",
   "metadata": {},
   "outputs": [
    {
     "data": {
      "text/plain": [
       "Text(0, 0.5, 'accuracy score')"
      ]
     },
     "execution_count": 187,
     "metadata": {},
     "output_type": "execute_result"
    },
    {
     "data": {
      "image/png": "[encoded data removed]",
      "text/plain": [
       "<Figure size 432x288 with 1 Axes>"
      ]
     },
     "metadata": {
      "needs_background": "dark"
     },
     "output_type": "display_data"
    }
   ],
   "source": [
    "plt.plot(np.arange(0,1,0.01), acc_score_array)\n",
    "\n",
    "plt.xlabel('threshold')\n",
    "plt.ylabel('accuracy score')"
   ]
  },
  {
   "cell_type": "code",
   "execution_count": 188,
   "id": "b3ebb27c",
   "metadata": {},
   "outputs": [
    {
     "name": "stdout",
     "output_type": "stream",
     "text": [
      "87.09677419354838\n",
      "22\n"
     ]
    }
   ],
   "source": [
    "print(np.max(acc_score_array))\n",
    "print(np.argmax(acc_score_array))"
   ]
  },
  {
   "cell_type": "code",
   "execution_count": 189,
   "id": "1891a6d3",
   "metadata": {},
   "outputs": [
    {
     "data": {
      "text/plain": [
       "LogisticRegression()"
      ]
     },
     "execution_count": 189,
     "metadata": {},
     "output_type": "execute_result"
    }
   ],
   "source": [
    "model1.fit(X, Y)"
   ]
  },
  {
   "cell_type": "code",
   "execution_count": 192,
   "id": "e046b203",
   "metadata": {},
   "outputs": [],
   "source": [
    "real_pred1 = (model1.predict_proba(test)[:,1] > 0.23).astype(int)"
   ]
  },
  {
   "cell_type": "code",
   "execution_count": 193,
   "id": "fb3043c7",
   "metadata": {},
   "outputs": [],
   "source": [
    "submission['target'] = real_pred1\n",
    "submission.to_csv('submission1.csv', index=False)"
   ]
  },
  {
   "cell_type": "code",
   "execution_count": 194,
   "id": "d7b22f75",
   "metadata": {},
   "outputs": [
    {
     "data": {
      "text/plain": [
       "LogisticRegression(n_jobs=-1, random_state=2021, solver='liblinear')"
      ]
     },
     "execution_count": 194,
     "metadata": {},
     "output_type": "execute_result"
    }
   ],
   "source": [
    "model1_1 = LogisticRegression(solver='liblinear', n_jobs=-1, random_state=2021)\n",
    "model1_1.fit(train_X, train_Y)"
   ]
  },
  {
   "cell_type": "code",
   "execution_count": 195,
   "id": "61478c90",
   "metadata": {},
   "outputs": [
    {
     "name": "stdout",
     "output_type": "stream",
     "text": [
      "0.0 f1_score of LogisticRegression2 is 70.83%\n",
      "0.01 f1_score of LogisticRegression2 is 77.27%\n",
      "0.02 f1_score of LogisticRegression2 is 79.07%\n",
      "0.03 f1_score of LogisticRegression2 is 80.95%\n",
      "0.04 f1_score of LogisticRegression2 is 80.95%\n",
      "0.05 f1_score of LogisticRegression2 is 80.95%\n",
      "0.06 f1_score of LogisticRegression2 is 80.95%\n",
      "0.07 f1_score of LogisticRegression2 is 82.93%\n",
      "0.08 f1_score of LogisticRegression2 is 82.93%\n",
      "0.09 f1_score of LogisticRegression2 is 82.93%\n",
      "0.1 f1_score of LogisticRegression2 is 82.93%\n",
      "0.11 f1_score of LogisticRegression2 is 82.93%\n",
      "0.12 f1_score of LogisticRegression2 is 85.00%\n",
      "0.13 f1_score of LogisticRegression2 is 87.18%\n",
      "0.14 f1_score of LogisticRegression2 is 87.18%\n",
      "0.15 f1_score of LogisticRegression2 is 87.18%\n",
      "0.16 f1_score of LogisticRegression2 is 87.18%\n",
      "0.17 f1_score of LogisticRegression2 is 87.18%\n",
      "0.18 f1_score of LogisticRegression2 is 87.18%\n",
      "0.19 f1_score of LogisticRegression2 is 87.18%\n",
      "0.2 f1_score of LogisticRegression2 is 87.18%\n",
      "0.21 f1_score of LogisticRegression2 is 87.18%\n",
      "0.22 f1_score of LogisticRegression2 is 89.47%\n",
      "0.23 f1_score of LogisticRegression2 is 89.47%\n",
      "0.24 f1_score of LogisticRegression2 is 89.47%\n",
      "0.25 f1_score of LogisticRegression2 is 89.47%\n",
      "0.26 f1_score of LogisticRegression2 is 89.47%\n",
      "0.27 f1_score of LogisticRegression2 is 89.47%\n",
      "0.28 f1_score of LogisticRegression2 is 89.47%\n",
      "0.29 f1_score of LogisticRegression2 is 89.47%\n",
      "0.3 f1_score of LogisticRegression2 is 89.47%\n",
      "0.31 f1_score of LogisticRegression2 is 89.47%\n",
      "0.32 f1_score of LogisticRegression2 is 89.47%\n",
      "0.33 f1_score of LogisticRegression2 is 89.47%\n",
      "0.34 f1_score of LogisticRegression2 is 89.47%\n",
      "0.35000000000000003 f1_score of LogisticRegression2 is 89.47%\n",
      "0.36 f1_score of LogisticRegression2 is 89.47%\n",
      "0.37 f1_score of LogisticRegression2 is 89.47%\n",
      "0.38 f1_score of LogisticRegression2 is 89.47%\n",
      "0.39 f1_score of LogisticRegression2 is 89.47%\n",
      "0.4 f1_score of LogisticRegression2 is 86.49%\n",
      "0.41000000000000003 f1_score of LogisticRegression2 is 86.49%\n",
      "0.42 f1_score of LogisticRegression2 is 86.49%\n",
      "0.43 f1_score of LogisticRegression2 is 86.49%\n",
      "0.44 f1_score of LogisticRegression2 is 86.49%\n",
      "0.45 f1_score of LogisticRegression2 is 86.49%\n",
      "0.46 f1_score of LogisticRegression2 is 83.33%\n",
      "0.47000000000000003 f1_score of LogisticRegression2 is 83.33%\n",
      "0.48 f1_score of LogisticRegression2 is 83.33%\n",
      "0.49 f1_score of LogisticRegression2 is 83.33%\n",
      "0.5 f1_score of LogisticRegression2 is 83.33%\n",
      "0.51 f1_score of LogisticRegression2 is 82.35%\n",
      "0.52 f1_score of LogisticRegression2 is 82.35%\n",
      "0.53 f1_score of LogisticRegression2 is 82.35%\n",
      "0.54 f1_score of LogisticRegression2 is 84.85%\n",
      "0.55 f1_score of LogisticRegression2 is 84.85%\n",
      "0.56 f1_score of LogisticRegression2 is 84.85%\n",
      "0.5700000000000001 f1_score of LogisticRegression2 is 87.50%\n",
      "0.58 f1_score of LogisticRegression2 is 87.50%\n",
      "0.59 f1_score of LogisticRegression2 is 87.50%\n",
      "0.6 f1_score of LogisticRegression2 is 87.50%\n",
      "0.61 f1_score of LogisticRegression2 is 87.50%\n",
      "0.62 f1_score of LogisticRegression2 is 83.87%\n",
      "0.63 f1_score of LogisticRegression2 is 83.87%\n",
      "0.64 f1_score of LogisticRegression2 is 83.87%\n",
      "0.65 f1_score of LogisticRegression2 is 83.87%\n",
      "0.66 f1_score of LogisticRegression2 is 86.67%\n",
      "0.67 f1_score of LogisticRegression2 is 86.67%\n",
      "0.68 f1_score of LogisticRegression2 is 86.67%\n",
      "0.6900000000000001 f1_score of LogisticRegression2 is 82.76%\n",
      "0.7000000000000001 f1_score of LogisticRegression2 is 82.76%\n",
      "0.71 f1_score of LogisticRegression2 is 82.76%\n",
      "0.72 f1_score of LogisticRegression2 is 82.76%\n",
      "0.73 f1_score of LogisticRegression2 is 78.57%\n",
      "0.74 f1_score of LogisticRegression2 is 78.57%\n",
      "0.75 f1_score of LogisticRegression2 is 74.07%\n",
      "0.76 f1_score of LogisticRegression2 is 74.07%\n",
      "0.77 f1_score of LogisticRegression2 is 74.07%\n",
      "0.78 f1_score of LogisticRegression2 is 74.07%\n",
      "0.79 f1_score of LogisticRegression2 is 69.23%\n",
      "0.8 f1_score of LogisticRegression2 is 69.23%\n",
      "0.81 f1_score of LogisticRegression2 is 69.23%\n",
      "0.8200000000000001 f1_score of LogisticRegression2 is 69.23%\n",
      "0.8300000000000001 f1_score of LogisticRegression2 is 69.23%\n",
      "0.84 f1_score of LogisticRegression2 is 69.23%\n",
      "0.85 f1_score of LogisticRegression2 is 69.23%\n",
      "0.86 f1_score of LogisticRegression2 is 69.23%\n",
      "0.87 f1_score of LogisticRegression2 is 69.23%\n",
      "0.88 f1_score of LogisticRegression2 is 64.00%\n",
      "0.89 f1_score of LogisticRegression2 is 58.33%\n",
      "0.9 f1_score of LogisticRegression2 is 58.33%\n",
      "0.91 f1_score of LogisticRegression2 is 58.33%\n",
      "0.92 f1_score of LogisticRegression2 is 58.33%\n",
      "0.93 f1_score of LogisticRegression2 is 52.17%\n",
      "0.9400000000000001 f1_score of LogisticRegression2 is 38.10%\n",
      "0.9500000000000001 f1_score of LogisticRegression2 is 30.00%\n",
      "0.96 f1_score of LogisticRegression2 is 30.00%\n",
      "0.97 f1_score of LogisticRegression2 is 21.05%\n",
      "0.98 f1_score of LogisticRegression2 is 11.11%\n",
      "0.99 f1_score of LogisticRegression2 is 11.11%\n"
     ]
    }
   ],
   "source": [
    "f1_score_array = []\n",
    "\n",
    "for temp_thres in np.arange(0,1,0.01):\n",
    "    threshold = temp_thres\n",
    "    pred1_1 = (model1_1.predict_proba(valid_X)[:,1] > threshold).astype(int)\n",
    "    temp_f1_score = 100*f1_score(valid_Y, pred1_1)\n",
    "    print(temp_thres, 'f1_score of LogisticRegression2 is {:.2f}%'.format(temp_f1_score))\n",
    "    f1_score_array.append(temp_f1_score)"
   ]
  },
  {
   "cell_type": "code",
   "execution_count": 196,
   "id": "b36dcbc9",
   "metadata": {},
   "outputs": [
    {
     "data": {
      "text/plain": [
       "Text(0, 0.5, 'f1 score')"
      ]
     },
     "execution_count": 196,
     "metadata": {},
     "output_type": "execute_result"
    },
    {
     "data": {
      "image/png": "[encoded data removed]",
      "text/plain": [
       "<Figure size 432x288 with 1 Axes>"
      ]
     },
     "metadata": {
      "needs_background": "dark"
     },
     "output_type": "display_data"
    }
   ],
   "source": [
    "plt.plot(np.arange(0,1,0.01), f1_score_array)\n",
    "\n",
    "plt.xlabel('threshold')\n",
    "plt.ylabel('f1 score')"
   ]
  },
  {
   "cell_type": "code",
   "execution_count": 197,
   "id": "be58448e",
   "metadata": {},
   "outputs": [
    {
     "name": "stdout",
     "output_type": "stream",
     "text": [
      "89.47368421052632\n",
      "22\n"
     ]
    }
   ],
   "source": [
    "print(np.max(f1_score_array))\n",
    "print(np.argmax(f1_score_array))"
   ]
  },
  {
   "cell_type": "code",
   "execution_count": 198,
   "id": "b20028c0",
   "metadata": {},
   "outputs": [
    {
     "name": "stdout",
     "output_type": "stream",
     "text": [
      "0.0 Accuracy of LogisticRegression2 is 54.84%\n",
      "0.01 Accuracy of LogisticRegression2 is 67.74%\n",
      "0.02 Accuracy of LogisticRegression2 is 70.97%\n",
      "0.03 Accuracy of LogisticRegression2 is 74.19%\n",
      "0.04 Accuracy of LogisticRegression2 is 74.19%\n",
      "0.05 Accuracy of LogisticRegression2 is 74.19%\n",
      "0.06 Accuracy of LogisticRegression2 is 74.19%\n",
      "0.07 Accuracy of LogisticRegression2 is 77.42%\n",
      "0.08 Accuracy of LogisticRegression2 is 77.42%\n",
      "0.09 Accuracy of LogisticRegression2 is 77.42%\n",
      "0.1 Accuracy of LogisticRegression2 is 77.42%\n",
      "0.11 Accuracy of LogisticRegression2 is 77.42%\n",
      "0.12 Accuracy of LogisticRegression2 is 80.65%\n",
      "0.13 Accuracy of LogisticRegression2 is 83.87%\n",
      "0.14 Accuracy of LogisticRegression2 is 83.87%\n",
      "0.15 Accuracy of LogisticRegression2 is 83.87%\n",
      "0.16 Accuracy of LogisticRegression2 is 83.87%\n",
      "0.17 Accuracy of LogisticRegression2 is 83.87%\n",
      "0.18 Accuracy of LogisticRegression2 is 83.87%\n",
      "0.19 Accuracy of LogisticRegression2 is 83.87%\n",
      "0.2 Accuracy of LogisticRegression2 is 83.87%\n",
      "0.21 Accuracy of LogisticRegression2 is 83.87%\n",
      "0.22 Accuracy of LogisticRegression2 is 87.10%\n",
      "0.23 Accuracy of LogisticRegression2 is 87.10%\n",
      "0.24 Accuracy of LogisticRegression2 is 87.10%\n",
      "0.25 Accuracy of LogisticRegression2 is 87.10%\n",
      "0.26 Accuracy of LogisticRegression2 is 87.10%\n",
      "0.27 Accuracy of LogisticRegression2 is 87.10%\n",
      "0.28 Accuracy of LogisticRegression2 is 87.10%\n",
      "0.29 Accuracy of LogisticRegression2 is 87.10%\n",
      "0.3 Accuracy of LogisticRegression2 is 87.10%\n",
      "0.31 Accuracy of LogisticRegression2 is 87.10%\n",
      "0.32 Accuracy of LogisticRegression2 is 87.10%\n",
      "0.33 Accuracy of LogisticRegression2 is 87.10%\n",
      "0.34 Accuracy of LogisticRegression2 is 87.10%\n",
      "0.35000000000000003 Accuracy of LogisticRegression2 is 87.10%\n",
      "0.36 Accuracy of LogisticRegression2 is 87.10%\n",
      "0.37 Accuracy of LogisticRegression2 is 87.10%\n",
      "0.38 Accuracy of LogisticRegression2 is 87.10%\n",
      "0.39 Accuracy of LogisticRegression2 is 87.10%\n",
      "0.4 Accuracy of LogisticRegression2 is 83.87%\n",
      "0.41000000000000003 Accuracy of LogisticRegression2 is 83.87%\n",
      "0.42 Accuracy of LogisticRegression2 is 83.87%\n",
      "0.43 Accuracy of LogisticRegression2 is 83.87%\n",
      "0.44 Accuracy of LogisticRegression2 is 83.87%\n",
      "0.45 Accuracy of LogisticRegression2 is 83.87%\n",
      "0.46 Accuracy of LogisticRegression2 is 80.65%\n",
      "0.47000000000000003 Accuracy of LogisticRegression2 is 80.65%\n",
      "0.48 Accuracy of LogisticRegression2 is 80.65%\n",
      "0.49 Accuracy of LogisticRegression2 is 80.65%\n",
      "0.5 Accuracy of LogisticRegression2 is 80.65%\n",
      "0.51 Accuracy of LogisticRegression2 is 80.65%\n",
      "0.52 Accuracy of LogisticRegression2 is 80.65%\n",
      "0.53 Accuracy of LogisticRegression2 is 80.65%\n",
      "0.54 Accuracy of LogisticRegression2 is 83.87%\n",
      "0.55 Accuracy of LogisticRegression2 is 83.87%\n",
      "0.56 Accuracy of LogisticRegression2 is 83.87%\n",
      "0.5700000000000001 Accuracy of LogisticRegression2 is 87.10%\n",
      "0.58 Accuracy of LogisticRegression2 is 87.10%\n",
      "0.59 Accuracy of LogisticRegression2 is 87.10%\n",
      "0.6 Accuracy of LogisticRegression2 is 87.10%\n",
      "0.61 Accuracy of LogisticRegression2 is 87.10%\n",
      "0.62 Accuracy of LogisticRegression2 is 83.87%\n",
      "0.63 Accuracy of LogisticRegression2 is 83.87%\n",
      "0.64 Accuracy of LogisticRegression2 is 83.87%\n",
      "0.65 Accuracy of LogisticRegression2 is 83.87%\n",
      "0.66 Accuracy of LogisticRegression2 is 87.10%\n",
      "0.67 Accuracy of LogisticRegression2 is 87.10%\n",
      "0.68 Accuracy of LogisticRegression2 is 87.10%\n",
      "0.6900000000000001 Accuracy of LogisticRegression2 is 83.87%\n",
      "0.7000000000000001 Accuracy of LogisticRegression2 is 83.87%\n",
      "0.71 Accuracy of LogisticRegression2 is 83.87%\n",
      "0.72 Accuracy of LogisticRegression2 is 83.87%\n",
      "0.73 Accuracy of LogisticRegression2 is 80.65%\n",
      "0.74 Accuracy of LogisticRegression2 is 80.65%\n",
      "0.75 Accuracy of LogisticRegression2 is 77.42%\n",
      "0.76 Accuracy of LogisticRegression2 is 77.42%\n",
      "0.77 Accuracy of LogisticRegression2 is 77.42%\n",
      "0.78 Accuracy of LogisticRegression2 is 77.42%\n",
      "0.79 Accuracy of LogisticRegression2 is 74.19%\n",
      "0.8 Accuracy of LogisticRegression2 is 74.19%\n",
      "0.81 Accuracy of LogisticRegression2 is 74.19%\n",
      "0.8200000000000001 Accuracy of LogisticRegression2 is 74.19%\n",
      "0.8300000000000001 Accuracy of LogisticRegression2 is 74.19%\n",
      "0.84 Accuracy of LogisticRegression2 is 74.19%\n",
      "0.85 Accuracy of LogisticRegression2 is 74.19%\n",
      "0.86 Accuracy of LogisticRegression2 is 74.19%\n",
      "0.87 Accuracy of LogisticRegression2 is 74.19%\n",
      "0.88 Accuracy of LogisticRegression2 is 70.97%\n",
      "0.89 Accuracy of LogisticRegression2 is 67.74%\n",
      "0.9 Accuracy of LogisticRegression2 is 67.74%\n",
      "0.91 Accuracy of LogisticRegression2 is 67.74%\n",
      "0.92 Accuracy of LogisticRegression2 is 67.74%\n",
      "0.93 Accuracy of LogisticRegression2 is 64.52%\n",
      "0.9400000000000001 Accuracy of LogisticRegression2 is 58.06%\n",
      "0.9500000000000001 Accuracy of LogisticRegression2 is 54.84%\n",
      "0.96 Accuracy of LogisticRegression2 is 54.84%\n",
      "0.97 Accuracy of LogisticRegression2 is 51.61%\n",
      "0.98 Accuracy of LogisticRegression2 is 48.39%\n",
      "0.99 Accuracy of LogisticRegression2 is 48.39%\n"
     ]
    }
   ],
   "source": [
    "acc_score_array = []\n",
    "\n",
    "for temp_thres in np.arange(0,1,0.01):\n",
    "    threshold = temp_thres\n",
    "    pred1_1 = (model1_1.predict_proba(valid_X)[:,1] > threshold).astype(int)\n",
    "    temp_acc_score = 100*metrics.accuracy_score(pred1_1, valid_Y)\n",
    "    print(temp_thres, 'Accuracy of LogisticRegression2 is {:.2f}%'.format(temp_acc_score))\n",
    "    acc_score_array.append(temp_acc_score)"
   ]
  },
  {
   "cell_type": "code",
   "execution_count": 199,
   "id": "be49e978",
   "metadata": {},
   "outputs": [
    {
     "data": {
      "text/plain": [
       "Text(0, 0.5, 'accuracy score')"
      ]
     },
     "execution_count": 199,
     "metadata": {},
     "output_type": "execute_result"
    },
    {
     "data": {
      "image/png": "[encoded data removed]",
      "text/plain": [
       "<Figure size 432x288 with 1 Axes>"
      ]
     },
     "metadata": {
      "needs_background": "dark"
     },
     "output_type": "display_data"
    }
   ],
   "source": [
    "plt.plot(np.arange(0,1,0.01), acc_score_array)\n",
    "\n",
    "plt.xlabel('threshold')\n",
    "plt.ylabel('accuracy score')"
   ]
  },
  {
   "cell_type": "code",
   "execution_count": 200,
   "id": "149eb0e0",
   "metadata": {},
   "outputs": [
    {
     "name": "stdout",
     "output_type": "stream",
     "text": [
      "87.09677419354838\n",
      "22\n"
     ]
    }
   ],
   "source": [
    "print(np.max(acc_score_array))\n",
    "print(np.argmax(acc_score_array))"
   ]
  },
  {
   "cell_type": "code",
   "execution_count": 201,
   "id": "fc7fb70f",
   "metadata": {},
   "outputs": [
    {
     "data": {
      "text/plain": [
       "LogisticRegression(n_jobs=-1, random_state=2021, solver='liblinear')"
      ]
     },
     "execution_count": 201,
     "metadata": {},
     "output_type": "execute_result"
    }
   ],
   "source": [
    "model1_1.fit(X, Y)"
   ]
  },
  {
   "cell_type": "code",
   "execution_count": 202,
   "id": "6ff5bd5a",
   "metadata": {},
   "outputs": [],
   "source": [
    "real_pred3 = (model1_1.predict_proba(test)[:,1] > 0.22).astype(int)"
   ]
  },
  {
   "cell_type": "code",
   "execution_count": 203,
   "id": "adb73cb4",
   "metadata": {},
   "outputs": [],
   "source": [
    "submission['target'] = real_pred3\n",
    "submission.to_csv('submission3.csv', index=False)"
   ]
  },
  {
   "cell_type": "code",
   "execution_count": 204,
   "id": "4756850b",
   "metadata": {},
   "outputs": [],
   "source": [
    "real_pred4 = (model1_1.predict_proba(test)[:,1] > 0.58).astype(int)"
   ]
  },
  {
   "cell_type": "code",
   "execution_count": 210,
   "id": "d10647e1",
   "metadata": {},
   "outputs": [
    {
     "data": {
      "text/plain": [
       "87.09677419354838"
      ]
     },
     "execution_count": 210,
     "metadata": {},
     "output_type": "execute_result"
    }
   ],
   "source": [
    "np.max(acc_score_array)"
   ]
  },
  {
   "cell_type": "code",
   "execution_count": 211,
   "id": "51ec1dde",
   "metadata": {},
   "outputs": [
    {
     "data": {
      "text/plain": [
       "SVC(C=1, gamma=0.1, probability=True)"
      ]
     },
     "execution_count": 211,
     "metadata": {},
     "output_type": "execute_result"
    }
   ],
   "source": [
    "model2 = svm.SVC(kernel='rbf', C=1, gamma=0.1, probability=True)\n",
    "model2.fit(train_X, train_Y)"
   ]
  },
  {
   "cell_type": "code",
   "execution_count": 212,
   "id": "201c779f",
   "metadata": {},
   "outputs": [
    {
     "name": "stdout",
     "output_type": "stream",
     "text": [
      "0.0 f1_score of rbf-svm is 70.83%\n",
      "0.01 f1_score of rbf-svm is 70.83%\n",
      "0.02 f1_score of rbf-svm is 70.83%\n",
      "0.03 f1_score of rbf-svm is 70.83%\n",
      "0.04 f1_score of rbf-svm is 70.83%\n",
      "0.05 f1_score of rbf-svm is 70.83%\n",
      "0.06 f1_score of rbf-svm is 70.83%\n",
      "0.07 f1_score of rbf-svm is 70.83%\n",
      "0.08 f1_score of rbf-svm is 70.83%\n",
      "0.09 f1_score of rbf-svm is 70.83%\n",
      "0.1 f1_score of rbf-svm is 70.83%\n",
      "0.11 f1_score of rbf-svm is 70.83%\n",
      "0.12 f1_score of rbf-svm is 70.83%\n",
      "0.13 f1_score of rbf-svm is 70.83%\n",
      "0.14 f1_score of rbf-svm is 70.83%\n",
      "0.15 f1_score of rbf-svm is 70.83%\n",
      "0.16 f1_score of rbf-svm is 70.83%\n",
      "0.17 f1_score of rbf-svm is 70.83%\n",
      "0.18 f1_score of rbf-svm is 70.83%\n",
      "0.19 f1_score of rbf-svm is 70.83%\n",
      "0.2 f1_score of rbf-svm is 70.83%\n",
      "0.21 f1_score of rbf-svm is 70.83%\n",
      "0.22 f1_score of rbf-svm is 70.83%\n",
      "0.23 f1_score of rbf-svm is 70.83%\n",
      "0.24 f1_score of rbf-svm is 70.83%\n",
      "0.25 f1_score of rbf-svm is 70.83%\n",
      "0.26 f1_score of rbf-svm is 70.83%\n",
      "0.27 f1_score of rbf-svm is 70.83%\n",
      "0.28 f1_score of rbf-svm is 70.83%\n",
      "0.29 f1_score of rbf-svm is 70.83%\n",
      "0.3 f1_score of rbf-svm is 70.83%\n",
      "0.31 f1_score of rbf-svm is 70.83%\n",
      "0.32 f1_score of rbf-svm is 70.83%\n",
      "0.33 f1_score of rbf-svm is 70.83%\n",
      "0.34 f1_score of rbf-svm is 70.83%\n",
      "0.35000000000000003 f1_score of rbf-svm is 70.83%\n",
      "0.36 f1_score of rbf-svm is 70.83%\n",
      "0.37 f1_score of rbf-svm is 70.83%\n",
      "0.38 f1_score of rbf-svm is 70.83%\n",
      "0.39 f1_score of rbf-svm is 70.83%\n",
      "0.4 f1_score of rbf-svm is 70.83%\n",
      "0.41000000000000003 f1_score of rbf-svm is 70.83%\n",
      "0.42 f1_score of rbf-svm is 70.83%\n",
      "0.43 f1_score of rbf-svm is 70.83%\n",
      "0.44 f1_score of rbf-svm is 70.83%\n",
      "0.45 f1_score of rbf-svm is 70.83%\n",
      "0.46 f1_score of rbf-svm is 70.83%\n",
      "0.47000000000000003 f1_score of rbf-svm is 70.83%\n",
      "0.48 f1_score of rbf-svm is 70.83%\n",
      "0.49 f1_score of rbf-svm is 70.83%\n",
      "0.5 f1_score of rbf-svm is 70.83%\n",
      "0.51 f1_score of rbf-svm is 70.83%\n",
      "0.52 f1_score of rbf-svm is 70.83%\n",
      "0.53 f1_score of rbf-svm is 70.83%\n",
      "0.54 f1_score of rbf-svm is 70.83%\n",
      "0.55 f1_score of rbf-svm is 0.00%\n",
      "0.56 f1_score of rbf-svm is 0.00%\n",
      "0.5700000000000001 f1_score of rbf-svm is 0.00%\n",
      "0.58 f1_score of rbf-svm is 0.00%\n",
      "0.59 f1_score of rbf-svm is 0.00%\n",
      "0.6 f1_score of rbf-svm is 0.00%\n",
      "0.61 f1_score of rbf-svm is 0.00%\n",
      "0.62 f1_score of rbf-svm is 0.00%\n",
      "0.63 f1_score of rbf-svm is 0.00%\n",
      "0.64 f1_score of rbf-svm is 0.00%\n",
      "0.65 f1_score of rbf-svm is 0.00%\n",
      "0.66 f1_score of rbf-svm is 0.00%\n",
      "0.67 f1_score of rbf-svm is 0.00%\n",
      "0.68 f1_score of rbf-svm is 0.00%\n",
      "0.6900000000000001 f1_score of rbf-svm is 0.00%\n",
      "0.7000000000000001 f1_score of rbf-svm is 0.00%\n",
      "0.71 f1_score of rbf-svm is 0.00%\n",
      "0.72 f1_score of rbf-svm is 0.00%\n",
      "0.73 f1_score of rbf-svm is 0.00%\n",
      "0.74 f1_score of rbf-svm is 0.00%\n",
      "0.75 f1_score of rbf-svm is 0.00%\n",
      "0.76 f1_score of rbf-svm is 0.00%\n",
      "0.77 f1_score of rbf-svm is 0.00%\n",
      "0.78 f1_score of rbf-svm is 0.00%\n",
      "0.79 f1_score of rbf-svm is 0.00%\n",
      "0.8 f1_score of rbf-svm is 0.00%\n",
      "0.81 f1_score of rbf-svm is 0.00%\n",
      "0.8200000000000001 f1_score of rbf-svm is 0.00%\n",
      "0.8300000000000001 f1_score of rbf-svm is 0.00%\n",
      "0.84 f1_score of rbf-svm is 0.00%\n",
      "0.85 f1_score of rbf-svm is 0.00%\n",
      "0.86 f1_score of rbf-svm is 0.00%\n",
      "0.87 f1_score of rbf-svm is 0.00%\n",
      "0.88 f1_score of rbf-svm is 0.00%\n",
      "0.89 f1_score of rbf-svm is 0.00%\n",
      "0.9 f1_score of rbf-svm is 0.00%\n",
      "0.91 f1_score of rbf-svm is 0.00%\n",
      "0.92 f1_score of rbf-svm is 0.00%\n",
      "0.93 f1_score of rbf-svm is 0.00%\n",
      "0.9400000000000001 f1_score of rbf-svm is 0.00%\n",
      "0.9500000000000001 f1_score of rbf-svm is 0.00%\n",
      "0.96 f1_score of rbf-svm is 0.00%\n",
      "0.97 f1_score of rbf-svm is 0.00%\n",
      "0.98 f1_score of rbf-svm is 0.00%\n",
      "0.99 f1_score of rbf-svm is 0.00%\n"
     ]
    }
   ],
   "source": [
    "f1_score_array = []\n",
    "\n",
    "for temp_thres in np.arange(0,1,0.01):\n",
    "    threshold = temp_thres\n",
    "    pred2 = (model2.predict_proba(valid_X)[:,1] > threshold).astype(int)\n",
    "    temp_f1_score = 100*f1_score(valid_Y, pred2)\n",
    "    print(temp_thres, 'f1_score of rbf-svm is {:.2f}%'.format(temp_f1_score))\n",
    "    f1_score_array.append(temp_f1_score)"
   ]
  },
  {
   "cell_type": "code",
   "execution_count": 213,
   "id": "d1ab2eb1",
   "metadata": {},
   "outputs": [
    {
     "data": {
      "text/plain": [
       "Text(0, 0.5, 'f1 score')"
      ]
     },
     "execution_count": 213,
     "metadata": {},
     "output_type": "execute_result"
    },
    {
     "data": {
      "image/png": "[encoded data removed]",
      "text/plain": [
       "<Figure size 432x288 with 1 Axes>"
      ]
     },
     "metadata": {
      "needs_background": "dark"
     },
     "output_type": "display_data"
    }
   ],
   "source": [
    "plt.plot(np.arange(0,1,0.01), f1_score_array)\n",
    "\n",
    "plt.xlabel('threshold')\n",
    "plt.ylabel('f1 score')"
   ]
  },
  {
   "cell_type": "code",
   "execution_count": 214,
   "id": "83fa10ac",
   "metadata": {},
   "outputs": [
    {
     "name": "stdout",
     "output_type": "stream",
     "text": [
      "70.83333333333333\n",
      "0\n"
     ]
    }
   ],
   "source": [
    "print(np.max(f1_score_array))\n",
    "print(np.argmax(f1_score_array))"
   ]
  },
  {
   "cell_type": "code",
   "execution_count": 215,
   "id": "57c53989",
   "metadata": {},
   "outputs": [
    {
     "name": "stdout",
     "output_type": "stream",
     "text": [
      "0.0 Accuracy of rbf-svm is 54.84%\n",
      "0.01 Accuracy of rbf-svm is 54.84%\n",
      "0.02 Accuracy of rbf-svm is 54.84%\n",
      "0.03 Accuracy of rbf-svm is 54.84%\n",
      "0.04 Accuracy of rbf-svm is 54.84%\n",
      "0.05 Accuracy of rbf-svm is 54.84%\n",
      "0.06 Accuracy of rbf-svm is 54.84%\n",
      "0.07 Accuracy of rbf-svm is 54.84%\n",
      "0.08 Accuracy of rbf-svm is 54.84%\n",
      "0.09 Accuracy of rbf-svm is 54.84%\n",
      "0.1 Accuracy of rbf-svm is 54.84%\n",
      "0.11 Accuracy of rbf-svm is 54.84%\n",
      "0.12 Accuracy of rbf-svm is 54.84%\n",
      "0.13 Accuracy of rbf-svm is 54.84%\n",
      "0.14 Accuracy of rbf-svm is 54.84%\n",
      "0.15 Accuracy of rbf-svm is 54.84%\n",
      "0.16 Accuracy of rbf-svm is 54.84%\n",
      "0.17 Accuracy of rbf-svm is 54.84%\n",
      "0.18 Accuracy of rbf-svm is 54.84%\n",
      "0.19 Accuracy of rbf-svm is 54.84%\n",
      "0.2 Accuracy of rbf-svm is 54.84%\n",
      "0.21 Accuracy of rbf-svm is 54.84%\n",
      "0.22 Accuracy of rbf-svm is 54.84%\n",
      "0.23 Accuracy of rbf-svm is 54.84%\n",
      "0.24 Accuracy of rbf-svm is 54.84%\n",
      "0.25 Accuracy of rbf-svm is 54.84%\n",
      "0.26 Accuracy of rbf-svm is 54.84%\n",
      "0.27 Accuracy of rbf-svm is 54.84%\n",
      "0.28 Accuracy of rbf-svm is 54.84%\n",
      "0.29 Accuracy of rbf-svm is 54.84%\n",
      "0.3 Accuracy of rbf-svm is 54.84%\n",
      "0.31 Accuracy of rbf-svm is 54.84%\n",
      "0.32 Accuracy of rbf-svm is 54.84%\n",
      "0.33 Accuracy of rbf-svm is 54.84%\n",
      "0.34 Accuracy of rbf-svm is 54.84%\n",
      "0.35000000000000003 Accuracy of rbf-svm is 54.84%\n",
      "0.36 Accuracy of rbf-svm is 54.84%\n",
      "0.37 Accuracy of rbf-svm is 54.84%\n",
      "0.38 Accuracy of rbf-svm is 54.84%\n",
      "0.39 Accuracy of rbf-svm is 54.84%\n",
      "0.4 Accuracy of rbf-svm is 54.84%\n",
      "0.41000000000000003 Accuracy of rbf-svm is 54.84%\n",
      "0.42 Accuracy of rbf-svm is 54.84%\n",
      "0.43 Accuracy of rbf-svm is 54.84%\n",
      "0.44 Accuracy of rbf-svm is 54.84%\n",
      "0.45 Accuracy of rbf-svm is 54.84%\n",
      "0.46 Accuracy of rbf-svm is 54.84%\n",
      "0.47000000000000003 Accuracy of rbf-svm is 54.84%\n",
      "0.48 Accuracy of rbf-svm is 54.84%\n",
      "0.49 Accuracy of rbf-svm is 54.84%\n",
      "0.5 Accuracy of rbf-svm is 54.84%\n",
      "0.51 Accuracy of rbf-svm is 54.84%\n",
      "0.52 Accuracy of rbf-svm is 54.84%\n",
      "0.53 Accuracy of rbf-svm is 54.84%\n",
      "0.54 Accuracy of rbf-svm is 54.84%\n",
      "0.55 Accuracy of rbf-svm is 45.16%\n",
      "0.56 Accuracy of rbf-svm is 45.16%\n",
      "0.5700000000000001 Accuracy of rbf-svm is 45.16%\n",
      "0.58 Accuracy of rbf-svm is 45.16%\n",
      "0.59 Accuracy of rbf-svm is 45.16%\n",
      "0.6 Accuracy of rbf-svm is 45.16%\n",
      "0.61 Accuracy of rbf-svm is 45.16%\n",
      "0.62 Accuracy of rbf-svm is 45.16%\n",
      "0.63 Accuracy of rbf-svm is 45.16%\n",
      "0.64 Accuracy of rbf-svm is 45.16%\n",
      "0.65 Accuracy of rbf-svm is 45.16%\n",
      "0.66 Accuracy of rbf-svm is 45.16%\n",
      "0.67 Accuracy of rbf-svm is 45.16%\n",
      "0.68 Accuracy of rbf-svm is 45.16%\n",
      "0.6900000000000001 Accuracy of rbf-svm is 45.16%\n",
      "0.7000000000000001 Accuracy of rbf-svm is 45.16%\n",
      "0.71 Accuracy of rbf-svm is 45.16%\n",
      "0.72 Accuracy of rbf-svm is 45.16%\n",
      "0.73 Accuracy of rbf-svm is 45.16%\n",
      "0.74 Accuracy of rbf-svm is 45.16%\n",
      "0.75 Accuracy of rbf-svm is 45.16%\n",
      "0.76 Accuracy of rbf-svm is 45.16%\n",
      "0.77 Accuracy of rbf-svm is 45.16%\n",
      "0.78 Accuracy of rbf-svm is 45.16%\n",
      "0.79 Accuracy of rbf-svm is 45.16%\n",
      "0.8 Accuracy of rbf-svm is 45.16%\n",
      "0.81 Accuracy of rbf-svm is 45.16%\n",
      "0.8200000000000001 Accuracy of rbf-svm is 45.16%\n",
      "0.8300000000000001 Accuracy of rbf-svm is 45.16%\n",
      "0.84 Accuracy of rbf-svm is 45.16%\n",
      "0.85 Accuracy of rbf-svm is 45.16%\n",
      "0.86 Accuracy of rbf-svm is 45.16%\n",
      "0.87 Accuracy of rbf-svm is 45.16%\n",
      "0.88 Accuracy of rbf-svm is 45.16%\n",
      "0.89 Accuracy of rbf-svm is 45.16%\n",
      "0.9 Accuracy of rbf-svm is 45.16%\n",
      "0.91 Accuracy of rbf-svm is 45.16%\n",
      "0.92 Accuracy of rbf-svm is 45.16%\n",
      "0.93 Accuracy of rbf-svm is 45.16%\n",
      "0.9400000000000001 Accuracy of rbf-svm is 45.16%\n",
      "0.9500000000000001 Accuracy of rbf-svm is 45.16%\n",
      "0.96 Accuracy of rbf-svm is 45.16%\n",
      "0.97 Accuracy of rbf-svm is 45.16%\n",
      "0.98 Accuracy of rbf-svm is 45.16%\n",
      "0.99 Accuracy of rbf-svm is 45.16%\n"
     ]
    }
   ],
   "source": [
    "acc_score_array = []\n",
    "\n",
    "for temp_thres in np.arange(0,1,0.01):\n",
    "    threshold = temp_thres\n",
    "    pred2 = (model2.predict_proba(valid_X)[:,1] > threshold).astype(int)\n",
    "    temp_acc_score = 100*metrics.accuracy_score(pred2, valid_Y)\n",
    "    print(temp_thres, 'Accuracy of rbf-svm is {:.2f}%'.format(temp_acc_score))\n",
    "    acc_score_array.append(temp_acc_score)"
   ]
  },
  {
   "cell_type": "code",
   "execution_count": 216,
   "id": "1b9d5744",
   "metadata": {},
   "outputs": [
    {
     "data": {
      "text/plain": [
       "Text(0, 0.5, 'accuracy score')"
      ]
     },
     "execution_count": 216,
     "metadata": {},
     "output_type": "execute_result"
    },
    {
     "data": {
      "image/png": "[encoded data removed]",
      "text/plain": [
       "<Figure size 432x288 with 1 Axes>"
      ]
     },
     "metadata": {
      "needs_background": "dark"
     },
     "output_type": "display_data"
    }
   ],
   "source": [
    "plt.plot(np.arange(0,1,0.01), acc_score_array)\n",
    "\n",
    "plt.xlabel('threshold')\n",
    "plt.ylabel('accuracy score')"
   ]
  },
  {
   "cell_type": "code",
   "execution_count": 217,
   "id": "d67ceaea",
   "metadata": {},
   "outputs": [
    {
     "name": "stdout",
     "output_type": "stream",
     "text": [
      "54.83870967741935\n",
      "0\n"
     ]
    }
   ],
   "source": [
    "print(np.max(acc_score_array))\n",
    "print(np.argmax(acc_score_array))"
   ]
  },
  {
   "cell_type": "code",
   "execution_count": 218,
   "id": "95c3b632",
   "metadata": {},
   "outputs": [
    {
     "data": {
      "text/plain": [
       "GaussianNB()"
      ]
     },
     "execution_count": 218,
     "metadata": {},
     "output_type": "execute_result"
    }
   ],
   "source": [
    "model3 = GaussianNB()\n",
    "model3.fit(train_X, train_Y)"
   ]
  },
  {
   "cell_type": "code",
   "execution_count": 219,
   "id": "8f4780b1",
   "metadata": {},
   "outputs": [
    {
     "name": "stdout",
     "output_type": "stream",
     "text": [
      "0.0 f1_score of GNB is 70.83%\n",
      "0.01 f1_score of GNB is 80.00%\n",
      "0.02 f1_score of GNB is 80.00%\n",
      "0.03 f1_score of GNB is 78.95%\n",
      "0.04 f1_score of GNB is 78.95%\n",
      "0.05 f1_score of GNB is 77.78%\n",
      "0.06 f1_score of GNB is 77.78%\n",
      "0.07 f1_score of GNB is 82.35%\n",
      "0.08 f1_score of GNB is 78.79%\n",
      "0.09 f1_score of GNB is 78.79%\n",
      "0.1 f1_score of GNB is 78.79%\n",
      "0.11 f1_score of GNB is 78.79%\n",
      "0.12 f1_score of GNB is 75.00%\n",
      "0.13 f1_score of GNB is 75.00%\n",
      "0.14 f1_score of GNB is 75.00%\n",
      "0.15 f1_score of GNB is 75.00%\n",
      "0.16 f1_score of GNB is 75.00%\n",
      "0.17 f1_score of GNB is 75.00%\n",
      "0.18 f1_score of GNB is 75.00%\n",
      "0.19 f1_score of GNB is 77.42%\n",
      "0.2 f1_score of GNB is 77.42%\n",
      "0.21 f1_score of GNB is 77.42%\n",
      "0.22 f1_score of GNB is 77.42%\n",
      "0.23 f1_score of GNB is 77.42%\n",
      "0.24 f1_score of GNB is 77.42%\n",
      "0.25 f1_score of GNB is 73.33%\n",
      "0.26 f1_score of GNB is 73.33%\n",
      "0.27 f1_score of GNB is 73.33%\n",
      "0.28 f1_score of GNB is 73.33%\n",
      "0.29 f1_score of GNB is 73.33%\n",
      "0.3 f1_score of GNB is 73.33%\n",
      "0.31 f1_score of GNB is 73.33%\n",
      "0.32 f1_score of GNB is 73.33%\n",
      "0.33 f1_score of GNB is 73.33%\n",
      "0.34 f1_score of GNB is 75.86%\n",
      "0.35000000000000003 f1_score of GNB is 75.86%\n",
      "0.36 f1_score of GNB is 75.86%\n",
      "0.37 f1_score of GNB is 75.86%\n",
      "0.38 f1_score of GNB is 75.86%\n",
      "0.39 f1_score of GNB is 75.86%\n",
      "0.4 f1_score of GNB is 75.86%\n",
      "0.41000000000000003 f1_score of GNB is 75.86%\n",
      "0.42 f1_score of GNB is 75.86%\n",
      "0.43 f1_score of GNB is 75.86%\n",
      "0.44 f1_score of GNB is 75.86%\n",
      "0.45 f1_score of GNB is 75.86%\n",
      "0.46 f1_score of GNB is 75.86%\n",
      "0.47000000000000003 f1_score of GNB is 75.86%\n",
      "0.48 f1_score of GNB is 75.86%\n",
      "0.49 f1_score of GNB is 75.86%\n",
      "0.5 f1_score of GNB is 75.86%\n",
      "0.51 f1_score of GNB is 75.86%\n",
      "0.52 f1_score of GNB is 75.86%\n",
      "0.53 f1_score of GNB is 75.86%\n",
      "0.54 f1_score of GNB is 75.86%\n",
      "0.55 f1_score of GNB is 75.86%\n",
      "0.56 f1_score of GNB is 75.86%\n",
      "0.5700000000000001 f1_score of GNB is 75.86%\n",
      "0.58 f1_score of GNB is 75.86%\n",
      "0.59 f1_score of GNB is 75.86%\n",
      "0.6 f1_score of GNB is 75.86%\n",
      "0.61 f1_score of GNB is 71.43%\n",
      "0.62 f1_score of GNB is 71.43%\n",
      "0.63 f1_score of GNB is 71.43%\n",
      "0.64 f1_score of GNB is 71.43%\n",
      "0.65 f1_score of GNB is 71.43%\n",
      "0.66 f1_score of GNB is 71.43%\n",
      "0.67 f1_score of GNB is 71.43%\n",
      "0.68 f1_score of GNB is 71.43%\n",
      "0.6900000000000001 f1_score of GNB is 71.43%\n",
      "0.7000000000000001 f1_score of GNB is 71.43%\n",
      "0.71 f1_score of GNB is 71.43%\n",
      "0.72 f1_score of GNB is 71.43%\n",
      "0.73 f1_score of GNB is 71.43%\n",
      "0.74 f1_score of GNB is 71.43%\n",
      "0.75 f1_score of GNB is 71.43%\n",
      "0.76 f1_score of GNB is 66.67%\n",
      "0.77 f1_score of GNB is 66.67%\n",
      "0.78 f1_score of GNB is 66.67%\n",
      "0.79 f1_score of GNB is 66.67%\n",
      "0.8 f1_score of GNB is 66.67%\n",
      "0.81 f1_score of GNB is 66.67%\n",
      "0.8200000000000001 f1_score of GNB is 66.67%\n",
      "0.8300000000000001 f1_score of GNB is 61.54%\n",
      "0.84 f1_score of GNB is 61.54%\n",
      "0.85 f1_score of GNB is 61.54%\n",
      "0.86 f1_score of GNB is 61.54%\n",
      "0.87 f1_score of GNB is 61.54%\n",
      "0.88 f1_score of GNB is 61.54%\n",
      "0.89 f1_score of GNB is 61.54%\n",
      "0.9 f1_score of GNB is 61.54%\n",
      "0.91 f1_score of GNB is 61.54%\n",
      "0.92 f1_score of GNB is 61.54%\n",
      "0.93 f1_score of GNB is 61.54%\n",
      "0.9400000000000001 f1_score of GNB is 61.54%\n",
      "0.9500000000000001 f1_score of GNB is 56.00%\n",
      "0.96 f1_score of GNB is 56.00%\n",
      "0.97 f1_score of GNB is 52.17%\n",
      "0.98 f1_score of GNB is 45.45%\n",
      "0.99 f1_score of GNB is 45.45%\n"
     ]
    }
   ],
   "source": [
    "f1_score_array = []\n",
    "\n",
    "for temp_thres in np.arange(0,1,0.01):\n",
    "    threshold = temp_thres\n",
    "    pred3 = (model3.predict_proba(valid_X)[:,1] > threshold).astype(int)\n",
    "    temp_f1_score = 100*f1_score(valid_Y, pred3)\n",
    "    print(temp_thres, 'f1_score of GNB is {:.2f}%'.format(temp_f1_score))\n",
    "    f1_score_array.append(temp_f1_score)"
   ]
  },
  {
   "cell_type": "code",
   "execution_count": 220,
   "id": "1df7d3ea",
   "metadata": {},
   "outputs": [
    {
     "data": {
      "text/plain": [
       "Text(0, 0.5, 'f1 score')"
      ]
     },
     "execution_count": 220,
     "metadata": {},
     "output_type": "execute_result"
    },
    {
     "data": {
      "image/png": "[encoded data removed]",
      "text/plain": [
       "<Figure size 432x288 with 1 Axes>"
      ]
     },
     "metadata": {
      "needs_background": "dark"
     },
     "output_type": "display_data"
    }
   ],
   "source": [
    "plt.plot(np.arange(0,1,0.01), f1_score_array)\n",
    "\n",
    "plt.xlabel('threshold')\n",
    "plt.ylabel('f1 score')"
   ]
  },
  {
   "cell_type": "code",
   "execution_count": 221,
   "id": "196fc725",
   "metadata": {},
   "outputs": [
    {
     "name": "stdout",
     "output_type": "stream",
     "text": [
      "82.35294117647058\n",
      "7\n"
     ]
    }
   ],
   "source": [
    "print(np.max(f1_score_array))\n",
    "print(np.argmax(f1_score_array))"
   ]
  },
  {
   "cell_type": "code",
   "execution_count": 222,
   "id": "216a9d42",
   "metadata": {},
   "outputs": [
    {
     "name": "stdout",
     "output_type": "stream",
     "text": [
      "0.0 Accuracy of GNB is 54.84%\n",
      "0.01 Accuracy of GNB is 74.19%\n",
      "0.02 Accuracy of GNB is 74.19%\n",
      "0.03 Accuracy of GNB is 74.19%\n",
      "0.04 Accuracy of GNB is 74.19%\n",
      "0.05 Accuracy of GNB is 74.19%\n",
      "0.06 Accuracy of GNB is 74.19%\n",
      "0.07 Accuracy of GNB is 80.65%\n",
      "0.08 Accuracy of GNB is 77.42%\n",
      "0.09 Accuracy of GNB is 77.42%\n",
      "0.1 Accuracy of GNB is 77.42%\n",
      "0.11 Accuracy of GNB is 77.42%\n",
      "0.12 Accuracy of GNB is 74.19%\n",
      "0.13 Accuracy of GNB is 74.19%\n",
      "0.14 Accuracy of GNB is 74.19%\n",
      "0.15 Accuracy of GNB is 74.19%\n",
      "0.16 Accuracy of GNB is 74.19%\n",
      "0.17 Accuracy of GNB is 74.19%\n",
      "0.18 Accuracy of GNB is 74.19%\n",
      "0.19 Accuracy of GNB is 77.42%\n",
      "0.2 Accuracy of GNB is 77.42%\n",
      "0.21 Accuracy of GNB is 77.42%\n",
      "0.22 Accuracy of GNB is 77.42%\n",
      "0.23 Accuracy of GNB is 77.42%\n",
      "0.24 Accuracy of GNB is 77.42%\n",
      "0.25 Accuracy of GNB is 74.19%\n",
      "0.26 Accuracy of GNB is 74.19%\n",
      "0.27 Accuracy of GNB is 74.19%\n",
      "0.28 Accuracy of GNB is 74.19%\n",
      "0.29 Accuracy of GNB is 74.19%\n",
      "0.3 Accuracy of GNB is 74.19%\n",
      "0.31 Accuracy of GNB is 74.19%\n",
      "0.32 Accuracy of GNB is 74.19%\n",
      "0.33 Accuracy of GNB is 74.19%\n",
      "0.34 Accuracy of GNB is 77.42%\n",
      "0.35000000000000003 Accuracy of GNB is 77.42%\n",
      "0.36 Accuracy of GNB is 77.42%\n",
      "0.37 Accuracy of GNB is 77.42%\n",
      "0.38 Accuracy of GNB is 77.42%\n",
      "0.39 Accuracy of GNB is 77.42%\n",
      "0.4 Accuracy of GNB is 77.42%\n",
      "0.41000000000000003 Accuracy of GNB is 77.42%\n",
      "0.42 Accuracy of GNB is 77.42%\n",
      "0.43 Accuracy of GNB is 77.42%\n",
      "0.44 Accuracy of GNB is 77.42%\n",
      "0.45 Accuracy of GNB is 77.42%\n",
      "0.46 Accuracy of GNB is 77.42%\n",
      "0.47000000000000003 Accuracy of GNB is 77.42%\n",
      "0.48 Accuracy of GNB is 77.42%\n",
      "0.49 Accuracy of GNB is 77.42%\n",
      "0.5 Accuracy of GNB is 77.42%\n",
      "0.51 Accuracy of GNB is 77.42%\n",
      "0.52 Accuracy of GNB is 77.42%\n",
      "0.53 Accuracy of GNB is 77.42%\n",
      "0.54 Accuracy of GNB is 77.42%\n",
      "0.55 Accuracy of GNB is 77.42%\n",
      "0.56 Accuracy of GNB is 77.42%\n",
      "0.5700000000000001 Accuracy of GNB is 77.42%\n",
      "0.58 Accuracy of GNB is 77.42%\n",
      "0.59 Accuracy of GNB is 77.42%\n",
      "0.6 Accuracy of GNB is 77.42%\n",
      "0.61 Accuracy of GNB is 74.19%\n",
      "0.62 Accuracy of GNB is 74.19%\n",
      "0.63 Accuracy of GNB is 74.19%\n",
      "0.64 Accuracy of GNB is 74.19%\n",
      "0.65 Accuracy of GNB is 74.19%\n",
      "0.66 Accuracy of GNB is 74.19%\n",
      "0.67 Accuracy of GNB is 74.19%\n",
      "0.68 Accuracy of GNB is 74.19%\n",
      "0.6900000000000001 Accuracy of GNB is 74.19%\n",
      "0.7000000000000001 Accuracy of GNB is 74.19%\n",
      "0.71 Accuracy of GNB is 74.19%\n",
      "0.72 Accuracy of GNB is 74.19%\n",
      "0.73 Accuracy of GNB is 74.19%\n",
      "0.74 Accuracy of GNB is 74.19%\n",
      "0.75 Accuracy of GNB is 74.19%\n",
      "0.76 Accuracy of GNB is 70.97%\n",
      "0.77 Accuracy of GNB is 70.97%\n",
      "0.78 Accuracy of GNB is 70.97%\n",
      "0.79 Accuracy of GNB is 70.97%\n",
      "0.8 Accuracy of GNB is 70.97%\n",
      "0.81 Accuracy of GNB is 70.97%\n",
      "0.8200000000000001 Accuracy of GNB is 70.97%\n",
      "0.8300000000000001 Accuracy of GNB is 67.74%\n",
      "0.84 Accuracy of GNB is 67.74%\n",
      "0.85 Accuracy of GNB is 67.74%\n",
      "0.86 Accuracy of GNB is 67.74%\n",
      "0.87 Accuracy of GNB is 67.74%\n",
      "0.88 Accuracy of GNB is 67.74%\n",
      "0.89 Accuracy of GNB is 67.74%\n",
      "0.9 Accuracy of GNB is 67.74%\n",
      "0.91 Accuracy of GNB is 67.74%\n",
      "0.92 Accuracy of GNB is 67.74%\n",
      "0.93 Accuracy of GNB is 67.74%\n",
      "0.9400000000000001 Accuracy of GNB is 67.74%\n",
      "0.9500000000000001 Accuracy of GNB is 64.52%\n",
      "0.96 Accuracy of GNB is 64.52%\n",
      "0.97 Accuracy of GNB is 64.52%\n",
      "0.98 Accuracy of GNB is 61.29%\n",
      "0.99 Accuracy of GNB is 61.29%\n"
     ]
    }
   ],
   "source": [
    "acc_score_array = []\n",
    "\n",
    "for temp_thres in np.arange(0,1,0.01):\n",
    "    threshold = temp_thres\n",
    "    pred3 = (model3.predict_proba(valid_X)[:,1] > threshold).astype(int)\n",
    "    temp_acc_score = 100*metrics.accuracy_score(pred3, valid_Y)\n",
    "    print(temp_thres, 'Accuracy of GNB is {:.2f}%'.format(temp_acc_score))\n",
    "    acc_score_array.append(temp_acc_score)"
   ]
  },
  {
   "cell_type": "code",
   "execution_count": 223,
   "id": "b8a840bd",
   "metadata": {},
   "outputs": [
    {
     "data": {
      "text/plain": [
       "Text(0, 0.5, 'accuracy score')"
      ]
     },
     "execution_count": 223,
     "metadata": {},
     "output_type": "execute_result"
    },
    {
     "data": {
      "image/png": "[encoded data removed]",
      "text/plain": [
       "<Figure size 432x288 with 1 Axes>"
      ]
     },
     "metadata": {
      "needs_background": "dark"
     },
     "output_type": "display_data"
    }
   ],
   "source": [
    "plt.plot(np.arange(0,1,0.01), acc_score_array)\n",
    "\n",
    "plt.xlabel('threshold')\n",
    "plt.ylabel('accuracy score')"
   ]
  },
  {
   "cell_type": "code",
   "execution_count": 224,
   "id": "c0692460",
   "metadata": {},
   "outputs": [
    {
     "name": "stdout",
     "output_type": "stream",
     "text": [
      "80.64516129032258\n",
      "7\n"
     ]
    }
   ],
   "source": [
    "print(np.max(acc_score_array))\n",
    "print(np.argmax(acc_score_array))"
   ]
  },
  {
   "cell_type": "code",
   "execution_count": 225,
   "id": "ddde4380",
   "metadata": {},
   "outputs": [
    {
     "data": {
      "text/plain": [
       "RandomForestClassifier(n_estimators=200)"
      ]
     },
     "execution_count": 225,
     "metadata": {},
     "output_type": "execute_result"
    }
   ],
   "source": [
    "model4 = RandomForestClassifier(n_estimators=200)\n",
    "model4.fit(train_X, train_Y)"
   ]
  },
  {
   "cell_type": "code",
   "execution_count": 226,
   "id": "43bd354e",
   "metadata": {},
   "outputs": [
    {
     "name": "stdout",
     "output_type": "stream",
     "text": [
      "0.0 f1_score of RF is 70.83%\n",
      "0.01 f1_score of RF is 70.83%\n",
      "0.02 f1_score of RF is 72.34%\n",
      "0.03 f1_score of RF is 72.34%\n",
      "0.04 f1_score of RF is 73.91%\n",
      "0.05 f1_score of RF is 73.91%\n",
      "0.06 f1_score of RF is 73.91%\n",
      "0.07 f1_score of RF is 77.27%\n",
      "0.08 f1_score of RF is 77.27%\n",
      "0.09 f1_score of RF is 77.27%\n",
      "0.1 f1_score of RF is 79.07%\n",
      "0.11 f1_score of RF is 79.07%\n",
      "0.12 f1_score of RF is 80.95%\n",
      "0.13 f1_score of RF is 80.95%\n",
      "0.14 f1_score of RF is 80.95%\n",
      "0.15 f1_score of RF is 80.95%\n",
      "0.16 f1_score of RF is 80.95%\n",
      "0.17 f1_score of RF is 82.93%\n",
      "0.18 f1_score of RF is 82.93%\n",
      "0.19 f1_score of RF is 82.93%\n",
      "0.2 f1_score of RF is 85.00%\n",
      "0.21 f1_score of RF is 85.00%\n",
      "0.22 f1_score of RF is 85.00%\n",
      "0.23 f1_score of RF is 85.00%\n",
      "0.24 f1_score of RF is 85.00%\n",
      "0.25 f1_score of RF is 87.18%\n",
      "0.26 f1_score of RF is 89.47%\n",
      "0.27 f1_score of RF is 89.47%\n",
      "0.28 f1_score of RF is 89.47%\n",
      "0.29 f1_score of RF is 89.47%\n",
      "0.3 f1_score of RF is 89.47%\n",
      "0.31 f1_score of RF is 89.47%\n",
      "0.32 f1_score of RF is 89.47%\n",
      "0.33 f1_score of RF is 89.47%\n",
      "0.34 f1_score of RF is 89.47%\n",
      "0.35000000000000003 f1_score of RF is 89.47%\n",
      "0.36 f1_score of RF is 86.49%\n",
      "0.37 f1_score of RF is 86.49%\n",
      "0.38 f1_score of RF is 88.89%\n",
      "0.39 f1_score of RF is 88.89%\n",
      "0.4 f1_score of RF is 85.71%\n",
      "0.41000000000000003 f1_score of RF is 85.71%\n",
      "0.42 f1_score of RF is 85.71%\n",
      "0.43 f1_score of RF is 82.35%\n",
      "0.44 f1_score of RF is 82.35%\n",
      "0.45 f1_score of RF is 82.35%\n",
      "0.46 f1_score of RF is 82.35%\n",
      "0.47000000000000003 f1_score of RF is 78.79%\n",
      "0.48 f1_score of RF is 77.42%\n",
      "0.49 f1_score of RF is 77.42%\n",
      "0.5 f1_score of RF is 73.33%\n",
      "0.51 f1_score of RF is 78.57%\n",
      "0.52 f1_score of RF is 78.57%\n",
      "0.53 f1_score of RF is 74.07%\n",
      "0.54 f1_score of RF is 74.07%\n",
      "0.55 f1_score of RF is 74.07%\n",
      "0.56 f1_score of RF is 74.07%\n",
      "0.5700000000000001 f1_score of RF is 74.07%\n",
      "0.58 f1_score of RF is 74.07%\n",
      "0.59 f1_score of RF is 74.07%\n",
      "0.6 f1_score of RF is 74.07%\n",
      "0.61 f1_score of RF is 74.07%\n",
      "0.62 f1_score of RF is 74.07%\n",
      "0.63 f1_score of RF is 74.07%\n",
      "0.64 f1_score of RF is 74.07%\n",
      "0.65 f1_score of RF is 74.07%\n",
      "0.66 f1_score of RF is 69.23%\n",
      "0.67 f1_score of RF is 69.23%\n",
      "0.68 f1_score of RF is 69.23%\n",
      "0.6900000000000001 f1_score of RF is 69.23%\n",
      "0.7000000000000001 f1_score of RF is 69.23%\n",
      "0.71 f1_score of RF is 69.23%\n",
      "0.72 f1_score of RF is 69.23%\n",
      "0.73 f1_score of RF is 69.23%\n",
      "0.74 f1_score of RF is 69.23%\n",
      "0.75 f1_score of RF is 69.23%\n",
      "0.76 f1_score of RF is 69.23%\n",
      "0.77 f1_score of RF is 69.23%\n",
      "0.78 f1_score of RF is 69.23%\n",
      "0.79 f1_score of RF is 64.00%\n",
      "0.8 f1_score of RF is 58.33%\n",
      "0.81 f1_score of RF is 58.33%\n",
      "0.8200000000000001 f1_score of RF is 52.17%\n",
      "0.8300000000000001 f1_score of RF is 52.17%\n",
      "0.84 f1_score of RF is 52.17%\n",
      "0.85 f1_score of RF is 52.17%\n",
      "0.86 f1_score of RF is 52.17%\n",
      "0.87 f1_score of RF is 52.17%\n",
      "0.88 f1_score of RF is 52.17%\n",
      "0.89 f1_score of RF is 38.10%\n",
      "0.9 f1_score of RF is 30.00%\n",
      "0.91 f1_score of RF is 30.00%\n",
      "0.92 f1_score of RF is 30.00%\n",
      "0.93 f1_score of RF is 30.00%\n",
      "0.9400000000000001 f1_score of RF is 30.00%\n",
      "0.9500000000000001 f1_score of RF is 30.00%\n",
      "0.96 f1_score of RF is 30.00%\n",
      "0.97 f1_score of RF is 11.11%\n",
      "0.98 f1_score of RF is 11.11%\n",
      "0.99 f1_score of RF is 0.00%\n"
     ]
    }
   ],
   "source": [
    "f1_score_array = []\n",
    "\n",
    "for temp_thres in np.arange(0,1,0.01):\n",
    "    threshold = temp_thres\n",
    "    pred4 = (model4.predict_proba(valid_X)[:,1] > threshold).astype(int)\n",
    "    temp_f1_score = 100*f1_score(valid_Y, pred4)\n",
    "    print(temp_thres, 'f1_score of RF is {:.2f}%'.format(temp_f1_score))\n",
    "    f1_score_array.append(temp_f1_score)"
   ]
  },
  {
   "cell_type": "code",
   "execution_count": 227,
   "id": "6086408b",
   "metadata": {},
   "outputs": [
    {
     "data": {
      "text/plain": [
       "Text(0, 0.5, 'f1 score')"
      ]
     },
     "execution_count": 227,
     "metadata": {},
     "output_type": "execute_result"
    },
    {
     "data": {
      "image/png": "[encoded data removed]",
      "text/plain": [
       "<Figure size 432x288 with 1 Axes>"
      ]
     },
     "metadata": {
      "needs_background": "dark"
     },
     "output_type": "display_data"
    }
   ],
   "source": [
    "plt.plot(np.arange(0,1,0.01), f1_score_array)\n",
    "\n",
    "plt.xlabel('threshold')\n",
    "plt.ylabel('f1 score')"
   ]
  },
  {
   "cell_type": "code",
   "execution_count": 228,
   "id": "2ce83e93",
   "metadata": {},
   "outputs": [
    {
     "name": "stdout",
     "output_type": "stream",
     "text": [
      "89.47368421052632\n",
      "26\n"
     ]
    }
   ],
   "source": [
    "print(np.max(f1_score_array))\n",
    "print(np.argmax(f1_score_array))"
   ]
  },
  {
   "cell_type": "code",
   "execution_count": 229,
   "id": "087d3f2c",
   "metadata": {},
   "outputs": [
    {
     "name": "stdout",
     "output_type": "stream",
     "text": [
      "0.0 Accuracy of RF is 54.84%\n",
      "0.01 Accuracy of RF is 54.84%\n",
      "0.02 Accuracy of RF is 58.06%\n",
      "0.03 Accuracy of RF is 58.06%\n",
      "0.04 Accuracy of RF is 61.29%\n",
      "0.05 Accuracy of RF is 61.29%\n",
      "0.06 Accuracy of RF is 61.29%\n",
      "0.07 Accuracy of RF is 67.74%\n",
      "0.08 Accuracy of RF is 67.74%\n",
      "0.09 Accuracy of RF is 67.74%\n",
      "0.1 Accuracy of RF is 70.97%\n",
      "0.11 Accuracy of RF is 70.97%\n",
      "0.12 Accuracy of RF is 74.19%\n",
      "0.13 Accuracy of RF is 74.19%\n",
      "0.14 Accuracy of RF is 74.19%\n",
      "0.15 Accuracy of RF is 74.19%\n",
      "0.16 Accuracy of RF is 74.19%\n",
      "0.17 Accuracy of RF is 77.42%\n",
      "0.18 Accuracy of RF is 77.42%\n",
      "0.19 Accuracy of RF is 77.42%\n",
      "0.2 Accuracy of RF is 80.65%\n",
      "0.21 Accuracy of RF is 80.65%\n",
      "0.22 Accuracy of RF is 80.65%\n",
      "0.23 Accuracy of RF is 80.65%\n",
      "0.24 Accuracy of RF is 80.65%\n",
      "0.25 Accuracy of RF is 83.87%\n",
      "0.26 Accuracy of RF is 87.10%\n",
      "0.27 Accuracy of RF is 87.10%\n",
      "0.28 Accuracy of RF is 87.10%\n",
      "0.29 Accuracy of RF is 87.10%\n",
      "0.3 Accuracy of RF is 87.10%\n",
      "0.31 Accuracy of RF is 87.10%\n",
      "0.32 Accuracy of RF is 87.10%\n",
      "0.33 Accuracy of RF is 87.10%\n",
      "0.34 Accuracy of RF is 87.10%\n",
      "0.35000000000000003 Accuracy of RF is 87.10%\n",
      "0.36 Accuracy of RF is 83.87%\n",
      "0.37 Accuracy of RF is 83.87%\n",
      "0.38 Accuracy of RF is 87.10%\n",
      "0.39 Accuracy of RF is 87.10%\n",
      "0.4 Accuracy of RF is 83.87%\n",
      "0.41000000000000003 Accuracy of RF is 83.87%\n",
      "0.42 Accuracy of RF is 83.87%\n",
      "0.43 Accuracy of RF is 80.65%\n",
      "0.44 Accuracy of RF is 80.65%\n",
      "0.45 Accuracy of RF is 80.65%\n",
      "0.46 Accuracy of RF is 80.65%\n",
      "0.47000000000000003 Accuracy of RF is 77.42%\n",
      "0.48 Accuracy of RF is 77.42%\n",
      "0.49 Accuracy of RF is 77.42%\n",
      "0.5 Accuracy of RF is 74.19%\n",
      "0.51 Accuracy of RF is 80.65%\n",
      "0.52 Accuracy of RF is 80.65%\n",
      "0.53 Accuracy of RF is 77.42%\n",
      "0.54 Accuracy of RF is 77.42%\n",
      "0.55 Accuracy of RF is 77.42%\n",
      "0.56 Accuracy of RF is 77.42%\n",
      "0.5700000000000001 Accuracy of RF is 77.42%\n",
      "0.58 Accuracy of RF is 77.42%\n",
      "0.59 Accuracy of RF is 77.42%\n",
      "0.6 Accuracy of RF is 77.42%\n",
      "0.61 Accuracy of RF is 77.42%\n",
      "0.62 Accuracy of RF is 77.42%\n",
      "0.63 Accuracy of RF is 77.42%\n",
      "0.64 Accuracy of RF is 77.42%\n",
      "0.65 Accuracy of RF is 77.42%\n",
      "0.66 Accuracy of RF is 74.19%\n",
      "0.67 Accuracy of RF is 74.19%\n",
      "0.68 Accuracy of RF is 74.19%\n",
      "0.6900000000000001 Accuracy of RF is 74.19%\n",
      "0.7000000000000001 Accuracy of RF is 74.19%\n",
      "0.71 Accuracy of RF is 74.19%\n",
      "0.72 Accuracy of RF is 74.19%\n",
      "0.73 Accuracy of RF is 74.19%\n",
      "0.74 Accuracy of RF is 74.19%\n",
      "0.75 Accuracy of RF is 74.19%\n",
      "0.76 Accuracy of RF is 74.19%\n",
      "0.77 Accuracy of RF is 74.19%\n",
      "0.78 Accuracy of RF is 74.19%\n",
      "0.79 Accuracy of RF is 70.97%\n",
      "0.8 Accuracy of RF is 67.74%\n",
      "0.81 Accuracy of RF is 67.74%\n",
      "0.8200000000000001 Accuracy of RF is 64.52%\n",
      "0.8300000000000001 Accuracy of RF is 64.52%\n",
      "0.84 Accuracy of RF is 64.52%\n",
      "0.85 Accuracy of RF is 64.52%\n",
      "0.86 Accuracy of RF is 64.52%\n",
      "0.87 Accuracy of RF is 64.52%\n",
      "0.88 Accuracy of RF is 64.52%\n",
      "0.89 Accuracy of RF is 58.06%\n",
      "0.9 Accuracy of RF is 54.84%\n",
      "0.91 Accuracy of RF is 54.84%\n",
      "0.92 Accuracy of RF is 54.84%\n",
      "0.93 Accuracy of RF is 54.84%\n",
      "0.9400000000000001 Accuracy of RF is 54.84%\n",
      "0.9500000000000001 Accuracy of RF is 54.84%\n",
      "0.96 Accuracy of RF is 54.84%\n",
      "0.97 Accuracy of RF is 48.39%\n",
      "0.98 Accuracy of RF is 48.39%\n",
      "0.99 Accuracy of RF is 45.16%\n"
     ]
    }
   ],
   "source": [
    "acc_score_array = []\n",
    "\n",
    "for temp_thres in np.arange(0,1,0.01):\n",
    "    threshold = temp_thres\n",
    "    pred4 = (model4.predict_proba(valid_X)[:,1] > threshold).astype(int)\n",
    "    temp_acc_score = 100*metrics.accuracy_score(pred4, valid_Y)\n",
    "    print(temp_thres, 'Accuracy of RF is {:.2f}%'.format(temp_acc_score))\n",
    "    acc_score_array.append(temp_acc_score)"
   ]
  },
  {
   "cell_type": "code",
   "execution_count": 230,
   "id": "6481e706",
   "metadata": {},
   "outputs": [
    {
     "data": {
      "text/plain": [
       "Text(0, 0.5, 'accuracy score')"
      ]
     },
     "execution_count": 230,
     "metadata": {},
     "output_type": "execute_result"
    },
    {
     "data": {
      "image/png": "[encoded data removed]",
      "text/plain": [
       "<Figure size 432x288 with 1 Axes>"
      ]
     },
     "metadata": {
      "needs_background": "dark"
     },
     "output_type": "display_data"
    }
   ],
   "source": [
    "plt.plot(np.arange(0,1,0.01), acc_score_array)\n",
    "\n",
    "plt.xlabel('threshold')\n",
    "plt.ylabel('accuracy score')"
   ]
  },
  {
   "cell_type": "code",
   "execution_count": 231,
   "id": "043eea53",
   "metadata": {},
   "outputs": [
    {
     "name": "stdout",
     "output_type": "stream",
     "text": [
      "87.09677419354838\n",
      "26\n"
     ]
    }
   ],
   "source": [
    "print(np.max(acc_score_array))\n",
    "print(np.argmax(acc_score_array))"
   ]
  },
  {
   "cell_type": "code",
   "execution_count": 232,
   "id": "e7d4961f",
   "metadata": {},
   "outputs": [
    {
     "data": {
      "text/plain": [
       "RandomForestClassifier(n_estimators=200)"
      ]
     },
     "execution_count": 232,
     "metadata": {},
     "output_type": "execute_result"
    }
   ],
   "source": [
    "model4.fit(X, Y)"
   ]
  },
  {
   "cell_type": "code",
   "execution_count": 233,
   "id": "0e947649",
   "metadata": {},
   "outputs": [],
   "source": [
    "real_pred2 = (model4.predict_proba(test)[:,1] > 0.34).astype(int)"
   ]
  },
  {
   "cell_type": "code",
   "execution_count": 234,
   "id": "dc21162e",
   "metadata": {},
   "outputs": [],
   "source": [
    "submission['target'] = real_pred2\n",
    "submission.to_csv('submission2.csv', index=False)"
   ]
  },
  {
   "cell_type": "code",
   "execution_count": 235,
   "id": "67f28b03",
   "metadata": {},
   "outputs": [],
   "source": [
    "from sklearn.ensemble import VotingClassifier"
   ]
  },
  {
   "cell_type": "code",
   "execution_count": 236,
   "id": "5d607cb7",
   "metadata": {},
   "outputs": [],
   "source": [
    "eclf1 = VotingClassifier(estimators=[('rf', model4), ('logistic2', model1_1)],\n",
    "                         voting='soft')\n",
    "eclf1 = eclf1.fit(X,Y)"
   ]
  },
  {
   "cell_type": "code",
   "execution_count": 237,
   "id": "a270671b",
   "metadata": {},
   "outputs": [],
   "source": [
    "real_pred5 = eclf1.predict(test)"
   ]
  },
  {
   "cell_type": "code",
   "execution_count": 238,
   "id": "19041c08",
   "metadata": {},
   "outputs": [],
   "source": [
    "submission['target'] = real_pred5\n",
    "submission.to_csv('submission5.csv', index=False)"
   ]
  },
  {
   "cell_type": "code",
   "execution_count": 241,
   "id": "1b234c0c",
   "metadata": {},
   "outputs": [
    {
     "data": {
      "text/plain": [
       "LGBMClassifier()"
      ]
     },
     "execution_count": 241,
     "metadata": {},
     "output_type": "execute_result"
    }
   ],
   "source": [
    "import lightgbm as lgbm\n",
    "eclf2 = lgbm.LGBMClassifier()\n",
    "eclf2.fit(X,Y)"
   ]
  },
  {
   "cell_type": "code",
   "execution_count": 242,
   "id": "8cc4529b",
   "metadata": {},
   "outputs": [],
   "source": [
    "real_pred6 = eclf2.predict(test)"
   ]
  },
  {
   "cell_type": "code",
   "execution_count": 243,
   "id": "af6c045b",
   "metadata": {},
   "outputs": [],
   "source": [
    "submission['target'] = real_pred6\n",
    "submission.to_csv('submission6.csv', index=False)"
   ]
  },
  {
   "cell_type": "code",
   "execution_count": 244,
   "id": "e761ca5a",
   "metadata": {},
   "outputs": [],
   "source": [
    "from sklearn.ensemble import StackingClassifier"
   ]
  },
  {
   "cell_type": "code",
   "execution_count": 245,
   "id": "de9bd2a9",
   "metadata": {},
   "outputs": [],
   "source": [
    "eclf3 = StackingClassifier(estimators=[('rf', model4), ('lgbm', eclf2)], \n",
    "                           final_estimator=model1_1,\n",
    "                           n_jobs=-1,\n",
    "                           stack_method='predict',\n",
    "                           cv=5)"
   ]
  },
  {
   "cell_type": "code",
   "execution_count": 246,
   "id": "a774f332",
   "metadata": {},
   "outputs": [
    {
     "data": {
      "text/plain": [
       "StackingClassifier(cv=5,\n",
       "                   estimators=[('rf', RandomForestClassifier(n_estimators=200)),\n",
       "                               ('lgbm', LGBMClassifier())],\n",
       "                   final_estimator=LogisticRegression(n_jobs=-1,\n",
       "                                                      random_state=2021,\n",
       "                                                      solver='liblinear'),\n",
       "                   n_jobs=-1, stack_method='predict')"
      ]
     },
     "execution_count": 246,
     "metadata": {},
     "output_type": "execute_result"
    }
   ],
   "source": [
    "eclf3.fit(train_X, train_Y)"
   ]
  },
  {
   "cell_type": "code",
   "execution_count": 247,
   "id": "56fb9934",
   "metadata": {},
   "outputs": [
    {
     "name": "stdout",
     "output_type": "stream",
     "text": [
      "0.0 f1_score of Stacking is 70.83%\n",
      "0.01 f1_score of Stacking is 70.83%\n",
      "0.02 f1_score of Stacking is 70.83%\n",
      "0.03 f1_score of Stacking is 70.83%\n",
      "0.04 f1_score of Stacking is 70.83%\n",
      "0.05 f1_score of Stacking is 70.83%\n",
      "0.06 f1_score of Stacking is 70.83%\n",
      "0.07 f1_score of Stacking is 70.83%\n",
      "0.08 f1_score of Stacking is 70.83%\n",
      "0.09 f1_score of Stacking is 70.83%\n",
      "0.1 f1_score of Stacking is 70.83%\n",
      "0.11 f1_score of Stacking is 70.83%\n",
      "0.12 f1_score of Stacking is 70.83%\n",
      "0.13 f1_score of Stacking is 70.83%\n",
      "0.14 f1_score of Stacking is 70.83%\n",
      "0.15 f1_score of Stacking is 70.83%\n",
      "0.16 f1_score of Stacking is 70.83%\n",
      "0.17 f1_score of Stacking is 70.83%\n",
      "0.18 f1_score of Stacking is 70.83%\n",
      "0.19 f1_score of Stacking is 70.83%\n",
      "0.2 f1_score of Stacking is 70.83%\n",
      "0.21 f1_score of Stacking is 70.83%\n",
      "0.22 f1_score of Stacking is 70.83%\n",
      "0.23 f1_score of Stacking is 70.83%\n",
      "0.24 f1_score of Stacking is 70.83%\n",
      "0.25 f1_score of Stacking is 91.43%\n",
      "0.26 f1_score of Stacking is 91.43%\n",
      "0.27 f1_score of Stacking is 91.43%\n",
      "0.28 f1_score of Stacking is 91.43%\n",
      "0.29 f1_score of Stacking is 91.43%\n",
      "0.3 f1_score of Stacking is 91.43%\n",
      "0.31 f1_score of Stacking is 91.43%\n",
      "0.32 f1_score of Stacking is 91.43%\n",
      "0.33 f1_score of Stacking is 91.43%\n",
      "0.34 f1_score of Stacking is 91.43%\n",
      "0.35000000000000003 f1_score of Stacking is 91.43%\n",
      "0.36 f1_score of Stacking is 91.43%\n",
      "0.37 f1_score of Stacking is 91.43%\n",
      "0.38 f1_score of Stacking is 91.43%\n",
      "0.39 f1_score of Stacking is 91.43%\n",
      "0.4 f1_score of Stacking is 91.43%\n",
      "0.41000000000000003 f1_score of Stacking is 91.43%\n",
      "0.42 f1_score of Stacking is 91.43%\n",
      "0.43 f1_score of Stacking is 91.43%\n",
      "0.44 f1_score of Stacking is 91.43%\n",
      "0.45 f1_score of Stacking is 91.43%\n",
      "0.46 f1_score of Stacking is 91.43%\n",
      "0.47000000000000003 f1_score of Stacking is 91.43%\n",
      "0.48 f1_score of Stacking is 91.43%\n",
      "0.49 f1_score of Stacking is 81.25%\n",
      "0.5 f1_score of Stacking is 81.25%\n",
      "0.51 f1_score of Stacking is 81.25%\n",
      "0.52 f1_score of Stacking is 81.25%\n",
      "0.53 f1_score of Stacking is 81.25%\n",
      "0.54 f1_score of Stacking is 81.25%\n",
      "0.55 f1_score of Stacking is 83.87%\n",
      "0.56 f1_score of Stacking is 83.87%\n",
      "0.5700000000000001 f1_score of Stacking is 83.87%\n",
      "0.58 f1_score of Stacking is 83.87%\n",
      "0.59 f1_score of Stacking is 83.87%\n",
      "0.6 f1_score of Stacking is 83.87%\n",
      "0.61 f1_score of Stacking is 83.87%\n",
      "0.62 f1_score of Stacking is 83.87%\n",
      "0.63 f1_score of Stacking is 83.87%\n",
      "0.64 f1_score of Stacking is 83.87%\n",
      "0.65 f1_score of Stacking is 83.87%\n",
      "0.66 f1_score of Stacking is 83.87%\n",
      "0.67 f1_score of Stacking is 83.87%\n",
      "0.68 f1_score of Stacking is 83.87%\n",
      "0.6900000000000001 f1_score of Stacking is 83.87%\n",
      "0.7000000000000001 f1_score of Stacking is 83.87%\n",
      "0.71 f1_score of Stacking is 83.87%\n",
      "0.72 f1_score of Stacking is 83.87%\n",
      "0.73 f1_score of Stacking is 83.87%\n",
      "0.74 f1_score of Stacking is 83.87%\n",
      "0.75 f1_score of Stacking is 83.87%\n",
      "0.76 f1_score of Stacking is 83.87%\n",
      "0.77 f1_score of Stacking is 83.87%\n",
      "0.78 f1_score of Stacking is 0.00%\n",
      "0.79 f1_score of Stacking is 0.00%\n",
      "0.8 f1_score of Stacking is 0.00%\n",
      "0.81 f1_score of Stacking is 0.00%\n",
      "0.8200000000000001 f1_score of Stacking is 0.00%\n",
      "0.8300000000000001 f1_score of Stacking is 0.00%\n",
      "0.84 f1_score of Stacking is 0.00%\n",
      "0.85 f1_score of Stacking is 0.00%\n",
      "0.86 f1_score of Stacking is 0.00%\n",
      "0.87 f1_score of Stacking is 0.00%\n",
      "0.88 f1_score of Stacking is 0.00%\n",
      "0.89 f1_score of Stacking is 0.00%\n",
      "0.9 f1_score of Stacking is 0.00%\n",
      "0.91 f1_score of Stacking is 0.00%\n",
      "0.92 f1_score of Stacking is 0.00%\n",
      "0.93 f1_score of Stacking is 0.00%\n",
      "0.9400000000000001 f1_score of Stacking is 0.00%\n",
      "0.9500000000000001 f1_score of Stacking is 0.00%\n",
      "0.96 f1_score of Stacking is 0.00%\n",
      "0.97 f1_score of Stacking is 0.00%\n",
      "0.98 f1_score of Stacking is 0.00%\n",
      "0.99 f1_score of Stacking is 0.00%\n"
     ]
    }
   ],
   "source": [
    "f1_score_array = []\n",
    "\n",
    "for temp_thres in np.arange(0,1,0.01):\n",
    "    threshold = temp_thres\n",
    "    pred5 = (eclf3.predict_proba(valid_X)[:,1] > threshold).astype(int)\n",
    "    temp_f1_score = 100*f1_score(valid_Y, pred5)\n",
    "    print(temp_thres, 'f1_score of Stacking is {:.2f}%'.format(temp_f1_score))\n",
    "    f1_score_array.append(temp_f1_score)"
   ]
  },
  {
   "cell_type": "code",
   "execution_count": 248,
   "id": "6f2cb450",
   "metadata": {},
   "outputs": [
    {
     "data": {
      "text/plain": [
       "Text(0, 0.5, 'f1 score')"
      ]
     },
     "execution_count": 248,
     "metadata": {},
     "output_type": "execute_result"
    },
    {
     "data": {
      "image/png": "[encoded data removed]",
      "text/plain": [
       "<Figure size 432x288 with 1 Axes>"
      ]
     },
     "metadata": {
      "needs_background": "dark"
     },
     "output_type": "display_data"
    }
   ],
   "source": [
    "plt.plot(np.arange(0,1,0.01), f1_score_array)\n",
    "\n",
    "plt.xlabel('threshold')\n",
    "plt.ylabel('f1 score')"
   ]
  },
  {
   "cell_type": "code",
   "execution_count": 249,
   "id": "d3e7a7ae",
   "metadata": {},
   "outputs": [
    {
     "name": "stdout",
     "output_type": "stream",
     "text": [
      "91.42857142857143\n",
      "25\n"
     ]
    }
   ],
   "source": [
    "print(np.max(f1_score_array))\n",
    "print(np.argmax(f1_score_array))"
   ]
  },
  {
   "cell_type": "code",
   "execution_count": 250,
   "id": "39a3923d",
   "metadata": {},
   "outputs": [
    {
     "name": "stdout",
     "output_type": "stream",
     "text": [
      "0.0 Accuracy of Stacking is 54.84%\n",
      "0.01 Accuracy of Stacking is 54.84%\n",
      "0.02 Accuracy of Stacking is 54.84%\n",
      "0.03 Accuracy of Stacking is 54.84%\n",
      "0.04 Accuracy of Stacking is 54.84%\n",
      "0.05 Accuracy of Stacking is 54.84%\n",
      "0.06 Accuracy of Stacking is 54.84%\n",
      "0.07 Accuracy of Stacking is 54.84%\n",
      "0.08 Accuracy of Stacking is 54.84%\n",
      "0.09 Accuracy of Stacking is 54.84%\n",
      "0.1 Accuracy of Stacking is 54.84%\n",
      "0.11 Accuracy of Stacking is 54.84%\n",
      "0.12 Accuracy of Stacking is 54.84%\n",
      "0.13 Accuracy of Stacking is 54.84%\n",
      "0.14 Accuracy of Stacking is 54.84%\n",
      "0.15 Accuracy of Stacking is 54.84%\n",
      "0.16 Accuracy of Stacking is 54.84%\n",
      "0.17 Accuracy of Stacking is 54.84%\n",
      "0.18 Accuracy of Stacking is 54.84%\n",
      "0.19 Accuracy of Stacking is 54.84%\n",
      "0.2 Accuracy of Stacking is 54.84%\n",
      "0.21 Accuracy of Stacking is 54.84%\n",
      "0.22 Accuracy of Stacking is 54.84%\n",
      "0.23 Accuracy of Stacking is 54.84%\n",
      "0.24 Accuracy of Stacking is 54.84%\n",
      "0.25 Accuracy of Stacking is 90.32%\n",
      "0.26 Accuracy of Stacking is 90.32%\n",
      "0.27 Accuracy of Stacking is 90.32%\n",
      "0.28 Accuracy of Stacking is 90.32%\n",
      "0.29 Accuracy of Stacking is 90.32%\n",
      "0.3 Accuracy of Stacking is 90.32%\n",
      "0.31 Accuracy of Stacking is 90.32%\n",
      "0.32 Accuracy of Stacking is 90.32%\n",
      "0.33 Accuracy of Stacking is 90.32%\n",
      "0.34 Accuracy of Stacking is 90.32%\n",
      "0.35000000000000003 Accuracy of Stacking is 90.32%\n",
      "0.36 Accuracy of Stacking is 90.32%\n",
      "0.37 Accuracy of Stacking is 90.32%\n",
      "0.38 Accuracy of Stacking is 90.32%\n",
      "0.39 Accuracy of Stacking is 90.32%\n",
      "0.4 Accuracy of Stacking is 90.32%\n",
      "0.41000000000000003 Accuracy of Stacking is 90.32%\n",
      "0.42 Accuracy of Stacking is 90.32%\n",
      "0.43 Accuracy of Stacking is 90.32%\n",
      "0.44 Accuracy of Stacking is 90.32%\n",
      "0.45 Accuracy of Stacking is 90.32%\n",
      "0.46 Accuracy of Stacking is 90.32%\n",
      "0.47000000000000003 Accuracy of Stacking is 90.32%\n",
      "0.48 Accuracy of Stacking is 90.32%\n",
      "0.49 Accuracy of Stacking is 80.65%\n",
      "0.5 Accuracy of Stacking is 80.65%\n",
      "0.51 Accuracy of Stacking is 80.65%\n",
      "0.52 Accuracy of Stacking is 80.65%\n",
      "0.53 Accuracy of Stacking is 80.65%\n",
      "0.54 Accuracy of Stacking is 80.65%\n",
      "0.55 Accuracy of Stacking is 83.87%\n",
      "0.56 Accuracy of Stacking is 83.87%\n",
      "0.5700000000000001 Accuracy of Stacking is 83.87%\n",
      "0.58 Accuracy of Stacking is 83.87%\n",
      "0.59 Accuracy of Stacking is 83.87%\n",
      "0.6 Accuracy of Stacking is 83.87%\n",
      "0.61 Accuracy of Stacking is 83.87%\n",
      "0.62 Accuracy of Stacking is 83.87%\n",
      "0.63 Accuracy of Stacking is 83.87%\n",
      "0.64 Accuracy of Stacking is 83.87%\n",
      "0.65 Accuracy of Stacking is 83.87%\n",
      "0.66 Accuracy of Stacking is 83.87%\n",
      "0.67 Accuracy of Stacking is 83.87%\n",
      "0.68 Accuracy of Stacking is 83.87%\n",
      "0.6900000000000001 Accuracy of Stacking is 83.87%\n",
      "0.7000000000000001 Accuracy of Stacking is 83.87%\n",
      "0.71 Accuracy of Stacking is 83.87%\n",
      "0.72 Accuracy of Stacking is 83.87%\n",
      "0.73 Accuracy of Stacking is 83.87%\n",
      "0.74 Accuracy of Stacking is 83.87%\n",
      "0.75 Accuracy of Stacking is 83.87%\n",
      "0.76 Accuracy of Stacking is 83.87%\n",
      "0.77 Accuracy of Stacking is 83.87%\n",
      "0.78 Accuracy of Stacking is 45.16%\n",
      "0.79 Accuracy of Stacking is 45.16%\n",
      "0.8 Accuracy of Stacking is 45.16%\n",
      "0.81 Accuracy of Stacking is 45.16%\n",
      "0.8200000000000001 Accuracy of Stacking is 45.16%\n",
      "0.8300000000000001 Accuracy of Stacking is 45.16%\n",
      "0.84 Accuracy of Stacking is 45.16%\n",
      "0.85 Accuracy of Stacking is 45.16%\n",
      "0.86 Accuracy of Stacking is 45.16%\n",
      "0.87 Accuracy of Stacking is 45.16%\n",
      "0.88 Accuracy of Stacking is 45.16%\n",
      "0.89 Accuracy of Stacking is 45.16%\n",
      "0.9 Accuracy of Stacking is 45.16%\n",
      "0.91 Accuracy of Stacking is 45.16%\n",
      "0.92 Accuracy of Stacking is 45.16%\n",
      "0.93 Accuracy of Stacking is 45.16%\n",
      "0.9400000000000001 Accuracy of Stacking is 45.16%\n",
      "0.9500000000000001 Accuracy of Stacking is 45.16%\n",
      "0.96 Accuracy of Stacking is 45.16%\n",
      "0.97 Accuracy of Stacking is 45.16%\n",
      "0.98 Accuracy of Stacking is 45.16%\n",
      "0.99 Accuracy of Stacking is 45.16%\n"
     ]
    }
   ],
   "source": [
    "acc_score_array = []\n",
    "\n",
    "for temp_thres in np.arange(0,1,0.01):\n",
    "    threshold = temp_thres\n",
    "    pred5 = (eclf3.predict_proba(valid_X)[:,1] > threshold).astype(int)\n",
    "    temp_acc_score = 100*metrics.accuracy_score(pred5, valid_Y)\n",
    "    print(temp_thres, 'Accuracy of Stacking is {:.2f}%'.format(temp_acc_score))\n",
    "    acc_score_array.append(temp_acc_score)"
   ]
  },
  {
   "cell_type": "code",
   "execution_count": 251,
   "id": "a3cdf0f3",
   "metadata": {},
   "outputs": [
    {
     "data": {
      "text/plain": [
       "Text(0, 0.5, 'accuracy score')"
      ]
     },
     "execution_count": 251,
     "metadata": {},
     "output_type": "execute_result"
    },
    {
     "data": {
      "image/png": "[encoded data removed]",
      "text/plain": [
       "<Figure size 432x288 with 1 Axes>"
      ]
     },
     "metadata": {
      "needs_background": "dark"
     },
     "output_type": "display_data"
    }
   ],
   "source": [
    "plt.plot(np.arange(0,1,0.01), acc_score_array)\n",
    "\n",
    "plt.xlabel('threshold')\n",
    "plt.ylabel('accuracy score')"
   ]
  },
  {
   "cell_type": "code",
   "execution_count": 252,
   "id": "27e5a456",
   "metadata": {},
   "outputs": [
    {
     "name": "stdout",
     "output_type": "stream",
     "text": [
      "90.32258064516128\n",
      "25\n"
     ]
    }
   ],
   "source": [
    "print(np.max(acc_score_array))\n",
    "print(np.argmax(acc_score_array))"
   ]
  },
  {
   "cell_type": "code",
   "execution_count": 253,
   "id": "0bb4c1a8",
   "metadata": {},
   "outputs": [],
   "source": [
    "eclf3 = eclf3.fit(X,Y)"
   ]
  },
  {
   "cell_type": "code",
   "execution_count": 254,
   "id": "8e31483e",
   "metadata": {},
   "outputs": [],
   "source": [
    "real_pred7 = (eclf3.predict_proba(test)[:,1] > 0.23).astype(int)"
   ]
  },
  {
   "cell_type": "code",
   "execution_count": 255,
   "id": "0c5f7a43",
   "metadata": {},
   "outputs": [],
   "source": [
    "submission['target'] = real_pred7\n",
    "submission.to_csv('submission7.csv', index=False)"
   ]
  },
  {
   "cell_type": "code",
   "execution_count": null,
   "id": "54659acb",
   "metadata": {},
   "outputs": [],
   "source": []
  },
  {
   "cell_type": "code",
   "execution_count": null,
   "id": "34c649a8",
   "metadata": {},
   "outputs": [],
   "source": []
  },
  {
   "cell_type": "code",
   "execution_count": null,
   "id": "61b5e7f9",
   "metadata": {},
   "outputs": [],
   "source": []
  },
  {
   "cell_type": "code",
   "execution_count": null,
   "id": "d0749dd9",
   "metadata": {},
   "outputs": [],
   "source": []
  },
  {
   "cell_type": "code",
   "execution_count": null,
   "id": "0220f0b5",
   "metadata": {},
   "outputs": [],
   "source": []
  },
  {
   "cell_type": "code",
   "execution_count": null,
   "id": "002ebd75",
   "metadata": {},
   "outputs": [],
   "source": []
  },
  {
   "cell_type": "code",
   "execution_count": null,
   "id": "ac7bcfaa",
   "metadata": {},
   "outputs": [],
   "source": []
  }
 ],
 "metadata": {
  "kernelspec": {
   "display_name": "Python 3",
   "language": "python",
   "name": "python3"
  },
  "language_info": {
   "codemirror_mode": {
    "name": "ipython",
    "version": 3
   },
   "file_extension": ".py",
   "mimetype": "text/x-python",
   "name": "python",
   "nbconvert_exporter": "python",
   "pygments_lexer": "ipython3",
   "version": "3.8.8"
  }
 },
 "nbformat": 4,
 "nbformat_minor": 5
}
