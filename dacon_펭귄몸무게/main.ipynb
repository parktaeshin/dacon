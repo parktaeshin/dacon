{
 "cells": [
  {
   "cell_type": "code",
   "execution_count": 1,
   "metadata": {
    "executionInfo": {
     "elapsed": 420,
     "status": "ok",
     "timestamp": 1640858008433,
     "user": {
      "displayName": "알거없다",
      "photoUrl": "https://lh3.googleusercontent.com/a/default-user=s64",
      "userId": "12956811673456235187"
     },
     "user_tz": -540
    },
    "id": "TbsH2GBd09oB"
   },
   "outputs": [],
   "source": [
    "import pandas as pd\n",
    "import numpy as np\n",
    "import matplotlib.pyplot as plt\n",
    "import seaborn as sns\n",
    "\n",
    "from sklearn.preprocessing import StandardScaler\n",
    "from sklearn.preprocessing import PolynomialFeatures\n",
    "\n",
    "import warnings\n",
    "warnings.filterwarnings(\"ignore\")"
   ]
  },
  {
   "cell_type": "code",
   "execution_count": 2,
   "metadata": {},
   "outputs": [],
   "source": [
    "plt.rcParams['xtick.color'] = 'white'\n",
    "plt.rcParams['ytick.color'] = 'white'\n",
    "plt.rcParams['axes.labelcolor'] = 'white'\n",
    "plt.rcParams['axes.titlecolor'] = 'white'\n",
    "plt.rcParams['figure.titlesize'] = 30\n"
   ]
  },
  {
   "cell_type": "code",
   "execution_count": 3,
   "metadata": {
    "executionInfo": {
     "elapsed": 615,
     "status": "ok",
     "timestamp": 1640858009326,
     "user": {
      "displayName": "알거없다",
      "photoUrl": "https://lh3.googleusercontent.com/a/default-user=s64",
      "userId": "12956811673456235187"
     },
     "user_tz": -540
    },
    "id": "bhwfCYyF09kx"
   },
   "outputs": [],
   "source": [
    "train = pd.read_csv(\"C:\\Ptest\\dacon펭귄/train.csv\")\n",
    "test = pd.read_csv(\"C:\\Ptest\\dacon펭귄/test.csv\")\n",
    "submission = pd.read_csv(\"C:\\Ptest\\dacon펭귄/sample_submission.csv\")"
   ]
  },
  {
   "cell_type": "code",
   "execution_count": 4,
   "metadata": {
    "colab": {
     "base_uri": "https://localhost:8080/"
    },
    "executionInfo": {
     "elapsed": 20,
     "status": "ok",
     "timestamp": 1640858009326,
     "user": {
      "displayName": "알거없다",
      "photoUrl": "https://lh3.googleusercontent.com/a/default-user=s64",
      "userId": "12956811673456235187"
     },
     "user_tz": -540
    },
    "id": "C7VD8lwI1vp1",
    "outputId": "7b316c94-eddc-4802-8ddb-7664d2172e18"
   },
   "outputs": [
    {
     "data": {
      "text/plain": [
       "(114, 11)"
      ]
     },
     "execution_count": 4,
     "metadata": {},
     "output_type": "execute_result"
    }
   ],
   "source": [
    "train.shape"
   ]
  },
  {
   "cell_type": "code",
   "execution_count": 5,
   "metadata": {
    "colab": {
     "base_uri": "https://localhost:8080/",
     "height": 284
    },
    "executionInfo": {
     "elapsed": 17,
     "status": "ok",
     "timestamp": 1640858009327,
     "user": {
      "displayName": "알거없다",
      "photoUrl": "https://lh3.googleusercontent.com/a/default-user=s64",
      "userId": "12956811673456235187"
     },
     "user_tz": -540
    },
    "id": "lS6e7G1f09ij",
    "outputId": "3a560b0b-c69f-49d6-96ee-87dcc3d5525a"
   },
   "outputs": [
    {
     "data": {
      "text/html": [
       "<div>\n",
       "<style scoped>\n",
       "    .dataframe tbody tr th:only-of-type {\n",
       "        vertical-align: middle;\n",
       "    }\n",
       "\n",
       "    .dataframe tbody tr th {\n",
       "        vertical-align: top;\n",
       "    }\n",
       "\n",
       "    .dataframe thead th {\n",
       "        text-align: right;\n",
       "    }\n",
       "</style>\n",
       "<table border=\"1\" class=\"dataframe\">\n",
       "  <thead>\n",
       "    <tr style=\"text-align: right;\">\n",
       "      <th></th>\n",
       "      <th>id</th>\n",
       "      <th>Species</th>\n",
       "      <th>Island</th>\n",
       "      <th>Clutch Completion</th>\n",
       "      <th>Culmen Length (mm)</th>\n",
       "      <th>Culmen Depth (mm)</th>\n",
       "      <th>Flipper Length (mm)</th>\n",
       "      <th>Sex</th>\n",
       "      <th>Delta 15 N (o/oo)</th>\n",
       "      <th>Delta 13 C (o/oo)</th>\n",
       "      <th>Body Mass (g)</th>\n",
       "    </tr>\n",
       "  </thead>\n",
       "  <tbody>\n",
       "    <tr>\n",
       "      <th>0</th>\n",
       "      <td>0</td>\n",
       "      <td>Gentoo penguin (Pygoscelis papua)</td>\n",
       "      <td>Biscoe</td>\n",
       "      <td>Yes</td>\n",
       "      <td>50.0</td>\n",
       "      <td>15.3</td>\n",
       "      <td>220</td>\n",
       "      <td>MALE</td>\n",
       "      <td>8.30515</td>\n",
       "      <td>-25.19017</td>\n",
       "      <td>5550</td>\n",
       "    </tr>\n",
       "    <tr>\n",
       "      <th>1</th>\n",
       "      <td>1</td>\n",
       "      <td>Chinstrap penguin (Pygoscelis antarctica)</td>\n",
       "      <td>Dream</td>\n",
       "      <td>No</td>\n",
       "      <td>49.5</td>\n",
       "      <td>19.0</td>\n",
       "      <td>200</td>\n",
       "      <td>MALE</td>\n",
       "      <td>9.63074</td>\n",
       "      <td>-24.34684</td>\n",
       "      <td>3800</td>\n",
       "    </tr>\n",
       "    <tr>\n",
       "      <th>2</th>\n",
       "      <td>2</td>\n",
       "      <td>Gentoo penguin (Pygoscelis papua)</td>\n",
       "      <td>Biscoe</td>\n",
       "      <td>Yes</td>\n",
       "      <td>45.1</td>\n",
       "      <td>14.4</td>\n",
       "      <td>210</td>\n",
       "      <td>FEMALE</td>\n",
       "      <td>8.51951</td>\n",
       "      <td>-27.01854</td>\n",
       "      <td>4400</td>\n",
       "    </tr>\n",
       "    <tr>\n",
       "      <th>3</th>\n",
       "      <td>3</td>\n",
       "      <td>Gentoo penguin (Pygoscelis papua)</td>\n",
       "      <td>Biscoe</td>\n",
       "      <td>Yes</td>\n",
       "      <td>44.5</td>\n",
       "      <td>14.7</td>\n",
       "      <td>214</td>\n",
       "      <td>FEMALE</td>\n",
       "      <td>8.20106</td>\n",
       "      <td>-26.16524</td>\n",
       "      <td>4850</td>\n",
       "    </tr>\n",
       "    <tr>\n",
       "      <th>4</th>\n",
       "      <td>4</td>\n",
       "      <td>Gentoo penguin (Pygoscelis papua)</td>\n",
       "      <td>Biscoe</td>\n",
       "      <td>No</td>\n",
       "      <td>49.6</td>\n",
       "      <td>16.0</td>\n",
       "      <td>225</td>\n",
       "      <td>MALE</td>\n",
       "      <td>8.38324</td>\n",
       "      <td>-26.84272</td>\n",
       "      <td>5700</td>\n",
       "    </tr>\n",
       "  </tbody>\n",
       "</table>\n",
       "</div>"
      ],
      "text/plain": [
       "   id                                    Species  Island Clutch Completion  \\\n",
       "0   0          Gentoo penguin (Pygoscelis papua)  Biscoe               Yes   \n",
       "1   1  Chinstrap penguin (Pygoscelis antarctica)   Dream                No   \n",
       "2   2          Gentoo penguin (Pygoscelis papua)  Biscoe               Yes   \n",
       "3   3          Gentoo penguin (Pygoscelis papua)  Biscoe               Yes   \n",
       "4   4          Gentoo penguin (Pygoscelis papua)  Biscoe                No   \n",
       "\n",
       "   Culmen Length (mm)  Culmen Depth (mm)  Flipper Length (mm)     Sex  \\\n",
       "0                50.0               15.3                  220    MALE   \n",
       "1                49.5               19.0                  200    MALE   \n",
       "2                45.1               14.4                  210  FEMALE   \n",
       "3                44.5               14.7                  214  FEMALE   \n",
       "4                49.6               16.0                  225    MALE   \n",
       "\n",
       "   Delta 15 N (o/oo)  Delta 13 C (o/oo)  Body Mass (g)  \n",
       "0            8.30515          -25.19017           5550  \n",
       "1            9.63074          -24.34684           3800  \n",
       "2            8.51951          -27.01854           4400  \n",
       "3            8.20106          -26.16524           4850  \n",
       "4            8.38324          -26.84272           5700  "
      ]
     },
     "execution_count": 5,
     "metadata": {},
     "output_type": "execute_result"
    }
   ],
   "source": [
    "train.head()"
   ]
  },
  {
   "cell_type": "code",
   "execution_count": 6,
   "metadata": {
    "executionInfo": {
     "elapsed": 15,
     "status": "ok",
     "timestamp": 1640858009327,
     "user": {
      "displayName": "알거없다",
      "photoUrl": "https://lh3.googleusercontent.com/a/default-user=s64",
      "userId": "12956811673456235187"
     },
     "user_tz": -540
    },
    "id": "6t0MBkEn-5lQ"
   },
   "outputs": [],
   "source": [
    "# 범주형 Species, Island, Clutch Completion, Sex  4 개\n",
    "# 수치형, ID, Culmen Length, Culmen Depth, Flipper Length, Delta 15N, Delta 13 C, Body Mass 7개\n",
    "# label은 Boddy Mass\n",
    "\n",
    "discrete_names = ['Species', 'Island', 'Clutch Completion', 'Sex']\n",
    "continuous_names = ['Culmen Length (mm)', 'Culmen Depth (mm)', 'Flipper Length (mm)', 'Delta 15 N (o/oo)', 'Delta 13 C (o/oo)']"
   ]
  },
  {
   "cell_type": "code",
   "execution_count": 7,
   "metadata": {
    "colab": {
     "base_uri": "https://localhost:8080/"
    },
    "executionInfo": {
     "elapsed": 16,
     "status": "ok",
     "timestamp": 1640858009328,
     "user": {
      "displayName": "알거없다",
      "photoUrl": "https://lh3.googleusercontent.com/a/default-user=s64",
      "userId": "12956811673456235187"
     },
     "user_tz": -540
    },
    "id": "aW_O-ELZCyGT",
    "outputId": "83938b4e-ff5d-40f4-f6a3-78f9cc56d83f"
   },
   "outputs": [
    {
     "data": {
      "text/plain": [
       "array(['Gentoo penguin (Pygoscelis papua)',\n",
       "       'Chinstrap penguin (Pygoscelis antarctica)',\n",
       "       'Adelie Penguin (Pygoscelis adeliae)'], dtype=object)"
      ]
     },
     "execution_count": 7,
     "metadata": {},
     "output_type": "execute_result"
    }
   ],
   "source": [
    "train.Species.unique()"
   ]
  },
  {
   "cell_type": "code",
   "execution_count": 8,
   "metadata": {
    "colab": {
     "base_uri": "https://localhost:8080/"
    },
    "executionInfo": {
     "elapsed": 14,
     "status": "ok",
     "timestamp": 1640858009328,
     "user": {
      "displayName": "알거없다",
      "photoUrl": "https://lh3.googleusercontent.com/a/default-user=s64",
      "userId": "12956811673456235187"
     },
     "user_tz": -540
    },
    "id": "rdTolcEdDJLb",
    "outputId": "61cf7d74-1703-4e37-b87a-6e2912d62480"
   },
   "outputs": [
    {
     "data": {
      "text/plain": [
       "array(['Biscoe', 'Dream', 'Torgersen'], dtype=object)"
      ]
     },
     "execution_count": 8,
     "metadata": {},
     "output_type": "execute_result"
    }
   ],
   "source": [
    "train.Island.unique()"
   ]
  },
  {
   "cell_type": "code",
   "execution_count": 9,
   "metadata": {
    "colab": {
     "base_uri": "https://localhost:8080/"
    },
    "executionInfo": {
     "elapsed": 14,
     "status": "ok",
     "timestamp": 1640858009329,
     "user": {
      "displayName": "알거없다",
      "photoUrl": "https://lh3.googleusercontent.com/a/default-user=s64",
      "userId": "12956811673456235187"
     },
     "user_tz": -540
    },
    "id": "22TMoyxNDSLf",
    "outputId": "7a0c0453-147a-40e0-b834-1ce4f2529876"
   },
   "outputs": [
    {
     "data": {
      "text/plain": [
       "array(['Yes', 'No'], dtype=object)"
      ]
     },
     "execution_count": 9,
     "metadata": {},
     "output_type": "execute_result"
    }
   ],
   "source": [
    "train['Clutch Completion'].unique()"
   ]
  },
  {
   "cell_type": "code",
   "execution_count": 10,
   "metadata": {
    "colab": {
     "base_uri": "https://localhost:8080/"
    },
    "executionInfo": {
     "elapsed": 12,
     "status": "ok",
     "timestamp": 1640858009329,
     "user": {
      "displayName": "알거없다",
      "photoUrl": "https://lh3.googleusercontent.com/a/default-user=s64",
      "userId": "12956811673456235187"
     },
     "user_tz": -540
    },
    "id": "EW3enDPTD_lV",
    "outputId": "36e381de-1a8c-48df-e340-e44f16712bf7"
   },
   "outputs": [
    {
     "data": {
      "text/plain": [
       "array(['MALE', 'FEMALE', nan], dtype=object)"
      ]
     },
     "execution_count": 10,
     "metadata": {},
     "output_type": "execute_result"
    }
   ],
   "source": [
    "train['Sex'].unique()"
   ]
  },
  {
   "cell_type": "code",
   "execution_count": 11,
   "metadata": {
    "colab": {
     "base_uri": "https://localhost:8080/"
    },
    "executionInfo": {
     "elapsed": 441,
     "status": "ok",
     "timestamp": 1640858009760,
     "user": {
      "displayName": "알거없다",
      "photoUrl": "https://lh3.googleusercontent.com/a/default-user=s64",
      "userId": "12956811673456235187"
     },
     "user_tz": -540
    },
    "id": "TSMtDZUhCfVz",
    "outputId": "348aaa47-e20f-4147-b250-60d494cfcd93"
   },
   "outputs": [
    {
     "name": "stdout",
     "output_type": "stream",
     "text": [
      "<class 'pandas.core.frame.DataFrame'>\n",
      "RangeIndex: 114 entries, 0 to 113\n",
      "Data columns (total 11 columns):\n",
      " #   Column               Non-Null Count  Dtype  \n",
      "---  ------               --------------  -----  \n",
      " 0   id                   114 non-null    int64  \n",
      " 1   Species              114 non-null    object \n",
      " 2   Island               114 non-null    object \n",
      " 3   Clutch Completion    114 non-null    object \n",
      " 4   Culmen Length (mm)   114 non-null    float64\n",
      " 5   Culmen Depth (mm)    114 non-null    float64\n",
      " 6   Flipper Length (mm)  114 non-null    int64  \n",
      " 7   Sex                  111 non-null    object \n",
      " 8   Delta 15 N (o/oo)    111 non-null    float64\n",
      " 9   Delta 13 C (o/oo)    111 non-null    float64\n",
      " 10  Body Mass (g)        114 non-null    int64  \n",
      "dtypes: float64(4), int64(3), object(4)\n",
      "memory usage: 9.9+ KB\n"
     ]
    }
   ],
   "source": [
    "train.info()"
   ]
  },
  {
   "cell_type": "code",
   "execution_count": 12,
   "metadata": {
    "colab": {
     "base_uri": "https://localhost:8080/",
     "height": 268
    },
    "executionInfo": {
     "elapsed": 20,
     "status": "ok",
     "timestamp": 1640858009761,
     "user": {
      "displayName": "알거없다",
      "photoUrl": "https://lh3.googleusercontent.com/a/default-user=s64",
      "userId": "12956811673456235187"
     },
     "user_tz": -540
    },
    "id": "CtN_VRLjCbM_",
    "outputId": "af40dfe8-c988-4b30-8964-c165c0a9bc1f"
   },
   "outputs": [
    {
     "data": {
      "text/html": [
       "<div>\n",
       "<style scoped>\n",
       "    .dataframe tbody tr th:only-of-type {\n",
       "        vertical-align: middle;\n",
       "    }\n",
       "\n",
       "    .dataframe tbody tr th {\n",
       "        vertical-align: top;\n",
       "    }\n",
       "\n",
       "    .dataframe thead th {\n",
       "        text-align: right;\n",
       "    }\n",
       "</style>\n",
       "<table border=\"1\" class=\"dataframe\">\n",
       "  <thead>\n",
       "    <tr style=\"text-align: right;\">\n",
       "      <th></th>\n",
       "      <th>count</th>\n",
       "      <th>mean</th>\n",
       "      <th>std</th>\n",
       "      <th>min</th>\n",
       "      <th>25%</th>\n",
       "      <th>50%</th>\n",
       "      <th>75%</th>\n",
       "      <th>max</th>\n",
       "    </tr>\n",
       "  </thead>\n",
       "  <tbody>\n",
       "    <tr>\n",
       "      <th>id</th>\n",
       "      <td>114.0</td>\n",
       "      <td>56.500000</td>\n",
       "      <td>33.052988</td>\n",
       "      <td>0.00000</td>\n",
       "      <td>28.250000</td>\n",
       "      <td>56.50000</td>\n",
       "      <td>84.750000</td>\n",
       "      <td>113.00000</td>\n",
       "    </tr>\n",
       "    <tr>\n",
       "      <th>Culmen Length (mm)</th>\n",
       "      <td>114.0</td>\n",
       "      <td>44.613158</td>\n",
       "      <td>5.321829</td>\n",
       "      <td>33.50000</td>\n",
       "      <td>40.325000</td>\n",
       "      <td>45.20000</td>\n",
       "      <td>49.075000</td>\n",
       "      <td>55.10000</td>\n",
       "    </tr>\n",
       "    <tr>\n",
       "      <th>Culmen Depth (mm)</th>\n",
       "      <td>114.0</td>\n",
       "      <td>17.014912</td>\n",
       "      <td>1.941363</td>\n",
       "      <td>13.20000</td>\n",
       "      <td>15.225000</td>\n",
       "      <td>17.25000</td>\n",
       "      <td>18.600000</td>\n",
       "      <td>21.10000</td>\n",
       "    </tr>\n",
       "    <tr>\n",
       "      <th>Flipper Length (mm)</th>\n",
       "      <td>114.0</td>\n",
       "      <td>203.052632</td>\n",
       "      <td>14.653425</td>\n",
       "      <td>174.00000</td>\n",
       "      <td>190.000000</td>\n",
       "      <td>199.00000</td>\n",
       "      <td>216.000000</td>\n",
       "      <td>231.00000</td>\n",
       "    </tr>\n",
       "    <tr>\n",
       "      <th>Delta 15 N (o/oo)</th>\n",
       "      <td>111.0</td>\n",
       "      <td>8.737634</td>\n",
       "      <td>0.567698</td>\n",
       "      <td>7.63220</td>\n",
       "      <td>8.272585</td>\n",
       "      <td>8.63259</td>\n",
       "      <td>9.264635</td>\n",
       "      <td>10.02544</td>\n",
       "    </tr>\n",
       "    <tr>\n",
       "      <th>Delta 13 C (o/oo)</th>\n",
       "      <td>111.0</td>\n",
       "      <td>-25.723051</td>\n",
       "      <td>0.859786</td>\n",
       "      <td>-27.01854</td>\n",
       "      <td>-26.434025</td>\n",
       "      <td>-25.95541</td>\n",
       "      <td>-25.005945</td>\n",
       "      <td>-24.10255</td>\n",
       "    </tr>\n",
       "    <tr>\n",
       "      <th>Body Mass (g)</th>\n",
       "      <td>114.0</td>\n",
       "      <td>4327.850877</td>\n",
       "      <td>781.766484</td>\n",
       "      <td>2700.00000</td>\n",
       "      <td>3675.000000</td>\n",
       "      <td>4250.00000</td>\n",
       "      <td>4850.000000</td>\n",
       "      <td>6300.00000</td>\n",
       "    </tr>\n",
       "  </tbody>\n",
       "</table>\n",
       "</div>"
      ],
      "text/plain": [
       "                     count         mean         std         min          25%  \\\n",
       "id                   114.0    56.500000   33.052988     0.00000    28.250000   \n",
       "Culmen Length (mm)   114.0    44.613158    5.321829    33.50000    40.325000   \n",
       "Culmen Depth (mm)    114.0    17.014912    1.941363    13.20000    15.225000   \n",
       "Flipper Length (mm)  114.0   203.052632   14.653425   174.00000   190.000000   \n",
       "Delta 15 N (o/oo)    111.0     8.737634    0.567698     7.63220     8.272585   \n",
       "Delta 13 C (o/oo)    111.0   -25.723051    0.859786   -27.01854   -26.434025   \n",
       "Body Mass (g)        114.0  4327.850877  781.766484  2700.00000  3675.000000   \n",
       "\n",
       "                            50%          75%         max  \n",
       "id                     56.50000    84.750000   113.00000  \n",
       "Culmen Length (mm)     45.20000    49.075000    55.10000  \n",
       "Culmen Depth (mm)      17.25000    18.600000    21.10000  \n",
       "Flipper Length (mm)   199.00000   216.000000   231.00000  \n",
       "Delta 15 N (o/oo)       8.63259     9.264635    10.02544  \n",
       "Delta 13 C (o/oo)     -25.95541   -25.005945   -24.10255  \n",
       "Body Mass (g)        4250.00000  4850.000000  6300.00000  "
      ]
     },
     "execution_count": 12,
     "metadata": {},
     "output_type": "execute_result"
    }
   ],
   "source": [
    "train.describe().T"
   ]
  },
  {
   "cell_type": "code",
   "execution_count": 13,
   "metadata": {
    "colab": {
     "base_uri": "https://localhost:8080/",
     "height": 302
    },
    "executionInfo": {
     "elapsed": 19,
     "status": "ok",
     "timestamp": 1640858009761,
     "user": {
      "displayName": "알거없다",
      "photoUrl": "https://lh3.googleusercontent.com/a/default-user=s64",
      "userId": "12956811673456235187"
     },
     "user_tz": -540
    },
    "id": "o0-2B_IQ09ge",
    "outputId": "d3768f7d-9a7b-4151-baa0-cf69955f4040"
   },
   "outputs": [
    {
     "data": {
      "text/html": [
       "<div>\n",
       "<style scoped>\n",
       "    .dataframe tbody tr th:only-of-type {\n",
       "        vertical-align: middle;\n",
       "    }\n",
       "\n",
       "    .dataframe tbody tr th {\n",
       "        vertical-align: top;\n",
       "    }\n",
       "\n",
       "    .dataframe thead th {\n",
       "        text-align: right;\n",
       "    }\n",
       "</style>\n",
       "<table border=\"1\" class=\"dataframe\">\n",
       "  <thead>\n",
       "    <tr style=\"text-align: right;\">\n",
       "      <th></th>\n",
       "      <th>id</th>\n",
       "      <th>Species</th>\n",
       "      <th>Island</th>\n",
       "      <th>Clutch Completion</th>\n",
       "      <th>Culmen Length (mm)</th>\n",
       "      <th>Culmen Depth (mm)</th>\n",
       "      <th>Flipper Length (mm)</th>\n",
       "      <th>Sex</th>\n",
       "      <th>Delta 15 N (o/oo)</th>\n",
       "      <th>Delta 13 C (o/oo)</th>\n",
       "    </tr>\n",
       "  </thead>\n",
       "  <tbody>\n",
       "    <tr>\n",
       "      <th>0</th>\n",
       "      <td>0</td>\n",
       "      <td>Chinstrap penguin (Pygoscelis antarctica)</td>\n",
       "      <td>Dream</td>\n",
       "      <td>Yes</td>\n",
       "      <td>52.0</td>\n",
       "      <td>20.7</td>\n",
       "      <td>210.0</td>\n",
       "      <td>MALE</td>\n",
       "      <td>9.43146</td>\n",
       "      <td>-24.68440</td>\n",
       "    </tr>\n",
       "    <tr>\n",
       "      <th>1</th>\n",
       "      <td>1</td>\n",
       "      <td>Gentoo penguin (Pygoscelis papua)</td>\n",
       "      <td>Biscoe</td>\n",
       "      <td>Yes</td>\n",
       "      <td>55.9</td>\n",
       "      <td>17.0</td>\n",
       "      <td>228.0</td>\n",
       "      <td>MALE</td>\n",
       "      <td>8.31180</td>\n",
       "      <td>-26.35425</td>\n",
       "    </tr>\n",
       "    <tr>\n",
       "      <th>2</th>\n",
       "      <td>2</td>\n",
       "      <td>Adelie Penguin (Pygoscelis adeliae)</td>\n",
       "      <td>Dream</td>\n",
       "      <td>Yes</td>\n",
       "      <td>38.9</td>\n",
       "      <td>18.8</td>\n",
       "      <td>190.0</td>\n",
       "      <td>FEMALE</td>\n",
       "      <td>8.36936</td>\n",
       "      <td>-26.11199</td>\n",
       "    </tr>\n",
       "    <tr>\n",
       "      <th>3</th>\n",
       "      <td>3</td>\n",
       "      <td>Chinstrap penguin (Pygoscelis antarctica)</td>\n",
       "      <td>Dream</td>\n",
       "      <td>Yes</td>\n",
       "      <td>45.2</td>\n",
       "      <td>16.6</td>\n",
       "      <td>191.0</td>\n",
       "      <td>FEMALE</td>\n",
       "      <td>9.62357</td>\n",
       "      <td>-24.78984</td>\n",
       "    </tr>\n",
       "    <tr>\n",
       "      <th>4</th>\n",
       "      <td>4</td>\n",
       "      <td>Adelie Penguin (Pygoscelis adeliae)</td>\n",
       "      <td>Biscoe</td>\n",
       "      <td>No</td>\n",
       "      <td>37.9</td>\n",
       "      <td>18.6</td>\n",
       "      <td>172.0</td>\n",
       "      <td>FEMALE</td>\n",
       "      <td>8.38404</td>\n",
       "      <td>-25.19837</td>\n",
       "    </tr>\n",
       "  </tbody>\n",
       "</table>\n",
       "</div>"
      ],
      "text/plain": [
       "   id                                    Species  Island Clutch Completion  \\\n",
       "0   0  Chinstrap penguin (Pygoscelis antarctica)   Dream               Yes   \n",
       "1   1          Gentoo penguin (Pygoscelis papua)  Biscoe               Yes   \n",
       "2   2        Adelie Penguin (Pygoscelis adeliae)   Dream               Yes   \n",
       "3   3  Chinstrap penguin (Pygoscelis antarctica)   Dream               Yes   \n",
       "4   4        Adelie Penguin (Pygoscelis adeliae)  Biscoe                No   \n",
       "\n",
       "   Culmen Length (mm)  Culmen Depth (mm)  Flipper Length (mm)     Sex  \\\n",
       "0                52.0               20.7                210.0    MALE   \n",
       "1                55.9               17.0                228.0    MALE   \n",
       "2                38.9               18.8                190.0  FEMALE   \n",
       "3                45.2               16.6                191.0  FEMALE   \n",
       "4                37.9               18.6                172.0  FEMALE   \n",
       "\n",
       "   Delta 15 N (o/oo)  Delta 13 C (o/oo)  \n",
       "0            9.43146          -24.68440  \n",
       "1            8.31180          -26.35425  \n",
       "2            8.36936          -26.11199  \n",
       "3            9.62357          -24.78984  \n",
       "4            8.38404          -25.19837  "
      ]
     },
     "execution_count": 13,
     "metadata": {},
     "output_type": "execute_result"
    }
   ],
   "source": [
    "test.head()"
   ]
  },
  {
   "cell_type": "code",
   "execution_count": 14,
   "metadata": {
    "colab": {
     "base_uri": "https://localhost:8080/"
    },
    "executionInfo": {
     "elapsed": 19,
     "status": "ok",
     "timestamp": 1640858009762,
     "user": {
      "displayName": "알거없다",
      "photoUrl": "https://lh3.googleusercontent.com/a/default-user=s64",
      "userId": "12956811673456235187"
     },
     "user_tz": -540
    },
    "id": "Qvi7Y9Hz10yk",
    "outputId": "168add65-96d2-4954-e61a-62ffcd609bdf"
   },
   "outputs": [
    {
     "data": {
      "text/plain": [
       "(228, 10)"
      ]
     },
     "execution_count": 14,
     "metadata": {},
     "output_type": "execute_result"
    }
   ],
   "source": [
    "test.shape"
   ]
  },
  {
   "cell_type": "code",
   "execution_count": 15,
   "metadata": {
    "colab": {
     "base_uri": "https://localhost:8080/",
     "height": 206
    },
    "executionInfo": {
     "elapsed": 17,
     "status": "ok",
     "timestamp": 1640858009762,
     "user": {
      "displayName": "알거없다",
      "photoUrl": "https://lh3.googleusercontent.com/a/default-user=s64",
      "userId": "12956811673456235187"
     },
     "user_tz": -540
    },
    "id": "J66JZfur11XI",
    "outputId": "1a18f539-c3a1-4bb6-970f-c1efb184d2c2"
   },
   "outputs": [
    {
     "data": {
      "text/html": [
       "<div>\n",
       "<style scoped>\n",
       "    .dataframe tbody tr th:only-of-type {\n",
       "        vertical-align: middle;\n",
       "    }\n",
       "\n",
       "    .dataframe tbody tr th {\n",
       "        vertical-align: top;\n",
       "    }\n",
       "\n",
       "    .dataframe thead th {\n",
       "        text-align: right;\n",
       "    }\n",
       "</style>\n",
       "<table border=\"1\" class=\"dataframe\">\n",
       "  <thead>\n",
       "    <tr style=\"text-align: right;\">\n",
       "      <th></th>\n",
       "      <th>id</th>\n",
       "      <th>Body Mass (g)</th>\n",
       "    </tr>\n",
       "  </thead>\n",
       "  <tbody>\n",
       "    <tr>\n",
       "      <th>0</th>\n",
       "      <td>0</td>\n",
       "      <td>0</td>\n",
       "    </tr>\n",
       "    <tr>\n",
       "      <th>1</th>\n",
       "      <td>1</td>\n",
       "      <td>0</td>\n",
       "    </tr>\n",
       "    <tr>\n",
       "      <th>2</th>\n",
       "      <td>2</td>\n",
       "      <td>0</td>\n",
       "    </tr>\n",
       "    <tr>\n",
       "      <th>3</th>\n",
       "      <td>3</td>\n",
       "      <td>0</td>\n",
       "    </tr>\n",
       "    <tr>\n",
       "      <th>4</th>\n",
       "      <td>4</td>\n",
       "      <td>0</td>\n",
       "    </tr>\n",
       "  </tbody>\n",
       "</table>\n",
       "</div>"
      ],
      "text/plain": [
       "   id  Body Mass (g)\n",
       "0   0              0\n",
       "1   1              0\n",
       "2   2              0\n",
       "3   3              0\n",
       "4   4              0"
      ]
     },
     "execution_count": 15,
     "metadata": {},
     "output_type": "execute_result"
    }
   ],
   "source": [
    "submission.head()"
   ]
  },
  {
   "cell_type": "code",
   "execution_count": 16,
   "metadata": {
    "colab": {
     "base_uri": "https://localhost:8080/"
    },
    "executionInfo": {
     "elapsed": 17,
     "status": "ok",
     "timestamp": 1640858009763,
     "user": {
      "displayName": "알거없다",
      "photoUrl": "https://lh3.googleusercontent.com/a/default-user=s64",
      "userId": "12956811673456235187"
     },
     "user_tz": -540
    },
    "id": "RlfQN8px12tn",
    "outputId": "d04ae850-1117-420d-a70e-2df83d449cd8"
   },
   "outputs": [
    {
     "data": {
      "text/plain": [
       "(228, 2)"
      ]
     },
     "execution_count": 16,
     "metadata": {},
     "output_type": "execute_result"
    }
   ],
   "source": [
    "submission.shape"
   ]
  },
  {
   "cell_type": "code",
   "execution_count": 17,
   "metadata": {
    "colab": {
     "base_uri": "https://localhost:8080/"
    },
    "executionInfo": {
     "elapsed": 15,
     "status": "ok",
     "timestamp": 1640858009763,
     "user": {
      "displayName": "알거없다",
      "photoUrl": "https://lh3.googleusercontent.com/a/default-user=s64",
      "userId": "12956811673456235187"
     },
     "user_tz": -540
    },
    "id": "eS1PtOBD09d_",
    "outputId": "5a6ab12e-18f5-4d73-c960-2706bc3330a2"
   },
   "outputs": [
    {
     "data": {
      "text/plain": [
       "Index(['id', 'Species', 'Island', 'Clutch Completion', 'Culmen Length (mm)',\n",
       "       'Culmen Depth (mm)', 'Flipper Length (mm)', 'Sex', 'Delta 15 N (o/oo)',\n",
       "       'Delta 13 C (o/oo)', 'Body Mass (g)'],\n",
       "      dtype='object')"
      ]
     },
     "execution_count": 17,
     "metadata": {},
     "output_type": "execute_result"
    }
   ],
   "source": [
    "train.columns"
   ]
  },
  {
   "cell_type": "code",
   "execution_count": 18,
   "metadata": {
    "colab": {
     "base_uri": "https://localhost:8080/"
    },
    "executionInfo": {
     "elapsed": 15,
     "status": "ok",
     "timestamp": 1640858009764,
     "user": {
      "displayName": "알거없다",
      "photoUrl": "https://lh3.googleusercontent.com/a/default-user=s64",
      "userId": "12956811673456235187"
     },
     "user_tz": -540
    },
    "id": "KQsdUStd09cP",
    "outputId": "40c2c246-68c8-41dc-9f59-34bcd27c1171"
   },
   "outputs": [
    {
     "data": {
      "text/plain": [
       "Index(['id', 'Species', 'Island', 'Clutch Completion', 'Culmen Length (mm)',\n",
       "       'Culmen Depth (mm)', 'Flipper Length (mm)', 'Sex', 'Delta 15 N (o/oo)',\n",
       "       'Delta 13 C (o/oo)'],\n",
       "      dtype='object')"
      ]
     },
     "execution_count": 18,
     "metadata": {},
     "output_type": "execute_result"
    }
   ],
   "source": [
    "test.columns"
   ]
  },
  {
   "cell_type": "code",
   "execution_count": 19,
   "metadata": {
    "colab": {
     "base_uri": "https://localhost:8080/"
    },
    "executionInfo": {
     "elapsed": 12,
     "status": "ok",
     "timestamp": 1640858009764,
     "user": {
      "displayName": "알거없다",
      "photoUrl": "https://lh3.googleusercontent.com/a/default-user=s64",
      "userId": "12956811673456235187"
     },
     "user_tz": -540
    },
    "id": "om4B03nSOHDx",
    "outputId": "d05ffa79-7010-4e04-c754-645888787c4c"
   },
   "outputs": [
    {
     "name": "stdout",
     "output_type": "stream",
     "text": [
      "<class 'pandas.core.frame.DataFrame'>\n",
      "RangeIndex: 228 entries, 0 to 227\n",
      "Data columns (total 10 columns):\n",
      " #   Column               Non-Null Count  Dtype  \n",
      "---  ------               --------------  -----  \n",
      " 0   id                   228 non-null    int64  \n",
      " 1   Species              228 non-null    object \n",
      " 2   Island               228 non-null    object \n",
      " 3   Clutch Completion    228 non-null    object \n",
      " 4   Culmen Length (mm)   228 non-null    float64\n",
      " 5   Culmen Depth (mm)    228 non-null    float64\n",
      " 6   Flipper Length (mm)  228 non-null    float64\n",
      " 7   Sex                  222 non-null    object \n",
      " 8   Delta 15 N (o/oo)    219 non-null    float64\n",
      " 9   Delta 13 C (o/oo)    220 non-null    float64\n",
      "dtypes: float64(5), int64(1), object(4)\n",
      "memory usage: 17.9+ KB\n"
     ]
    }
   ],
   "source": [
    "test.info()"
   ]
  },
  {
   "cell_type": "code",
   "execution_count": 20,
   "metadata": {
    "colab": {
     "base_uri": "https://localhost:8080/"
    },
    "executionInfo": {
     "elapsed": 11,
     "status": "ok",
     "timestamp": 1640858009765,
     "user": {
      "displayName": "알거없다",
      "photoUrl": "https://lh3.googleusercontent.com/a/default-user=s64",
      "userId": "12956811673456235187"
     },
     "user_tz": -540
    },
    "id": "xcSGLUHULC0R",
    "outputId": "375e07bc-edc7-4405-c1e5-d4c395a1dc0d"
   },
   "outputs": [
    {
     "name": "stdout",
     "output_type": "stream",
     "text": [
      "결측치가 있는 컬럼은: Sex입니다\n",
      "총 3개의 결측치가 존재합니다.\n",
      "\n",
      "결측치가 있는 컬럼은: Delta 15 N (o/oo)입니다\n",
      "총 3개의 결측치가 존재합니다.\n",
      "\n",
      "결측치가 있는 컬럼은: Delta 13 C (o/oo)입니다\n",
      "총 3개의 결측치가 존재합니다.\n",
      "\n",
      "결측치가 있는 컬럼 의 개수는 3 입니다\n",
      "------------------------------\n",
      "결측치가 있는 컬럼은: Sex입니다\n",
      "총 6개의 결측치가 존재합니다.\n",
      "\n",
      "결측치가 있는 컬럼은: Delta 15 N (o/oo)입니다\n",
      "총 9개의 결측치가 존재합니다.\n",
      "\n",
      "결측치가 있는 컬럼은: Delta 13 C (o/oo)입니다\n",
      "총 8개의 결측치가 존재합니다.\n",
      "\n",
      "결측치가 있는 컬럼 의 개수는 3 입니다\n"
     ]
    }
   ],
   "source": [
    "#결측치 있는지 확인하는 함수\n",
    "\n",
    "def check_missing_col(dataframe):\n",
    "    \n",
    "    counted_missing_col = 0\n",
    "    for i, col in enumerate(dataframe.columns):\n",
    "        missing_values = sum(dataframe[col].isna())\n",
    "        is_missing = True if missing_values >= 1 else False\n",
    "        if is_missing:\n",
    "            counted_missing_col += 1\n",
    "            print(f'결측치가 있는 컬럼은: {col}입니다')\n",
    "            print(f'총 {missing_values}개의 결측치가 존재합니다.\\n')\n",
    "    print(f'결측치가 있는 컬럼 의 개수는 {counted_missing_col} 입니다')\n",
    "\n",
    "    if counted_missing_col == 0:\n",
    "        print('결측치가 존재하지 않습니다')\n",
    "\n",
    "check_missing_col(train)\n",
    "\n",
    "print(\"-\" * 30)\n",
    "\n",
    "check_missing_col(test)"
   ]
  },
  {
   "cell_type": "code",
   "execution_count": 21,
   "metadata": {
    "executionInfo": {
     "elapsed": 10,
     "status": "ok",
     "timestamp": 1640858009765,
     "user": {
      "displayName": "알거없다",
      "photoUrl": "https://lh3.googleusercontent.com/a/default-user=s64",
      "userId": "12956811673456235187"
     },
     "user_tz": -540
    },
    "id": "NIM879RgSEyV"
   },
   "outputs": [],
   "source": [
    "train_input = train.copy()\n",
    "test_input = test.copy()\n",
    "\n",
    "# Gentoo penguin (Pygoscelis papua)\n",
    "# Adelie Penguin (Pygoscelis adeliae)\n",
    "# Chinstrap penguin (Pygoscelis antarctica)\n",
    "\n",
    "Species_dic = {\n",
    "    \"Gentoo penguin (Pygoscelis papua)\" : \"Gentoo\",\n",
    "    \"Adelie Penguin (Pygoscelis adeliae)\" : \"Adelie\",\n",
    "    \"Chinstrap penguin (Pygoscelis antarctica)\" : \"Chinstrap\"\n",
    "    }\n",
    "\n",
    "train_input[\"Species\"] = train_input[\"Species\"].map(Species_dic)\n",
    "test_input[\"Species\"] = test_input[\"Species\"].map(Species_dic)"
   ]
  },
  {
   "cell_type": "code",
   "execution_count": 22,
   "metadata": {
    "colab": {
     "base_uri": "https://localhost:8080/",
     "height": 409
    },
    "executionInfo": {
     "elapsed": 404,
     "status": "ok",
     "timestamp": 1640858010159,
     "user": {
      "displayName": "알거없다",
      "photoUrl": "https://lh3.googleusercontent.com/a/default-user=s64",
      "userId": "12956811673456235187"
     },
     "user_tz": -540
    },
    "id": "4raFMIW-MzG9",
    "outputId": "87a68147-914f-441e-a028-4baee37a0867"
   },
   "outputs": [
    {
     "data": {
      "image/png": "[encoded data removed]",
      "text/plain": [
       "<Figure size 720x360 with 1 Axes>"
      ]
     },
     "metadata": {
      "needs_background": "dark"
     },
     "output_type": "display_data"
    },
    {
     "data": {
      "text/plain": [
       "Gentoo       48\n",
       "Adelie       41\n",
       "Chinstrap    25\n",
       "Name: Species, dtype: int64"
      ]
     },
     "execution_count": 22,
     "metadata": {},
     "output_type": "execute_result"
    }
   ],
   "source": [
    "plt.figure(figsize = (10,5))\n",
    "ax = sns.histplot(train_input[\"Species\"])\n",
    "plt.show()\n",
    "\n",
    "train_input[\"Species\"].value_counts()"
   ]
  },
  {
   "cell_type": "code",
   "execution_count": 23,
   "metadata": {
    "colab": {
     "base_uri": "https://localhost:8080/",
     "height": 407
    },
    "executionInfo": {
     "elapsed": 310,
     "status": "ok",
     "timestamp": 1640858010464,
     "user": {
      "displayName": "알거없다",
      "photoUrl": "https://lh3.googleusercontent.com/a/default-user=s64",
      "userId": "12956811673456235187"
     },
     "user_tz": -540
    },
    "id": "h-byXxRSVuli",
    "outputId": "9e3baa5b-1d2f-488d-c311-a4dd941572b6"
   },
   "outputs": [
    {
     "data": {
      "image/png": "[encoded data removed]",
      "text/plain": [
       "<Figure size 720x360 with 1 Axes>"
      ]
     },
     "metadata": {
      "needs_background": "dark"
     },
     "output_type": "display_data"
    },
    {
     "data": {
      "text/plain": [
       "Biscoe       57\n",
       "Dream        44\n",
       "Torgersen    13\n",
       "Name: Island, dtype: int64"
      ]
     },
     "execution_count": 23,
     "metadata": {},
     "output_type": "execute_result"
    }
   ],
   "source": [
    "plt.figure(figsize = (10,5))\n",
    "ax = sns.histplot(train_input[\"Island\"])\n",
    "plt.show()\n",
    "\n",
    "train_input[\"Island\"].value_counts()"
   ]
  },
  {
   "cell_type": "code",
   "execution_count": 42,
   "metadata": {
    "colab": {
     "base_uri": "https://localhost:8080/",
     "height": 388
    },
    "executionInfo": {
     "elapsed": 6,
     "status": "ok",
     "timestamp": 1640858010465,
     "user": {
      "displayName": "알거없다",
      "photoUrl": "https://lh3.googleusercontent.com/a/default-user=s64",
      "userId": "12956811673456235187"
     },
     "user_tz": -540
    },
    "id": "Y8AgrdIPVuj4",
    "outputId": "2610206b-9441-405e-c70a-8bbb574a7b96"
   },
   "outputs": [
    {
     "data": {
      "image/png": "[encoded data removed]",
      "text/plain": [
       "<Figure size 720x360 with 1 Axes>"
      ]
     },
     "metadata": {},
     "output_type": "display_data"
    },
    {
     "data": {
      "text/plain": [
       "1    102\n",
       "0     12\n",
       "Name: Clutch Completion, dtype: int64"
      ]
     },
     "execution_count": 42,
     "metadata": {},
     "output_type": "execute_result"
    }
   ],
   "source": [
    "plt.figure(figsize = (10,5))\n",
    "ax = sns.histplot(train_input[\"Clutch Completion\"])\n",
    "plt.show()\n",
    "\n",
    "train_input[\"Clutch Completion\"].value_counts()"
   ]
  },
  {
   "cell_type": "code",
   "execution_count": 50,
   "metadata": {},
   "outputs": [
    {
     "ename": "ConversionError",
     "evalue": "Failed to convert value(s) to axis units: 0        MALE\n1        MALE\n2      FEMALE\n3      FEMALE\n4        MALE\n        ...  \n109    FEMALE\n110      MALE\n111      MALE\n112    FEMALE\n113      MALE\nName: x, Length: 114, dtype: object",
     "output_type": "error",
     "traceback": [
      "\u001b[1;31m---------------------------------------------------------------------------\u001b[0m",
      "\u001b[1;31mTypeError\u001b[0m                                 Traceback (most recent call last)",
      "\u001b[1;32m~\\anaconda3\\lib\\site-packages\\matplotlib\\axis.py\u001b[0m in \u001b[0;36mconvert_units\u001b[1;34m(self, x)\u001b[0m\n\u001b[0;32m   1522\u001b[0m         \u001b[1;32mtry\u001b[0m\u001b[1;33m:\u001b[0m\u001b[1;33m\u001b[0m\u001b[1;33m\u001b[0m\u001b[0m\n\u001b[1;32m-> 1523\u001b[1;33m             \u001b[0mret\u001b[0m \u001b[1;33m=\u001b[0m \u001b[0mself\u001b[0m\u001b[1;33m.\u001b[0m\u001b[0mconverter\u001b[0m\u001b[1;33m.\u001b[0m\u001b[0mconvert\u001b[0m\u001b[1;33m(\u001b[0m\u001b[0mx\u001b[0m\u001b[1;33m,\u001b[0m \u001b[0mself\u001b[0m\u001b[1;33m.\u001b[0m\u001b[0munits\u001b[0m\u001b[1;33m,\u001b[0m \u001b[0mself\u001b[0m\u001b[1;33m)\u001b[0m\u001b[1;33m\u001b[0m\u001b[1;33m\u001b[0m\u001b[0m\n\u001b[0m\u001b[0;32m   1524\u001b[0m         \u001b[1;32mexcept\u001b[0m \u001b[0mException\u001b[0m \u001b[1;32mas\u001b[0m \u001b[0me\u001b[0m\u001b[1;33m:\u001b[0m\u001b[1;33m\u001b[0m\u001b[1;33m\u001b[0m\u001b[0m\n",
      "\u001b[1;32m~\\anaconda3\\lib\\site-packages\\matplotlib\\category.py\u001b[0m in \u001b[0;36mconvert\u001b[1;34m(value, unit, axis)\u001b[0m\n\u001b[0;32m     60\u001b[0m         \u001b[1;31m# force an update so it also does type checking\u001b[0m\u001b[1;33m\u001b[0m\u001b[1;33m\u001b[0m\u001b[1;33m\u001b[0m\u001b[0m\n\u001b[1;32m---> 61\u001b[1;33m         \u001b[0munit\u001b[0m\u001b[1;33m.\u001b[0m\u001b[0mupdate\u001b[0m\u001b[1;33m(\u001b[0m\u001b[0mvalues\u001b[0m\u001b[1;33m)\u001b[0m\u001b[1;33m\u001b[0m\u001b[1;33m\u001b[0m\u001b[0m\n\u001b[0m\u001b[0;32m     62\u001b[0m         \u001b[1;32mreturn\u001b[0m \u001b[0mnp\u001b[0m\u001b[1;33m.\u001b[0m\u001b[0mvectorize\u001b[0m\u001b[1;33m(\u001b[0m\u001b[0munit\u001b[0m\u001b[1;33m.\u001b[0m\u001b[0m_mapping\u001b[0m\u001b[1;33m.\u001b[0m\u001b[0m__getitem__\u001b[0m\u001b[1;33m,\u001b[0m \u001b[0motypes\u001b[0m\u001b[1;33m=\u001b[0m\u001b[1;33m[\u001b[0m\u001b[0mfloat\u001b[0m\u001b[1;33m]\u001b[0m\u001b[1;33m)\u001b[0m\u001b[1;33m(\u001b[0m\u001b[0mvalues\u001b[0m\u001b[1;33m)\u001b[0m\u001b[1;33m\u001b[0m\u001b[1;33m\u001b[0m\u001b[0m\n",
      "\u001b[1;32m~\\anaconda3\\lib\\site-packages\\matplotlib\\category.py\u001b[0m in \u001b[0;36mupdate\u001b[1;34m(self, data)\u001b[0m\n\u001b[0;32m    210\u001b[0m             \u001b[1;31m# OrderedDict just iterates over unique values in data.\u001b[0m\u001b[1;33m\u001b[0m\u001b[1;33m\u001b[0m\u001b[1;33m\u001b[0m\u001b[0m\n\u001b[1;32m--> 211\u001b[1;33m             \u001b[0mcbook\u001b[0m\u001b[1;33m.\u001b[0m\u001b[0m_check_isinstance\u001b[0m\u001b[1;33m(\u001b[0m\u001b[1;33m(\u001b[0m\u001b[0mstr\u001b[0m\u001b[1;33m,\u001b[0m \u001b[0mbytes\u001b[0m\u001b[1;33m)\u001b[0m\u001b[1;33m,\u001b[0m \u001b[0mvalue\u001b[0m\u001b[1;33m=\u001b[0m\u001b[0mval\u001b[0m\u001b[1;33m)\u001b[0m\u001b[1;33m\u001b[0m\u001b[1;33m\u001b[0m\u001b[0m\n\u001b[0m\u001b[0;32m    212\u001b[0m             \u001b[1;32mif\u001b[0m \u001b[0mconvertible\u001b[0m\u001b[1;33m:\u001b[0m\u001b[1;33m\u001b[0m\u001b[1;33m\u001b[0m\u001b[0m\n",
      "\u001b[1;32m~\\anaconda3\\lib\\site-packages\\matplotlib\\cbook\\__init__.py\u001b[0m in \u001b[0;36m_check_isinstance\u001b[1;34m(_types, **kwargs)\u001b[0m\n\u001b[0;32m   2245\u001b[0m         \u001b[1;32mif\u001b[0m \u001b[1;32mnot\u001b[0m \u001b[0misinstance\u001b[0m\u001b[1;33m(\u001b[0m\u001b[0mv\u001b[0m\u001b[1;33m,\u001b[0m \u001b[0mtypes\u001b[0m\u001b[1;33m)\u001b[0m\u001b[1;33m:\u001b[0m\u001b[1;33m\u001b[0m\u001b[1;33m\u001b[0m\u001b[0m\n\u001b[1;32m-> 2246\u001b[1;33m             raise TypeError(\n\u001b[0m\u001b[0;32m   2247\u001b[0m                 \"{!r} must be an instance of {}, not a {}\".format(\n",
      "\u001b[1;31mTypeError\u001b[0m: 'value' must be an instance of str or bytes, not a float",
      "\nThe above exception was the direct cause of the following exception:\n",
      "\u001b[1;31mConversionError\u001b[0m                           Traceback (most recent call last)",
      "\u001b[1;32m<ipython-input-50-a5dbe589435d>\u001b[0m in \u001b[0;36m<module>\u001b[1;34m\u001b[0m\n\u001b[1;32m----> 1\u001b[1;33m \u001b[0msns\u001b[0m\u001b[1;33m.\u001b[0m\u001b[0mhistplot\u001b[0m\u001b[1;33m(\u001b[0m\u001b[0mtrain\u001b[0m\u001b[1;33m[\u001b[0m\u001b[1;34m\"Sex\"\u001b[0m\u001b[1;33m]\u001b[0m\u001b[1;33m)\u001b[0m\u001b[1;33m\u001b[0m\u001b[1;33m\u001b[0m\u001b[0m\n\u001b[0m",
      "\u001b[1;32m~\\anaconda3\\lib\\site-packages\\seaborn\\distributions.py\u001b[0m in \u001b[0;36mhistplot\u001b[1;34m(data, x, y, hue, weights, stat, bins, binwidth, binrange, discrete, cumulative, common_bins, common_norm, multiple, element, fill, shrink, kde, kde_kws, line_kws, thresh, pthresh, pmax, cbar, cbar_ax, cbar_kws, palette, hue_order, hue_norm, color, log_scale, legend, ax, **kwargs)\u001b[0m\n\u001b[0;32m   1421\u001b[0m     \u001b[1;32mif\u001b[0m \u001b[0mp\u001b[0m\u001b[1;33m.\u001b[0m\u001b[0munivariate\u001b[0m\u001b[1;33m:\u001b[0m\u001b[1;33m\u001b[0m\u001b[1;33m\u001b[0m\u001b[0m\n\u001b[0;32m   1422\u001b[0m \u001b[1;33m\u001b[0m\u001b[0m\n\u001b[1;32m-> 1423\u001b[1;33m         p.plot_univariate_histogram(\n\u001b[0m\u001b[0;32m   1424\u001b[0m             \u001b[0mmultiple\u001b[0m\u001b[1;33m=\u001b[0m\u001b[0mmultiple\u001b[0m\u001b[1;33m,\u001b[0m\u001b[1;33m\u001b[0m\u001b[1;33m\u001b[0m\u001b[0m\n\u001b[0;32m   1425\u001b[0m             \u001b[0melement\u001b[0m\u001b[1;33m=\u001b[0m\u001b[0melement\u001b[0m\u001b[1;33m,\u001b[0m\u001b[1;33m\u001b[0m\u001b[1;33m\u001b[0m\u001b[0m\n",
      "\u001b[1;32m~\\anaconda3\\lib\\site-packages\\seaborn\\distributions.py\u001b[0m in \u001b[0;36mplot_univariate_histogram\u001b[1;34m(self, multiple, element, fill, common_norm, common_bins, shrink, kde, kde_kws, color, legend, line_kws, estimate_kws, **plot_kws)\u001b[0m\n\u001b[0;32m    422\u001b[0m \u001b[1;33m\u001b[0m\u001b[0m\n\u001b[0;32m    423\u001b[0m         \u001b[1;31m# First pass through the data to compute the histograms\u001b[0m\u001b[1;33m\u001b[0m\u001b[1;33m\u001b[0m\u001b[1;33m\u001b[0m\u001b[0m\n\u001b[1;32m--> 424\u001b[1;33m         \u001b[1;32mfor\u001b[0m \u001b[0msub_vars\u001b[0m\u001b[1;33m,\u001b[0m \u001b[0msub_data\u001b[0m \u001b[1;32min\u001b[0m \u001b[0mself\u001b[0m\u001b[1;33m.\u001b[0m\u001b[0miter_data\u001b[0m\u001b[1;33m(\u001b[0m\u001b[1;34m\"hue\"\u001b[0m\u001b[1;33m,\u001b[0m \u001b[0mfrom_comp_data\u001b[0m\u001b[1;33m=\u001b[0m\u001b[1;32mTrue\u001b[0m\u001b[1;33m)\u001b[0m\u001b[1;33m:\u001b[0m\u001b[1;33m\u001b[0m\u001b[1;33m\u001b[0m\u001b[0m\n\u001b[0m\u001b[0;32m    425\u001b[0m \u001b[1;33m\u001b[0m\u001b[0m\n\u001b[0;32m    426\u001b[0m             \u001b[1;31m# Prepare the relevant data\u001b[0m\u001b[1;33m\u001b[0m\u001b[1;33m\u001b[0m\u001b[1;33m\u001b[0m\u001b[0m\n",
      "\u001b[1;32m~\\anaconda3\\lib\\site-packages\\seaborn\\_core.py\u001b[0m in \u001b[0;36miter_data\u001b[1;34m(self, grouping_vars, reverse, from_comp_data)\u001b[0m\n\u001b[0;32m    980\u001b[0m \u001b[1;33m\u001b[0m\u001b[0m\n\u001b[0;32m    981\u001b[0m         \u001b[1;32mif\u001b[0m \u001b[0mfrom_comp_data\u001b[0m\u001b[1;33m:\u001b[0m\u001b[1;33m\u001b[0m\u001b[1;33m\u001b[0m\u001b[0m\n\u001b[1;32m--> 982\u001b[1;33m             \u001b[0mdata\u001b[0m \u001b[1;33m=\u001b[0m \u001b[0mself\u001b[0m\u001b[1;33m.\u001b[0m\u001b[0mcomp_data\u001b[0m\u001b[1;33m\u001b[0m\u001b[1;33m\u001b[0m\u001b[0m\n\u001b[0m\u001b[0;32m    983\u001b[0m         \u001b[1;32melse\u001b[0m\u001b[1;33m:\u001b[0m\u001b[1;33m\u001b[0m\u001b[1;33m\u001b[0m\u001b[0m\n\u001b[0;32m    984\u001b[0m             \u001b[0mdata\u001b[0m \u001b[1;33m=\u001b[0m \u001b[0mself\u001b[0m\u001b[1;33m.\u001b[0m\u001b[0mplot_data\u001b[0m\u001b[1;33m\u001b[0m\u001b[1;33m\u001b[0m\u001b[0m\n",
      "\u001b[1;32m~\\anaconda3\\lib\\site-packages\\seaborn\\_core.py\u001b[0m in \u001b[0;36mcomp_data\u001b[1;34m(self)\u001b[0m\n\u001b[0;32m   1049\u001b[0m                 \u001b[0maxis\u001b[0m \u001b[1;33m=\u001b[0m \u001b[0mgetattr\u001b[0m\u001b[1;33m(\u001b[0m\u001b[0max\u001b[0m\u001b[1;33m,\u001b[0m \u001b[1;34mf\"{var}axis\"\u001b[0m\u001b[1;33m)\u001b[0m\u001b[1;33m\u001b[0m\u001b[1;33m\u001b[0m\u001b[0m\n\u001b[0;32m   1050\u001b[0m \u001b[1;33m\u001b[0m\u001b[0m\n\u001b[1;32m-> 1051\u001b[1;33m                 \u001b[0mcomp_var\u001b[0m \u001b[1;33m=\u001b[0m \u001b[0maxis\u001b[0m\u001b[1;33m.\u001b[0m\u001b[0mconvert_units\u001b[0m\u001b[1;33m(\u001b[0m\u001b[0mself\u001b[0m\u001b[1;33m.\u001b[0m\u001b[0mplot_data\u001b[0m\u001b[1;33m[\u001b[0m\u001b[0mvar\u001b[0m\u001b[1;33m]\u001b[0m\u001b[1;33m)\u001b[0m\u001b[1;33m\u001b[0m\u001b[1;33m\u001b[0m\u001b[0m\n\u001b[0m\u001b[0;32m   1052\u001b[0m                 \u001b[1;32mif\u001b[0m \u001b[0maxis\u001b[0m\u001b[1;33m.\u001b[0m\u001b[0mget_scale\u001b[0m\u001b[1;33m(\u001b[0m\u001b[1;33m)\u001b[0m \u001b[1;33m==\u001b[0m \u001b[1;34m\"log\"\u001b[0m\u001b[1;33m:\u001b[0m\u001b[1;33m\u001b[0m\u001b[1;33m\u001b[0m\u001b[0m\n\u001b[0;32m   1053\u001b[0m                     \u001b[0mcomp_var\u001b[0m \u001b[1;33m=\u001b[0m \u001b[0mnp\u001b[0m\u001b[1;33m.\u001b[0m\u001b[0mlog10\u001b[0m\u001b[1;33m(\u001b[0m\u001b[0mcomp_var\u001b[0m\u001b[1;33m)\u001b[0m\u001b[1;33m\u001b[0m\u001b[1;33m\u001b[0m\u001b[0m\n",
      "\u001b[1;32m~\\anaconda3\\lib\\site-packages\\matplotlib\\axis.py\u001b[0m in \u001b[0;36mconvert_units\u001b[1;34m(self, x)\u001b[0m\n\u001b[0;32m   1523\u001b[0m             \u001b[0mret\u001b[0m \u001b[1;33m=\u001b[0m \u001b[0mself\u001b[0m\u001b[1;33m.\u001b[0m\u001b[0mconverter\u001b[0m\u001b[1;33m.\u001b[0m\u001b[0mconvert\u001b[0m\u001b[1;33m(\u001b[0m\u001b[0mx\u001b[0m\u001b[1;33m,\u001b[0m \u001b[0mself\u001b[0m\u001b[1;33m.\u001b[0m\u001b[0munits\u001b[0m\u001b[1;33m,\u001b[0m \u001b[0mself\u001b[0m\u001b[1;33m)\u001b[0m\u001b[1;33m\u001b[0m\u001b[1;33m\u001b[0m\u001b[0m\n\u001b[0;32m   1524\u001b[0m         \u001b[1;32mexcept\u001b[0m \u001b[0mException\u001b[0m \u001b[1;32mas\u001b[0m \u001b[0me\u001b[0m\u001b[1;33m:\u001b[0m\u001b[1;33m\u001b[0m\u001b[1;33m\u001b[0m\u001b[0m\n\u001b[1;32m-> 1525\u001b[1;33m             raise munits.ConversionError('Failed to convert value(s) to axis '\n\u001b[0m\u001b[0;32m   1526\u001b[0m                                          f'units: {x!r}') from e\n\u001b[0;32m   1527\u001b[0m         \u001b[1;32mreturn\u001b[0m \u001b[0mret\u001b[0m\u001b[1;33m\u001b[0m\u001b[1;33m\u001b[0m\u001b[0m\n",
      "\u001b[1;31mConversionError\u001b[0m: Failed to convert value(s) to axis units: 0        MALE\n1        MALE\n2      FEMALE\n3      FEMALE\n4        MALE\n        ...  \n109    FEMALE\n110      MALE\n111      MALE\n112    FEMALE\n113      MALE\nName: x, Length: 114, dtype: object"
     ]
    },
    {
     "data": {
      "image/png": "[encoded data removed]",
      "text/plain": [
       "<Figure size 432x288 with 1 Axes>"
      ]
     },
     "metadata": {},
     "output_type": "display_data"
    }
   ],
   "source": [
    "sns.histplot(train[\"Sex\"])"
   ]
  },
  {
   "cell_type": "code",
   "execution_count": 49,
   "metadata": {},
   "outputs": [
    {
     "data": {
      "text/plain": [
       "<AxesSubplot:>"
      ]
     },
     "execution_count": 49,
     "metadata": {},
     "output_type": "execute_result"
    },
    {
     "data": {
      "image/png": "[encoded data removed]",
      "text/plain": [
       "<Figure size 432x288 with 1 Axes>"
      ]
     },
     "metadata": {},
     "output_type": "display_data"
    }
   ],
   "source": [
    "train[\"Sex\"].hist()"
   ]
  },
  {
   "cell_type": "code",
   "execution_count": 43,
   "metadata": {
    "colab": {
     "base_uri": "https://localhost:8080/",
     "height": 388
    },
    "executionInfo": {
     "elapsed": 341,
     "status": "ok",
     "timestamp": 1640858010801,
     "user": {
      "displayName": "알거없다",
      "photoUrl": "https://lh3.googleusercontent.com/a/default-user=s64",
      "userId": "12956811673456235187"
     },
     "user_tz": -540
    },
    "id": "V-kAzRiwVuiA",
    "outputId": "b17cb876-51c7-464b-97b3-1ab9826b6209"
   },
   "outputs": [
    {
     "ename": "ConversionError",
     "evalue": "Failed to convert value(s) to axis units: 0        MALE\n1        MALE\n2      FEMALE\n3      FEMALE\n4        MALE\n        ...  \n109    FEMALE\n110      MALE\n111      MALE\n112    FEMALE\n113      MALE\nName: x, Length: 114, dtype: object",
     "output_type": "error",
     "traceback": [
      "\u001b[1;31m---------------------------------------------------------------------------\u001b[0m",
      "\u001b[1;31mTypeError\u001b[0m                                 Traceback (most recent call last)",
      "\u001b[1;32m~\\anaconda3\\lib\\site-packages\\matplotlib\\axis.py\u001b[0m in \u001b[0;36mconvert_units\u001b[1;34m(self, x)\u001b[0m\n\u001b[0;32m   1522\u001b[0m         \u001b[1;32mtry\u001b[0m\u001b[1;33m:\u001b[0m\u001b[1;33m\u001b[0m\u001b[1;33m\u001b[0m\u001b[0m\n\u001b[1;32m-> 1523\u001b[1;33m             \u001b[0mret\u001b[0m \u001b[1;33m=\u001b[0m \u001b[0mself\u001b[0m\u001b[1;33m.\u001b[0m\u001b[0mconverter\u001b[0m\u001b[1;33m.\u001b[0m\u001b[0mconvert\u001b[0m\u001b[1;33m(\u001b[0m\u001b[0mx\u001b[0m\u001b[1;33m,\u001b[0m \u001b[0mself\u001b[0m\u001b[1;33m.\u001b[0m\u001b[0munits\u001b[0m\u001b[1;33m,\u001b[0m \u001b[0mself\u001b[0m\u001b[1;33m)\u001b[0m\u001b[1;33m\u001b[0m\u001b[1;33m\u001b[0m\u001b[0m\n\u001b[0m\u001b[0;32m   1524\u001b[0m         \u001b[1;32mexcept\u001b[0m \u001b[0mException\u001b[0m \u001b[1;32mas\u001b[0m \u001b[0me\u001b[0m\u001b[1;33m:\u001b[0m\u001b[1;33m\u001b[0m\u001b[1;33m\u001b[0m\u001b[0m\n",
      "\u001b[1;32m~\\anaconda3\\lib\\site-packages\\matplotlib\\category.py\u001b[0m in \u001b[0;36mconvert\u001b[1;34m(value, unit, axis)\u001b[0m\n\u001b[0;32m     60\u001b[0m         \u001b[1;31m# force an update so it also does type checking\u001b[0m\u001b[1;33m\u001b[0m\u001b[1;33m\u001b[0m\u001b[1;33m\u001b[0m\u001b[0m\n\u001b[1;32m---> 61\u001b[1;33m         \u001b[0munit\u001b[0m\u001b[1;33m.\u001b[0m\u001b[0mupdate\u001b[0m\u001b[1;33m(\u001b[0m\u001b[0mvalues\u001b[0m\u001b[1;33m)\u001b[0m\u001b[1;33m\u001b[0m\u001b[1;33m\u001b[0m\u001b[0m\n\u001b[0m\u001b[0;32m     62\u001b[0m         \u001b[1;32mreturn\u001b[0m \u001b[0mnp\u001b[0m\u001b[1;33m.\u001b[0m\u001b[0mvectorize\u001b[0m\u001b[1;33m(\u001b[0m\u001b[0munit\u001b[0m\u001b[1;33m.\u001b[0m\u001b[0m_mapping\u001b[0m\u001b[1;33m.\u001b[0m\u001b[0m__getitem__\u001b[0m\u001b[1;33m,\u001b[0m \u001b[0motypes\u001b[0m\u001b[1;33m=\u001b[0m\u001b[1;33m[\u001b[0m\u001b[0mfloat\u001b[0m\u001b[1;33m]\u001b[0m\u001b[1;33m)\u001b[0m\u001b[1;33m(\u001b[0m\u001b[0mvalues\u001b[0m\u001b[1;33m)\u001b[0m\u001b[1;33m\u001b[0m\u001b[1;33m\u001b[0m\u001b[0m\n",
      "\u001b[1;32m~\\anaconda3\\lib\\site-packages\\matplotlib\\category.py\u001b[0m in \u001b[0;36mupdate\u001b[1;34m(self, data)\u001b[0m\n\u001b[0;32m    210\u001b[0m             \u001b[1;31m# OrderedDict just iterates over unique values in data.\u001b[0m\u001b[1;33m\u001b[0m\u001b[1;33m\u001b[0m\u001b[1;33m\u001b[0m\u001b[0m\n\u001b[1;32m--> 211\u001b[1;33m             \u001b[0mcbook\u001b[0m\u001b[1;33m.\u001b[0m\u001b[0m_check_isinstance\u001b[0m\u001b[1;33m(\u001b[0m\u001b[1;33m(\u001b[0m\u001b[0mstr\u001b[0m\u001b[1;33m,\u001b[0m \u001b[0mbytes\u001b[0m\u001b[1;33m)\u001b[0m\u001b[1;33m,\u001b[0m \u001b[0mvalue\u001b[0m\u001b[1;33m=\u001b[0m\u001b[0mval\u001b[0m\u001b[1;33m)\u001b[0m\u001b[1;33m\u001b[0m\u001b[1;33m\u001b[0m\u001b[0m\n\u001b[0m\u001b[0;32m    212\u001b[0m             \u001b[1;32mif\u001b[0m \u001b[0mconvertible\u001b[0m\u001b[1;33m:\u001b[0m\u001b[1;33m\u001b[0m\u001b[1;33m\u001b[0m\u001b[0m\n",
      "\u001b[1;32m~\\anaconda3\\lib\\site-packages\\matplotlib\\cbook\\__init__.py\u001b[0m in \u001b[0;36m_check_isinstance\u001b[1;34m(_types, **kwargs)\u001b[0m\n\u001b[0;32m   2245\u001b[0m         \u001b[1;32mif\u001b[0m \u001b[1;32mnot\u001b[0m \u001b[0misinstance\u001b[0m\u001b[1;33m(\u001b[0m\u001b[0mv\u001b[0m\u001b[1;33m,\u001b[0m \u001b[0mtypes\u001b[0m\u001b[1;33m)\u001b[0m\u001b[1;33m:\u001b[0m\u001b[1;33m\u001b[0m\u001b[1;33m\u001b[0m\u001b[0m\n\u001b[1;32m-> 2246\u001b[1;33m             raise TypeError(\n\u001b[0m\u001b[0;32m   2247\u001b[0m                 \"{!r} must be an instance of {}, not a {}\".format(\n",
      "\u001b[1;31mTypeError\u001b[0m: 'value' must be an instance of str or bytes, not a float",
      "\nThe above exception was the direct cause of the following exception:\n",
      "\u001b[1;31mConversionError\u001b[0m                           Traceback (most recent call last)",
      "\u001b[1;32m<ipython-input-43-89b988a40ba4>\u001b[0m in \u001b[0;36m<module>\u001b[1;34m\u001b[0m\n\u001b[0;32m      1\u001b[0m \u001b[0mplt\u001b[0m\u001b[1;33m.\u001b[0m\u001b[0mfigure\u001b[0m\u001b[1;33m(\u001b[0m\u001b[0mfigsize\u001b[0m \u001b[1;33m=\u001b[0m \u001b[1;33m(\u001b[0m\u001b[1;36m10\u001b[0m\u001b[1;33m,\u001b[0m\u001b[1;36m5\u001b[0m\u001b[1;33m)\u001b[0m\u001b[1;33m)\u001b[0m\u001b[1;33m\u001b[0m\u001b[1;33m\u001b[0m\u001b[0m\n\u001b[1;32m----> 2\u001b[1;33m \u001b[0max\u001b[0m \u001b[1;33m=\u001b[0m \u001b[0msns\u001b[0m\u001b[1;33m.\u001b[0m\u001b[0mhistplot\u001b[0m\u001b[1;33m(\u001b[0m\u001b[0mtrain\u001b[0m\u001b[1;33m[\u001b[0m\u001b[1;34m\"Sex\"\u001b[0m\u001b[1;33m]\u001b[0m\u001b[1;33m)\u001b[0m\u001b[1;33m\u001b[0m\u001b[1;33m\u001b[0m\u001b[0m\n\u001b[0m\u001b[0;32m      3\u001b[0m \u001b[0mplt\u001b[0m\u001b[1;33m.\u001b[0m\u001b[0mshow\u001b[0m\u001b[1;33m(\u001b[0m\u001b[1;33m)\u001b[0m\u001b[1;33m\u001b[0m\u001b[1;33m\u001b[0m\u001b[0m\n\u001b[0;32m      4\u001b[0m \u001b[1;33m\u001b[0m\u001b[0m\n\u001b[0;32m      5\u001b[0m \u001b[0mtrain\u001b[0m\u001b[1;33m[\u001b[0m\u001b[1;34m\"Sex\"\u001b[0m\u001b[1;33m]\u001b[0m\u001b[1;33m.\u001b[0m\u001b[0mvalue_counts\u001b[0m\u001b[1;33m(\u001b[0m\u001b[1;33m)\u001b[0m\u001b[1;33m\u001b[0m\u001b[1;33m\u001b[0m\u001b[0m\n",
      "\u001b[1;32m~\\anaconda3\\lib\\site-packages\\seaborn\\distributions.py\u001b[0m in \u001b[0;36mhistplot\u001b[1;34m(data, x, y, hue, weights, stat, bins, binwidth, binrange, discrete, cumulative, common_bins, common_norm, multiple, element, fill, shrink, kde, kde_kws, line_kws, thresh, pthresh, pmax, cbar, cbar_ax, cbar_kws, palette, hue_order, hue_norm, color, log_scale, legend, ax, **kwargs)\u001b[0m\n\u001b[0;32m   1421\u001b[0m     \u001b[1;32mif\u001b[0m \u001b[0mp\u001b[0m\u001b[1;33m.\u001b[0m\u001b[0munivariate\u001b[0m\u001b[1;33m:\u001b[0m\u001b[1;33m\u001b[0m\u001b[1;33m\u001b[0m\u001b[0m\n\u001b[0;32m   1422\u001b[0m \u001b[1;33m\u001b[0m\u001b[0m\n\u001b[1;32m-> 1423\u001b[1;33m         p.plot_univariate_histogram(\n\u001b[0m\u001b[0;32m   1424\u001b[0m             \u001b[0mmultiple\u001b[0m\u001b[1;33m=\u001b[0m\u001b[0mmultiple\u001b[0m\u001b[1;33m,\u001b[0m\u001b[1;33m\u001b[0m\u001b[1;33m\u001b[0m\u001b[0m\n\u001b[0;32m   1425\u001b[0m             \u001b[0melement\u001b[0m\u001b[1;33m=\u001b[0m\u001b[0melement\u001b[0m\u001b[1;33m,\u001b[0m\u001b[1;33m\u001b[0m\u001b[1;33m\u001b[0m\u001b[0m\n",
      "\u001b[1;32m~\\anaconda3\\lib\\site-packages\\seaborn\\distributions.py\u001b[0m in \u001b[0;36mplot_univariate_histogram\u001b[1;34m(self, multiple, element, fill, common_norm, common_bins, shrink, kde, kde_kws, color, legend, line_kws, estimate_kws, **plot_kws)\u001b[0m\n\u001b[0;32m    422\u001b[0m \u001b[1;33m\u001b[0m\u001b[0m\n\u001b[0;32m    423\u001b[0m         \u001b[1;31m# First pass through the data to compute the histograms\u001b[0m\u001b[1;33m\u001b[0m\u001b[1;33m\u001b[0m\u001b[1;33m\u001b[0m\u001b[0m\n\u001b[1;32m--> 424\u001b[1;33m         \u001b[1;32mfor\u001b[0m \u001b[0msub_vars\u001b[0m\u001b[1;33m,\u001b[0m \u001b[0msub_data\u001b[0m \u001b[1;32min\u001b[0m \u001b[0mself\u001b[0m\u001b[1;33m.\u001b[0m\u001b[0miter_data\u001b[0m\u001b[1;33m(\u001b[0m\u001b[1;34m\"hue\"\u001b[0m\u001b[1;33m,\u001b[0m \u001b[0mfrom_comp_data\u001b[0m\u001b[1;33m=\u001b[0m\u001b[1;32mTrue\u001b[0m\u001b[1;33m)\u001b[0m\u001b[1;33m:\u001b[0m\u001b[1;33m\u001b[0m\u001b[1;33m\u001b[0m\u001b[0m\n\u001b[0m\u001b[0;32m    425\u001b[0m \u001b[1;33m\u001b[0m\u001b[0m\n\u001b[0;32m    426\u001b[0m             \u001b[1;31m# Prepare the relevant data\u001b[0m\u001b[1;33m\u001b[0m\u001b[1;33m\u001b[0m\u001b[1;33m\u001b[0m\u001b[0m\n",
      "\u001b[1;32m~\\anaconda3\\lib\\site-packages\\seaborn\\_core.py\u001b[0m in \u001b[0;36miter_data\u001b[1;34m(self, grouping_vars, reverse, from_comp_data)\u001b[0m\n\u001b[0;32m    980\u001b[0m \u001b[1;33m\u001b[0m\u001b[0m\n\u001b[0;32m    981\u001b[0m         \u001b[1;32mif\u001b[0m \u001b[0mfrom_comp_data\u001b[0m\u001b[1;33m:\u001b[0m\u001b[1;33m\u001b[0m\u001b[1;33m\u001b[0m\u001b[0m\n\u001b[1;32m--> 982\u001b[1;33m             \u001b[0mdata\u001b[0m \u001b[1;33m=\u001b[0m \u001b[0mself\u001b[0m\u001b[1;33m.\u001b[0m\u001b[0mcomp_data\u001b[0m\u001b[1;33m\u001b[0m\u001b[1;33m\u001b[0m\u001b[0m\n\u001b[0m\u001b[0;32m    983\u001b[0m         \u001b[1;32melse\u001b[0m\u001b[1;33m:\u001b[0m\u001b[1;33m\u001b[0m\u001b[1;33m\u001b[0m\u001b[0m\n\u001b[0;32m    984\u001b[0m             \u001b[0mdata\u001b[0m \u001b[1;33m=\u001b[0m \u001b[0mself\u001b[0m\u001b[1;33m.\u001b[0m\u001b[0mplot_data\u001b[0m\u001b[1;33m\u001b[0m\u001b[1;33m\u001b[0m\u001b[0m\n",
      "\u001b[1;32m~\\anaconda3\\lib\\site-packages\\seaborn\\_core.py\u001b[0m in \u001b[0;36mcomp_data\u001b[1;34m(self)\u001b[0m\n\u001b[0;32m   1049\u001b[0m                 \u001b[0maxis\u001b[0m \u001b[1;33m=\u001b[0m \u001b[0mgetattr\u001b[0m\u001b[1;33m(\u001b[0m\u001b[0max\u001b[0m\u001b[1;33m,\u001b[0m \u001b[1;34mf\"{var}axis\"\u001b[0m\u001b[1;33m)\u001b[0m\u001b[1;33m\u001b[0m\u001b[1;33m\u001b[0m\u001b[0m\n\u001b[0;32m   1050\u001b[0m \u001b[1;33m\u001b[0m\u001b[0m\n\u001b[1;32m-> 1051\u001b[1;33m                 \u001b[0mcomp_var\u001b[0m \u001b[1;33m=\u001b[0m \u001b[0maxis\u001b[0m\u001b[1;33m.\u001b[0m\u001b[0mconvert_units\u001b[0m\u001b[1;33m(\u001b[0m\u001b[0mself\u001b[0m\u001b[1;33m.\u001b[0m\u001b[0mplot_data\u001b[0m\u001b[1;33m[\u001b[0m\u001b[0mvar\u001b[0m\u001b[1;33m]\u001b[0m\u001b[1;33m)\u001b[0m\u001b[1;33m\u001b[0m\u001b[1;33m\u001b[0m\u001b[0m\n\u001b[0m\u001b[0;32m   1052\u001b[0m                 \u001b[1;32mif\u001b[0m \u001b[0maxis\u001b[0m\u001b[1;33m.\u001b[0m\u001b[0mget_scale\u001b[0m\u001b[1;33m(\u001b[0m\u001b[1;33m)\u001b[0m \u001b[1;33m==\u001b[0m \u001b[1;34m\"log\"\u001b[0m\u001b[1;33m:\u001b[0m\u001b[1;33m\u001b[0m\u001b[1;33m\u001b[0m\u001b[0m\n\u001b[0;32m   1053\u001b[0m                     \u001b[0mcomp_var\u001b[0m \u001b[1;33m=\u001b[0m \u001b[0mnp\u001b[0m\u001b[1;33m.\u001b[0m\u001b[0mlog10\u001b[0m\u001b[1;33m(\u001b[0m\u001b[0mcomp_var\u001b[0m\u001b[1;33m)\u001b[0m\u001b[1;33m\u001b[0m\u001b[1;33m\u001b[0m\u001b[0m\n",
      "\u001b[1;32m~\\anaconda3\\lib\\site-packages\\matplotlib\\axis.py\u001b[0m in \u001b[0;36mconvert_units\u001b[1;34m(self, x)\u001b[0m\n\u001b[0;32m   1523\u001b[0m             \u001b[0mret\u001b[0m \u001b[1;33m=\u001b[0m \u001b[0mself\u001b[0m\u001b[1;33m.\u001b[0m\u001b[0mconverter\u001b[0m\u001b[1;33m.\u001b[0m\u001b[0mconvert\u001b[0m\u001b[1;33m(\u001b[0m\u001b[0mx\u001b[0m\u001b[1;33m,\u001b[0m \u001b[0mself\u001b[0m\u001b[1;33m.\u001b[0m\u001b[0munits\u001b[0m\u001b[1;33m,\u001b[0m \u001b[0mself\u001b[0m\u001b[1;33m)\u001b[0m\u001b[1;33m\u001b[0m\u001b[1;33m\u001b[0m\u001b[0m\n\u001b[0;32m   1524\u001b[0m         \u001b[1;32mexcept\u001b[0m \u001b[0mException\u001b[0m \u001b[1;32mas\u001b[0m \u001b[0me\u001b[0m\u001b[1;33m:\u001b[0m\u001b[1;33m\u001b[0m\u001b[1;33m\u001b[0m\u001b[0m\n\u001b[1;32m-> 1525\u001b[1;33m             raise munits.ConversionError('Failed to convert value(s) to axis '\n\u001b[0m\u001b[0;32m   1526\u001b[0m                                          f'units: {x!r}') from e\n\u001b[0;32m   1527\u001b[0m         \u001b[1;32mreturn\u001b[0m \u001b[0mret\u001b[0m\u001b[1;33m\u001b[0m\u001b[1;33m\u001b[0m\u001b[0m\n",
      "\u001b[1;31mConversionError\u001b[0m: Failed to convert value(s) to axis units: 0        MALE\n1        MALE\n2      FEMALE\n3      FEMALE\n4        MALE\n        ...  \n109    FEMALE\n110      MALE\n111      MALE\n112    FEMALE\n113      MALE\nName: x, Length: 114, dtype: object"
     ]
    },
    {
     "data": {
      "image/png": "[encoded data removed]",
      "text/plain": [
       "<Figure size 720x360 with 1 Axes>"
      ]
     },
     "metadata": {},
     "output_type": "display_data"
    }
   ],
   "source": [
    "plt.figure(figsize = (10,5))\n",
    "ax = sns.histplot(train[\"Sex\"])\n",
    "plt.show()\n",
    "\n",
    "train[\"Sex\"].value_counts()\n",
    "\n"
   ]
  },
  {
   "cell_type": "code",
   "execution_count": 28,
   "metadata": {
    "colab": {
     "base_uri": "https://localhost:8080/",
     "height": 206
    },
    "executionInfo": {
     "elapsed": 16,
     "status": "ok",
     "timestamp": 1640858010802,
     "user": {
      "displayName": "알거없다",
      "photoUrl": "https://lh3.googleusercontent.com/a/default-user=s64",
      "userId": "12956811673456235187"
     },
     "user_tz": -540
    },
    "id": "65jSowiXVuf7",
    "outputId": "28d0788b-0de8-41f0-cb90-373a78a50a20"
   },
   "outputs": [
    {
     "data": {
      "text/html": [
       "<div>\n",
       "<style scoped>\n",
       "    .dataframe tbody tr th:only-of-type {\n",
       "        vertical-align: middle;\n",
       "    }\n",
       "\n",
       "    .dataframe tbody tr th {\n",
       "        vertical-align: top;\n",
       "    }\n",
       "\n",
       "    .dataframe thead th {\n",
       "        text-align: right;\n",
       "    }\n",
       "</style>\n",
       "<table border=\"1\" class=\"dataframe\">\n",
       "  <thead>\n",
       "    <tr style=\"text-align: right;\">\n",
       "      <th></th>\n",
       "      <th>id</th>\n",
       "      <th>Species</th>\n",
       "      <th>Island</th>\n",
       "      <th>Clutch Completion</th>\n",
       "      <th>Culmen Length (mm)</th>\n",
       "      <th>Culmen Depth (mm)</th>\n",
       "      <th>Flipper Length (mm)</th>\n",
       "      <th>Sex</th>\n",
       "      <th>Delta 15 N (o/oo)</th>\n",
       "      <th>Delta 13 C (o/oo)</th>\n",
       "      <th>Body Mass (g)</th>\n",
       "    </tr>\n",
       "  </thead>\n",
       "  <tbody>\n",
       "    <tr>\n",
       "      <th>0</th>\n",
       "      <td>0</td>\n",
       "      <td>Gentoo</td>\n",
       "      <td>Biscoe</td>\n",
       "      <td>Yes</td>\n",
       "      <td>50.0</td>\n",
       "      <td>15.3</td>\n",
       "      <td>220</td>\n",
       "      <td>MALE</td>\n",
       "      <td>8.30515</td>\n",
       "      <td>-25.19017</td>\n",
       "      <td>5550</td>\n",
       "    </tr>\n",
       "    <tr>\n",
       "      <th>1</th>\n",
       "      <td>1</td>\n",
       "      <td>Chinstrap</td>\n",
       "      <td>Dream</td>\n",
       "      <td>No</td>\n",
       "      <td>49.5</td>\n",
       "      <td>19.0</td>\n",
       "      <td>200</td>\n",
       "      <td>MALE</td>\n",
       "      <td>9.63074</td>\n",
       "      <td>-24.34684</td>\n",
       "      <td>3800</td>\n",
       "    </tr>\n",
       "    <tr>\n",
       "      <th>2</th>\n",
       "      <td>2</td>\n",
       "      <td>Gentoo</td>\n",
       "      <td>Biscoe</td>\n",
       "      <td>Yes</td>\n",
       "      <td>45.1</td>\n",
       "      <td>14.4</td>\n",
       "      <td>210</td>\n",
       "      <td>FEMALE</td>\n",
       "      <td>8.51951</td>\n",
       "      <td>-27.01854</td>\n",
       "      <td>4400</td>\n",
       "    </tr>\n",
       "    <tr>\n",
       "      <th>3</th>\n",
       "      <td>3</td>\n",
       "      <td>Gentoo</td>\n",
       "      <td>Biscoe</td>\n",
       "      <td>Yes</td>\n",
       "      <td>44.5</td>\n",
       "      <td>14.7</td>\n",
       "      <td>214</td>\n",
       "      <td>FEMALE</td>\n",
       "      <td>8.20106</td>\n",
       "      <td>-26.16524</td>\n",
       "      <td>4850</td>\n",
       "    </tr>\n",
       "    <tr>\n",
       "      <th>4</th>\n",
       "      <td>4</td>\n",
       "      <td>Gentoo</td>\n",
       "      <td>Biscoe</td>\n",
       "      <td>No</td>\n",
       "      <td>49.6</td>\n",
       "      <td>16.0</td>\n",
       "      <td>225</td>\n",
       "      <td>MALE</td>\n",
       "      <td>8.38324</td>\n",
       "      <td>-26.84272</td>\n",
       "      <td>5700</td>\n",
       "    </tr>\n",
       "  </tbody>\n",
       "</table>\n",
       "</div>"
      ],
      "text/plain": [
       "   id    Species  Island Clutch Completion  Culmen Length (mm)  \\\n",
       "0   0     Gentoo  Biscoe               Yes                50.0   \n",
       "1   1  Chinstrap   Dream                No                49.5   \n",
       "2   2     Gentoo  Biscoe               Yes                45.1   \n",
       "3   3     Gentoo  Biscoe               Yes                44.5   \n",
       "4   4     Gentoo  Biscoe                No                49.6   \n",
       "\n",
       "   Culmen Depth (mm)  Flipper Length (mm)     Sex  Delta 15 N (o/oo)  \\\n",
       "0               15.3                  220    MALE            8.30515   \n",
       "1               19.0                  200    MALE            9.63074   \n",
       "2               14.4                  210  FEMALE            8.51951   \n",
       "3               14.7                  214  FEMALE            8.20106   \n",
       "4               16.0                  225    MALE            8.38324   \n",
       "\n",
       "   Delta 13 C (o/oo)  Body Mass (g)  \n",
       "0          -25.19017           5550  \n",
       "1          -24.34684           3800  \n",
       "2          -27.01854           4400  \n",
       "3          -26.16524           4850  \n",
       "4          -26.84272           5700  "
      ]
     },
     "execution_count": 28,
     "metadata": {},
     "output_type": "execute_result"
    }
   ],
   "source": [
    "train_input.head()"
   ]
  },
  {
   "cell_type": "code",
   "execution_count": 29,
   "metadata": {
    "executionInfo": {
     "elapsed": 14,
     "status": "ok",
     "timestamp": 1640858010803,
     "user": {
      "displayName": "알거없다",
      "photoUrl": "https://lh3.googleusercontent.com/a/default-user=s64",
      "userId": "12956811673456235187"
     },
     "user_tz": -540
    },
    "id": "ihxCTrvtZxyZ"
   },
   "outputs": [],
   "source": [
    "# df[column_name].replace([old_value1, old_value2, old_value3],[new_value1, new_value2, new_value3])\n",
    "# Yes면 1 No면 0, MALE이면 1, FEMALE이면 0으로 변환\n",
    "\n",
    "train_input[\"Clutch Completion\"].replace([\"Yes\", \"No\"], [1,0], inplace = True)\n",
    "train_input[\"Sex\"].replace([\"MALE\", \"FEMALE\"], [1,0], inplace = True)\n"
   ]
  },
  {
   "cell_type": "code",
   "execution_count": 30,
   "metadata": {
    "colab": {
     "base_uri": "https://localhost:8080/",
     "height": 206
    },
    "executionInfo": {
     "elapsed": 14,
     "status": "ok",
     "timestamp": 1640858010803,
     "user": {
      "displayName": "알거없다",
      "photoUrl": "https://lh3.googleusercontent.com/a/default-user=s64",
      "userId": "12956811673456235187"
     },
     "user_tz": -540
    },
    "id": "0Z3mWgx8a7LW",
    "outputId": "288a8672-da69-474a-aaea-0261583e8ac7"
   },
   "outputs": [
    {
     "data": {
      "text/html": [
       "<div>\n",
       "<style scoped>\n",
       "    .dataframe tbody tr th:only-of-type {\n",
       "        vertical-align: middle;\n",
       "    }\n",
       "\n",
       "    .dataframe tbody tr th {\n",
       "        vertical-align: top;\n",
       "    }\n",
       "\n",
       "    .dataframe thead th {\n",
       "        text-align: right;\n",
       "    }\n",
       "</style>\n",
       "<table border=\"1\" class=\"dataframe\">\n",
       "  <thead>\n",
       "    <tr style=\"text-align: right;\">\n",
       "      <th></th>\n",
       "      <th>id</th>\n",
       "      <th>Species</th>\n",
       "      <th>Island</th>\n",
       "      <th>Clutch Completion</th>\n",
       "      <th>Culmen Length (mm)</th>\n",
       "      <th>Culmen Depth (mm)</th>\n",
       "      <th>Flipper Length (mm)</th>\n",
       "      <th>Sex</th>\n",
       "      <th>Delta 15 N (o/oo)</th>\n",
       "      <th>Delta 13 C (o/oo)</th>\n",
       "      <th>Body Mass (g)</th>\n",
       "    </tr>\n",
       "  </thead>\n",
       "  <tbody>\n",
       "    <tr>\n",
       "      <th>0</th>\n",
       "      <td>0</td>\n",
       "      <td>Gentoo</td>\n",
       "      <td>Biscoe</td>\n",
       "      <td>1</td>\n",
       "      <td>50.0</td>\n",
       "      <td>15.3</td>\n",
       "      <td>220</td>\n",
       "      <td>1.0</td>\n",
       "      <td>8.30515</td>\n",
       "      <td>-25.19017</td>\n",
       "      <td>5550</td>\n",
       "    </tr>\n",
       "    <tr>\n",
       "      <th>1</th>\n",
       "      <td>1</td>\n",
       "      <td>Chinstrap</td>\n",
       "      <td>Dream</td>\n",
       "      <td>0</td>\n",
       "      <td>49.5</td>\n",
       "      <td>19.0</td>\n",
       "      <td>200</td>\n",
       "      <td>1.0</td>\n",
       "      <td>9.63074</td>\n",
       "      <td>-24.34684</td>\n",
       "      <td>3800</td>\n",
       "    </tr>\n",
       "    <tr>\n",
       "      <th>2</th>\n",
       "      <td>2</td>\n",
       "      <td>Gentoo</td>\n",
       "      <td>Biscoe</td>\n",
       "      <td>1</td>\n",
       "      <td>45.1</td>\n",
       "      <td>14.4</td>\n",
       "      <td>210</td>\n",
       "      <td>0.0</td>\n",
       "      <td>8.51951</td>\n",
       "      <td>-27.01854</td>\n",
       "      <td>4400</td>\n",
       "    </tr>\n",
       "    <tr>\n",
       "      <th>3</th>\n",
       "      <td>3</td>\n",
       "      <td>Gentoo</td>\n",
       "      <td>Biscoe</td>\n",
       "      <td>1</td>\n",
       "      <td>44.5</td>\n",
       "      <td>14.7</td>\n",
       "      <td>214</td>\n",
       "      <td>0.0</td>\n",
       "      <td>8.20106</td>\n",
       "      <td>-26.16524</td>\n",
       "      <td>4850</td>\n",
       "    </tr>\n",
       "    <tr>\n",
       "      <th>4</th>\n",
       "      <td>4</td>\n",
       "      <td>Gentoo</td>\n",
       "      <td>Biscoe</td>\n",
       "      <td>0</td>\n",
       "      <td>49.6</td>\n",
       "      <td>16.0</td>\n",
       "      <td>225</td>\n",
       "      <td>1.0</td>\n",
       "      <td>8.38324</td>\n",
       "      <td>-26.84272</td>\n",
       "      <td>5700</td>\n",
       "    </tr>\n",
       "  </tbody>\n",
       "</table>\n",
       "</div>"
      ],
      "text/plain": [
       "   id    Species  Island  Clutch Completion  Culmen Length (mm)  \\\n",
       "0   0     Gentoo  Biscoe                  1                50.0   \n",
       "1   1  Chinstrap   Dream                  0                49.5   \n",
       "2   2     Gentoo  Biscoe                  1                45.1   \n",
       "3   3     Gentoo  Biscoe                  1                44.5   \n",
       "4   4     Gentoo  Biscoe                  0                49.6   \n",
       "\n",
       "   Culmen Depth (mm)  Flipper Length (mm)  Sex  Delta 15 N (o/oo)  \\\n",
       "0               15.3                  220  1.0            8.30515   \n",
       "1               19.0                  200  1.0            9.63074   \n",
       "2               14.4                  210  0.0            8.51951   \n",
       "3               14.7                  214  0.0            8.20106   \n",
       "4               16.0                  225  1.0            8.38324   \n",
       "\n",
       "   Delta 13 C (o/oo)  Body Mass (g)  \n",
       "0          -25.19017           5550  \n",
       "1          -24.34684           3800  \n",
       "2          -27.01854           4400  \n",
       "3          -26.16524           4850  \n",
       "4          -26.84272           5700  "
      ]
     },
     "execution_count": 30,
     "metadata": {},
     "output_type": "execute_result"
    }
   ],
   "source": [
    "train_input.head()"
   ]
  },
  {
   "cell_type": "code",
   "execution_count": 31,
   "metadata": {
    "colab": {
     "base_uri": "https://localhost:8080/",
     "height": 411
    },
    "executionInfo": {
     "elapsed": 278,
     "status": "ok",
     "timestamp": 1640858011069,
     "user": {
      "displayName": "알거없다",
      "photoUrl": "https://lh3.googleusercontent.com/a/default-user=s64",
      "userId": "12956811673456235187"
     },
     "user_tz": -540
    },
    "id": "jcFlfwL7dkJw",
    "outputId": "8273f8ee-1564-4c12-9635-7fdabd9f3662"
   },
   "outputs": [
    {
     "data": {
      "text/plain": [
       "{'whiskers': [<matplotlib.lines.Line2D at 0x16ed868ae80>,\n",
       "  <matplotlib.lines.Line2D at 0x16ed868a1f0>],\n",
       " 'caps': [<matplotlib.lines.Line2D at 0x16ed8398070>,\n",
       "  <matplotlib.lines.Line2D at 0x16ed8398df0>],\n",
       " 'boxes': [<matplotlib.lines.Line2D at 0x16ed867e130>],\n",
       " 'medians': [<matplotlib.lines.Line2D at 0x16ed8398e20>],\n",
       " 'fliers': [<matplotlib.lines.Line2D at 0x16ed8398520>],\n",
       " 'means': []}"
      ]
     },
     "execution_count": 31,
     "metadata": {},
     "output_type": "execute_result"
    },
    {
     "data": {
      "image/png": "[encoded data removed]",
      "text/plain": [
       "<Figure size 432x288 with 1 Axes>"
      ]
     },
     "metadata": {
      "needs_background": "dark"
     },
     "output_type": "display_data"
    }
   ],
   "source": [
    "plt.boxplot(train_input[\"Culmen Length (mm)\"])"
   ]
  },
  {
   "cell_type": "code",
   "execution_count": 32,
   "metadata": {
    "executionInfo": {
     "elapsed": 7,
     "status": "ok",
     "timestamp": 1640858011069,
     "user": {
      "displayName": "알거없다",
      "photoUrl": "https://lh3.googleusercontent.com/a/default-user=s64",
      "userId": "12956811673456235187"
     },
     "user_tz": -540
    },
    "id": "3dD5vsylHql6"
   },
   "outputs": [],
   "source": [
    "numeric_feature = train_input.columns[(train_input.dtypes == int) | (train_input.dtypes == float)]\n",
    "categorical_feature = train_input.columns[(train_input.dtypes =='O')]"
   ]
  },
  {
   "cell_type": "code",
   "execution_count": 33,
   "metadata": {
    "colab": {
     "base_uri": "https://localhost:8080/"
    },
    "executionInfo": {
     "elapsed": 8,
     "status": "ok",
     "timestamp": 1640858011070,
     "user": {
      "displayName": "알거없다",
      "photoUrl": "https://lh3.googleusercontent.com/a/default-user=s64",
      "userId": "12956811673456235187"
     },
     "user_tz": -540
    },
    "id": "zkrmfrLDHqj3",
    "outputId": "825ca20d-515f-4032-8d14-e035cfe55f62"
   },
   "outputs": [
    {
     "name": "stdout",
     "output_type": "stream",
     "text": [
      "수치형 데이터는 다음과 같습니다. \n",
      " ['Culmen Length (mm)', 'Culmen Depth (mm)', 'Sex', 'Delta 15 N (o/oo)', 'Delta 13 C (o/oo)']\n",
      "카테고리형 데이터는 다음과 같습니다. \n",
      " ['Species', 'Island']\n"
     ]
    }
   ],
   "source": [
    "print(\"수치형 데이터는 다음과 같습니다. \\n\", list(numeric_feature))\n",
    "print(\"카테고리형 데이터는 다음과 같습니다. \\n\", list(categorical_feature))"
   ]
  },
  {
   "cell_type": "code",
   "execution_count": 34,
   "metadata": {
    "colab": {
     "base_uri": "https://localhost:8080/",
     "height": 971
    },
    "executionInfo": {
     "elapsed": 1597,
     "status": "ok",
     "timestamp": 1640858012662,
     "user": {
      "displayName": "알거없다",
      "photoUrl": "https://lh3.googleusercontent.com/a/default-user=s64",
      "userId": "12956811673456235187"
     },
     "user_tz": -540
    },
    "id": "nZGr6oz9Hqhg",
    "outputId": "9c791f8d-36b9-465a-8440-e453dc7ebd6d"
   },
   "outputs": [
    {
     "data": {
      "image/png": "[encoded data removed]",
      "text/plain": [
       "<Figure size 1440x1080 with 5 Axes>"
      ]
     },
     "metadata": {},
     "output_type": "display_data"
    }
   ],
   "source": [
    "# 수치형 데이터 시각화\n",
    "\n",
    "import matplotlib.pyplot as plt\n",
    "%matplotlib inline\n",
    "plt.style.use(\"ggplot\")\n",
    "\n",
    "feature = numeric_feature\n",
    "\n",
    "plt.figure(figsize = (20,15))\n",
    "plt.suptitle(\"Boxplots\", fontsize = 40)\n",
    "\n",
    "for i in range(len(feature)):\n",
    "  plt.subplot(3,3,i+1)\n",
    "  plt.title(feature[i])\n",
    "  plt.boxplot(train_input[feature[i]])\n",
    "\n",
    "plt.show()"
   ]
  },
  {
   "cell_type": "code",
   "execution_count": 35,
   "metadata": {
    "colab": {
     "base_uri": "https://localhost:8080/",
     "height": 551
    },
    "executionInfo": {
     "elapsed": 576,
     "status": "ok",
     "timestamp": 1640858013231,
     "user": {
      "displayName": "알거없다",
      "photoUrl": "https://lh3.googleusercontent.com/a/default-user=s64",
      "userId": "12956811673456235187"
     },
     "user_tz": -540
    },
    "id": "pmoFLa-LHqdH",
    "outputId": "dc952011-ff2a-4641-9ea7-d655ebdc5e77"
   },
   "outputs": [
    {
     "data": {
      "image/png": "[encoded data removed]",
      "text/plain": [
       "<Figure size 1440x1080 with 2 Axes>"
      ]
     },
     "metadata": {},
     "output_type": "display_data"
    }
   ],
   "source": [
    "# 히스토그램 을 사용해서 데이터의 분포를 살펴봅니다.\n",
    "feature = categorical_feature\n",
    "\n",
    "plt.figure(figsize=(20,15))\n",
    "plt.suptitle(\"Bar Plot\", fontsize=40)\n",
    "\n",
    "for i in range(len(feature)):\n",
    "    plt.subplot(2,2,i+1)\n",
    "    plt.title(feature[i], fontsize=20)\n",
    "    temp = train_input[feature[i]].value_counts()\n",
    "    plt.bar(temp.keys(), temp.values, width=0.5, color='b', alpha=0.5)\n",
    "    plt.xticks(temp.keys(), fontsize=12)\n",
    "plt.tight_layout(rect=[0, 0.03, 1, 0.95])\n",
    "plt.show()"
   ]
  },
  {
   "cell_type": "code",
   "execution_count": 36,
   "metadata": {
    "executionInfo": {
     "elapsed": 6,
     "status": "ok",
     "timestamp": 1640858013231,
     "user": {
      "displayName": "알거없다",
      "photoUrl": "https://lh3.googleusercontent.com/a/default-user=s64",
      "userId": "12956811673456235187"
     },
     "user_tz": -540
    },
    "id": "vPV6KeVSO0A0"
   },
   "outputs": [],
   "source": [
    "from sklearn.preprocessing import LabelEncoder\n",
    "\n",
    "corr_df = train_input.copy()\n",
    "corr_df[corr_df.columns[corr_df.dtypes=='O']] = corr_df[corr_df.columns[corr_df.dtypes=='O']].astype(str).apply(LabelEncoder().fit_transform)"
   ]
  },
  {
   "cell_type": "code",
   "execution_count": 37,
   "metadata": {
    "colab": {
     "base_uri": "https://localhost:8080/",
     "height": 745
    },
    "executionInfo": {
     "elapsed": 817,
     "status": "ok",
     "timestamp": 1640858014043,
     "user": {
      "displayName": "알거없다",
      "photoUrl": "https://lh3.googleusercontent.com/a/default-user=s64",
      "userId": "12956811673456235187"
     },
     "user_tz": -540
    },
    "id": "_vkxKA51Oz-n",
    "outputId": "d735e78b-bc92-48c3-e11e-097b59a426a4"
   },
   "outputs": [
    {
     "data": {
      "image/png": "[encoded data removed]",
      "text/plain": [
       "<Figure size 1080x720 with 2 Axes>"
      ]
     },
     "metadata": {},
     "output_type": "display_data"
    }
   ],
   "source": [
    "#상관관계 분석도\n",
    "plt.figure(figsize=(15,10))\n",
    "\n",
    "heat_table = corr_df.corr()\n",
    "mask = np.zeros_like(heat_table)\n",
    "mask[np.triu_indices_from(mask)] = True\n",
    "heatmap_ax = sns.heatmap(heat_table, annot=True, mask = mask, cmap='coolwarm')\n",
    "heatmap_ax.set_xticklabels(heatmap_ax.get_xticklabels(), fontsize=15, rotation=45)\n",
    "heatmap_ax.set_yticklabels(heatmap_ax.get_yticklabels(), fontsize=15)\n",
    "plt.title('correlation between features', fontsize=40)\n",
    "plt.show()"
   ]
  },
  {
   "cell_type": "code",
   "execution_count": 38,
   "metadata": {
    "colab": {
     "base_uri": "https://localhost:8080/",
     "height": 508
    },
    "executionInfo": {
     "elapsed": 8,
     "status": "ok",
     "timestamp": 1640858014044,
     "user": {
      "displayName": "알거없다",
      "photoUrl": "https://lh3.googleusercontent.com/a/default-user=s64",
      "userId": "12956811673456235187"
     },
     "user_tz": -540
    },
    "id": "u3v2Tu4DOz8d",
    "outputId": "14ea32fa-6086-4b3e-da80-f4b00e2e1c91"
   },
   "outputs": [
    {
     "data": {
      "text/html": [
       "<div>\n",
       "<style scoped>\n",
       "    .dataframe tbody tr th:only-of-type {\n",
       "        vertical-align: middle;\n",
       "    }\n",
       "\n",
       "    .dataframe tbody tr th {\n",
       "        vertical-align: top;\n",
       "    }\n",
       "\n",
       "    .dataframe thead th {\n",
       "        text-align: right;\n",
       "    }\n",
       "</style>\n",
       "<table border=\"1\" class=\"dataframe\">\n",
       "  <thead>\n",
       "    <tr style=\"text-align: right;\">\n",
       "      <th></th>\n",
       "      <th>id</th>\n",
       "      <th>Species</th>\n",
       "      <th>Island</th>\n",
       "      <th>Clutch Completion</th>\n",
       "      <th>Culmen Length (mm)</th>\n",
       "      <th>Culmen Depth (mm)</th>\n",
       "      <th>Flipper Length (mm)</th>\n",
       "      <th>Sex</th>\n",
       "      <th>Delta 15 N (o/oo)</th>\n",
       "      <th>Delta 13 C (o/oo)</th>\n",
       "      <th>Body Mass (g)</th>\n",
       "    </tr>\n",
       "  </thead>\n",
       "  <tbody>\n",
       "    <tr>\n",
       "      <th>id</th>\n",
       "      <td>1.000000</td>\n",
       "      <td>0.112046</td>\n",
       "      <td>-0.082475</td>\n",
       "      <td>0.040823</td>\n",
       "      <td>0.078787</td>\n",
       "      <td>-0.144788</td>\n",
       "      <td>0.077909</td>\n",
       "      <td>-0.012769</td>\n",
       "      <td>-0.035484</td>\n",
       "      <td>0.024416</td>\n",
       "      <td>0.089186</td>\n",
       "    </tr>\n",
       "    <tr>\n",
       "      <th>Species</th>\n",
       "      <td>0.112046</td>\n",
       "      <td>1.000000</td>\n",
       "      <td>-0.719412</td>\n",
       "      <td>0.056322</td>\n",
       "      <td>0.716384</td>\n",
       "      <td>-0.747121</td>\n",
       "      <td>0.868122</td>\n",
       "      <td>-0.021280</td>\n",
       "      <td>-0.496627</td>\n",
       "      <td>-0.267908</td>\n",
       "      <td>0.734949</td>\n",
       "    </tr>\n",
       "    <tr>\n",
       "      <th>Island</th>\n",
       "      <td>-0.082475</td>\n",
       "      <td>-0.719412</td>\n",
       "      <td>1.000000</td>\n",
       "      <td>-0.110298</td>\n",
       "      <td>-0.401103</td>\n",
       "      <td>0.663206</td>\n",
       "      <td>-0.680380</td>\n",
       "      <td>0.019105</td>\n",
       "      <td>0.454373</td>\n",
       "      <td>0.391650</td>\n",
       "      <td>-0.628816</td>\n",
       "    </tr>\n",
       "    <tr>\n",
       "      <th>Clutch Completion</th>\n",
       "      <td>0.040823</td>\n",
       "      <td>0.056322</td>\n",
       "      <td>-0.110298</td>\n",
       "      <td>1.000000</td>\n",
       "      <td>-0.119988</td>\n",
       "      <td>-0.210304</td>\n",
       "      <td>0.105076</td>\n",
       "      <td>-0.112920</td>\n",
       "      <td>-0.277890</td>\n",
       "      <td>-0.291190</td>\n",
       "      <td>0.093065</td>\n",
       "    </tr>\n",
       "    <tr>\n",
       "      <th>Culmen Length (mm)</th>\n",
       "      <td>0.078787</td>\n",
       "      <td>0.716384</td>\n",
       "      <td>-0.401103</td>\n",
       "      <td>-0.119988</td>\n",
       "      <td>1.000000</td>\n",
       "      <td>-0.251255</td>\n",
       "      <td>0.672205</td>\n",
       "      <td>0.323774</td>\n",
       "      <td>-0.040205</td>\n",
       "      <td>0.114983</td>\n",
       "      <td>0.572063</td>\n",
       "    </tr>\n",
       "    <tr>\n",
       "      <th>Culmen Depth (mm)</th>\n",
       "      <td>-0.144788</td>\n",
       "      <td>-0.747121</td>\n",
       "      <td>0.663206</td>\n",
       "      <td>-0.210304</td>\n",
       "      <td>-0.251255</td>\n",
       "      <td>1.000000</td>\n",
       "      <td>-0.603341</td>\n",
       "      <td>0.369495</td>\n",
       "      <td>0.650629</td>\n",
       "      <td>0.477688</td>\n",
       "      <td>-0.490643</td>\n",
       "    </tr>\n",
       "    <tr>\n",
       "      <th>Flipper Length (mm)</th>\n",
       "      <td>0.077909</td>\n",
       "      <td>0.868122</td>\n",
       "      <td>-0.680380</td>\n",
       "      <td>0.105076</td>\n",
       "      <td>0.672205</td>\n",
       "      <td>-0.603341</td>\n",
       "      <td>1.000000</td>\n",
       "      <td>0.250558</td>\n",
       "      <td>-0.533212</td>\n",
       "      <td>-0.454315</td>\n",
       "      <td>0.864814</td>\n",
       "    </tr>\n",
       "    <tr>\n",
       "      <th>Sex</th>\n",
       "      <td>-0.012769</td>\n",
       "      <td>-0.021280</td>\n",
       "      <td>0.019105</td>\n",
       "      <td>-0.112920</td>\n",
       "      <td>0.323774</td>\n",
       "      <td>0.369495</td>\n",
       "      <td>0.250558</td>\n",
       "      <td>1.000000</td>\n",
       "      <td>0.136194</td>\n",
       "      <td>-0.099384</td>\n",
       "      <td>0.420227</td>\n",
       "    </tr>\n",
       "    <tr>\n",
       "      <th>Delta 15 N (o/oo)</th>\n",
       "      <td>-0.035484</td>\n",
       "      <td>-0.496627</td>\n",
       "      <td>0.454373</td>\n",
       "      <td>-0.277890</td>\n",
       "      <td>-0.040205</td>\n",
       "      <td>0.650629</td>\n",
       "      <td>-0.533212</td>\n",
       "      <td>0.136194</td>\n",
       "      <td>1.000000</td>\n",
       "      <td>0.641107</td>\n",
       "      <td>-0.548678</td>\n",
       "    </tr>\n",
       "    <tr>\n",
       "      <th>Delta 13 C (o/oo)</th>\n",
       "      <td>0.024416</td>\n",
       "      <td>-0.267908</td>\n",
       "      <td>0.391650</td>\n",
       "      <td>-0.291190</td>\n",
       "      <td>0.114983</td>\n",
       "      <td>0.477688</td>\n",
       "      <td>-0.454315</td>\n",
       "      <td>-0.099384</td>\n",
       "      <td>0.641107</td>\n",
       "      <td>1.000000</td>\n",
       "      <td>-0.468425</td>\n",
       "    </tr>\n",
       "    <tr>\n",
       "      <th>Body Mass (g)</th>\n",
       "      <td>0.089186</td>\n",
       "      <td>0.734949</td>\n",
       "      <td>-0.628816</td>\n",
       "      <td>0.093065</td>\n",
       "      <td>0.572063</td>\n",
       "      <td>-0.490643</td>\n",
       "      <td>0.864814</td>\n",
       "      <td>0.420227</td>\n",
       "      <td>-0.548678</td>\n",
       "      <td>-0.468425</td>\n",
       "      <td>1.000000</td>\n",
       "    </tr>\n",
       "  </tbody>\n",
       "</table>\n",
       "</div>"
      ],
      "text/plain": [
       "                           id   Species    Island  Clutch Completion  \\\n",
       "id                   1.000000  0.112046 -0.082475           0.040823   \n",
       "Species              0.112046  1.000000 -0.719412           0.056322   \n",
       "Island              -0.082475 -0.719412  1.000000          -0.110298   \n",
       "Clutch Completion    0.040823  0.056322 -0.110298           1.000000   \n",
       "Culmen Length (mm)   0.078787  0.716384 -0.401103          -0.119988   \n",
       "Culmen Depth (mm)   -0.144788 -0.747121  0.663206          -0.210304   \n",
       "Flipper Length (mm)  0.077909  0.868122 -0.680380           0.105076   \n",
       "Sex                 -0.012769 -0.021280  0.019105          -0.112920   \n",
       "Delta 15 N (o/oo)   -0.035484 -0.496627  0.454373          -0.277890   \n",
       "Delta 13 C (o/oo)    0.024416 -0.267908  0.391650          -0.291190   \n",
       "Body Mass (g)        0.089186  0.734949 -0.628816           0.093065   \n",
       "\n",
       "                     Culmen Length (mm)  Culmen Depth (mm)  \\\n",
       "id                             0.078787          -0.144788   \n",
       "Species                        0.716384          -0.747121   \n",
       "Island                        -0.401103           0.663206   \n",
       "Clutch Completion             -0.119988          -0.210304   \n",
       "Culmen Length (mm)             1.000000          -0.251255   \n",
       "Culmen Depth (mm)             -0.251255           1.000000   \n",
       "Flipper Length (mm)            0.672205          -0.603341   \n",
       "Sex                            0.323774           0.369495   \n",
       "Delta 15 N (o/oo)             -0.040205           0.650629   \n",
       "Delta 13 C (o/oo)              0.114983           0.477688   \n",
       "Body Mass (g)                  0.572063          -0.490643   \n",
       "\n",
       "                     Flipper Length (mm)       Sex  Delta 15 N (o/oo)  \\\n",
       "id                              0.077909 -0.012769          -0.035484   \n",
       "Species                         0.868122 -0.021280          -0.496627   \n",
       "Island                         -0.680380  0.019105           0.454373   \n",
       "Clutch Completion               0.105076 -0.112920          -0.277890   \n",
       "Culmen Length (mm)              0.672205  0.323774          -0.040205   \n",
       "Culmen Depth (mm)              -0.603341  0.369495           0.650629   \n",
       "Flipper Length (mm)             1.000000  0.250558          -0.533212   \n",
       "Sex                             0.250558  1.000000           0.136194   \n",
       "Delta 15 N (o/oo)              -0.533212  0.136194           1.000000   \n",
       "Delta 13 C (o/oo)              -0.454315 -0.099384           0.641107   \n",
       "Body Mass (g)                   0.864814  0.420227          -0.548678   \n",
       "\n",
       "                     Delta 13 C (o/oo)  Body Mass (g)  \n",
       "id                            0.024416       0.089186  \n",
       "Species                      -0.267908       0.734949  \n",
       "Island                        0.391650      -0.628816  \n",
       "Clutch Completion            -0.291190       0.093065  \n",
       "Culmen Length (mm)            0.114983       0.572063  \n",
       "Culmen Depth (mm)             0.477688      -0.490643  \n",
       "Flipper Length (mm)          -0.454315       0.864814  \n",
       "Sex                          -0.099384       0.420227  \n",
       "Delta 15 N (o/oo)             0.641107      -0.548678  \n",
       "Delta 13 C (o/oo)             1.000000      -0.468425  \n",
       "Body Mass (g)                -0.468425       1.000000  "
      ]
     },
     "execution_count": 38,
     "metadata": {},
     "output_type": "execute_result"
    }
   ],
   "source": [
    "corr_df.corr()"
   ]
  },
  {
   "cell_type": "code",
   "execution_count": 39,
   "metadata": {
    "colab": {
     "base_uri": "https://localhost:8080/"
    },
    "executionInfo": {
     "elapsed": 569,
     "status": "ok",
     "timestamp": 1640858014606,
     "user": {
      "displayName": "알거없다",
      "photoUrl": "https://lh3.googleusercontent.com/a/default-user=s64",
      "userId": "12956811673456235187"
     },
     "user_tz": -540
    },
    "id": "6iwNcGN0Oz22",
    "outputId": "ff70fb01-3d86-4958-f4da-005a7737ada6"
   },
   "outputs": [
    {
     "data": {
      "text/plain": [
       "array([[0., 0., 0., 0., 0., 0., 0., 0., 0., 0., 0.],\n",
       "       [0., 0., 0., 0., 0., 0., 0., 0., 0., 0., 0.],\n",
       "       [0., 0., 0., 0., 0., 0., 0., 0., 0., 0., 0.],\n",
       "       [0., 0., 0., 0., 0., 0., 0., 0., 0., 0., 0.],\n",
       "       [0., 0., 0., 0., 0., 0., 0., 0., 0., 0., 0.],\n",
       "       [0., 0., 0., 0., 0., 0., 0., 0., 0., 0., 0.],\n",
       "       [0., 0., 0., 0., 0., 0., 0., 0., 0., 0., 0.],\n",
       "       [0., 0., 0., 0., 0., 0., 0., 0., 0., 0., 0.],\n",
       "       [0., 0., 0., 0., 0., 0., 0., 0., 0., 0., 0.],\n",
       "       [0., 0., 0., 0., 0., 0., 0., 0., 0., 0., 0.],\n",
       "       [0., 0., 0., 0., 0., 0., 0., 0., 0., 0., 0.]])"
      ]
     },
     "execution_count": 39,
     "metadata": {},
     "output_type": "execute_result"
    }
   ],
   "source": [
    "np.zeros_like(heat_table)"
   ]
  },
  {
   "cell_type": "code",
   "execution_count": 40,
   "metadata": {
    "colab": {
     "base_uri": "https://localhost:8080/"
    },
    "executionInfo": {
     "elapsed": 11,
     "status": "ok",
     "timestamp": 1640858014607,
     "user": {
      "displayName": "알거없다",
      "photoUrl": "https://lh3.googleusercontent.com/a/default-user=s64",
      "userId": "12956811673456235187"
     },
     "user_tz": -540
    },
    "id": "jdQy4XeuOzy8",
    "outputId": "3828c4e1-d119-4c3d-9190-7c504178f1e4"
   },
   "outputs": [
    {
     "data": {
      "text/plain": [
       "(array([ 0,  0,  0,  0,  0,  0,  0,  0,  0,  0,  0,  1,  1,  1,  1,  1,  1,\n",
       "         1,  1,  1,  1,  2,  2,  2,  2,  2,  2,  2,  2,  2,  3,  3,  3,  3,\n",
       "         3,  3,  3,  3,  4,  4,  4,  4,  4,  4,  4,  5,  5,  5,  5,  5,  5,\n",
       "         6,  6,  6,  6,  6,  7,  7,  7,  7,  8,  8,  8,  9,  9, 10],\n",
       "       dtype=int64),\n",
       " array([ 0,  1,  2,  3,  4,  5,  6,  7,  8,  9, 10,  1,  2,  3,  4,  5,  6,\n",
       "         7,  8,  9, 10,  2,  3,  4,  5,  6,  7,  8,  9, 10,  3,  4,  5,  6,\n",
       "         7,  8,  9, 10,  4,  5,  6,  7,  8,  9, 10,  5,  6,  7,  8,  9, 10,\n",
       "         6,  7,  8,  9, 10,  7,  8,  9, 10,  8,  9, 10,  9, 10, 10],\n",
       "       dtype=int64))"
      ]
     },
     "execution_count": 40,
     "metadata": {},
     "output_type": "execute_result"
    }
   ],
   "source": [
    "np.triu_indices_from(mask)"
   ]
  },
  {
   "cell_type": "code",
   "execution_count": null,
   "metadata": {},
   "outputs": [],
   "source": []
  },
  {
   "cell_type": "code",
   "execution_count": null,
   "metadata": {},
   "outputs": [],
   "source": []
  }
 ],
 "metadata": {
  "colab": {
   "authorship_tag": "ABX9TyPO8qCqs6wbHvTwT1/PFMda",
   "mount_file_id": "1E0RmQgaR9a2glpUHan4DnfrYgvPL_ylr",
   "name": "main.ipynb",
   "provenance": []
  },
  "kernelspec": {
   "display_name": "Python 3",
   "language": "python",
   "name": "python3"
  },
  "language_info": {
   "codemirror_mode": {
    "name": "ipython",
    "version": 3
   },
   "file_extension": ".py",
   "mimetype": "text/x-python",
   "name": "python",
   "nbconvert_exporter": "python",
   "pygments_lexer": "ipython3",
   "version": "3.8.8"
  }
 },
 "nbformat": 4,
 "nbformat_minor": 1
}
